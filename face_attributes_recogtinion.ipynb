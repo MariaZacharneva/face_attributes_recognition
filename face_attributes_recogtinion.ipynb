{
  "cells": [
    {
      "cell_type": "code",
      "execution_count": 18,
      "metadata": {
        "colab": {
          "base_uri": "https://localhost:8080/"
        },
        "id": "FldVKUYwt5Jx",
        "outputId": "a4668c96-e5f5-4f82-8913-cd2eda5bcf3c"
      },
      "outputs": [
        {
          "output_type": "stream",
          "name": "stdout",
          "text": [
            "Drive already mounted at /content/drive; to attempt to forcibly remount, call drive.mount(\"/content/drive\", force_remount=True).\n"
          ]
        }
      ],
      "source": [
        "from google.colab import drive\n",
        "drive.mount('/content/drive')"
      ],
      "id": "FldVKUYwt5Jx"
    },
    {
      "cell_type": "markdown",
      "metadata": {
        "id": "statistical-original"
      },
      "source": [
        "# Распознавание атрибутов лица"
      ],
      "id": "statistical-original"
    },
    {
      "cell_type": "code",
      "execution_count": 19,
      "metadata": {
        "id": "blind-hierarchy"
      },
      "outputs": [],
      "source": [
        "%matplotlib inline\n",
        "import time\n",
        "import pandas as pd\n",
        "import numpy as np\n",
        "import matplotlib.pyplot as plt\n",
        "import seaborn as sns\n",
        "from PIL import Image"
      ],
      "id": "blind-hierarchy"
    },
    {
      "cell_type": "markdown",
      "metadata": {
        "id": "referenced-church"
      },
      "source": [
        "## Исследование данных"
      ],
      "id": "referenced-church"
    },
    {
      "cell_type": "markdown",
      "metadata": {
        "id": "precious-athletics"
      },
      "source": [
        "Для начала загрузим данные. В оригинальном датасете используется 1, если атрибут присутствует, и -1, если нет, но нам удобнее использовать 1 и 0."
      ],
      "id": "precious-athletics"
    },
    {
      "cell_type": "code",
      "execution_count": 20,
      "metadata": {
        "colab": {
          "base_uri": "https://localhost:8080/",
          "height": 383
        },
        "id": "dated-milwaukee",
        "outputId": "b44d1fa0-3481-4440-b93f-bf2d438497cc"
      },
      "outputs": [
        {
          "output_type": "execute_result",
          "data": {
            "text/html": [
              "<div>\n",
              "<style scoped>\n",
              "    .dataframe tbody tr th:only-of-type {\n",
              "        vertical-align: middle;\n",
              "    }\n",
              "\n",
              "    .dataframe tbody tr th {\n",
              "        vertical-align: top;\n",
              "    }\n",
              "\n",
              "    .dataframe thead th {\n",
              "        text-align: right;\n",
              "    }\n",
              "</style>\n",
              "<table border=\"1\" class=\"dataframe\">\n",
              "  <thead>\n",
              "    <tr style=\"text-align: right;\">\n",
              "      <th></th>\n",
              "      <th>5_o_Clock_Shadow</th>\n",
              "      <th>Arched_Eyebrows</th>\n",
              "      <th>Attractive</th>\n",
              "      <th>Bags_Under_Eyes</th>\n",
              "      <th>Bald</th>\n",
              "      <th>Bangs</th>\n",
              "      <th>Big_Lips</th>\n",
              "      <th>Big_Nose</th>\n",
              "      <th>Black_Hair</th>\n",
              "      <th>Blond_Hair</th>\n",
              "      <th>Blurry</th>\n",
              "      <th>Brown_Hair</th>\n",
              "      <th>Bushy_Eyebrows</th>\n",
              "      <th>Chubby</th>\n",
              "      <th>Double_Chin</th>\n",
              "      <th>Eyeglasses</th>\n",
              "      <th>Goatee</th>\n",
              "      <th>Gray_Hair</th>\n",
              "      <th>Heavy_Makeup</th>\n",
              "      <th>High_Cheekbones</th>\n",
              "      <th>Male</th>\n",
              "      <th>Mouth_Slightly_Open</th>\n",
              "      <th>Mustache</th>\n",
              "      <th>Narrow_Eyes</th>\n",
              "      <th>No_Beard</th>\n",
              "      <th>Oval_Face</th>\n",
              "      <th>Pale_Skin</th>\n",
              "      <th>Pointy_Nose</th>\n",
              "      <th>Receding_Hairline</th>\n",
              "      <th>Rosy_Cheeks</th>\n",
              "      <th>Sideburns</th>\n",
              "      <th>Smiling</th>\n",
              "      <th>Straight_Hair</th>\n",
              "      <th>Wavy_Hair</th>\n",
              "      <th>Wearing_Earrings</th>\n",
              "      <th>Wearing_Hat</th>\n",
              "      <th>Wearing_Lipstick</th>\n",
              "      <th>Wearing_Necklace</th>\n",
              "      <th>Wearing_Necktie</th>\n",
              "      <th>Young</th>\n",
              "    </tr>\n",
              "  </thead>\n",
              "  <tbody>\n",
              "    <tr>\n",
              "      <th>000001.jpg</th>\n",
              "      <td>0</td>\n",
              "      <td>1</td>\n",
              "      <td>1</td>\n",
              "      <td>0</td>\n",
              "      <td>0</td>\n",
              "      <td>0</td>\n",
              "      <td>0</td>\n",
              "      <td>0</td>\n",
              "      <td>0</td>\n",
              "      <td>0</td>\n",
              "      <td>0</td>\n",
              "      <td>1</td>\n",
              "      <td>0</td>\n",
              "      <td>0</td>\n",
              "      <td>0</td>\n",
              "      <td>0</td>\n",
              "      <td>0</td>\n",
              "      <td>0</td>\n",
              "      <td>1</td>\n",
              "      <td>1</td>\n",
              "      <td>0</td>\n",
              "      <td>1</td>\n",
              "      <td>0</td>\n",
              "      <td>0</td>\n",
              "      <td>1</td>\n",
              "      <td>0</td>\n",
              "      <td>0</td>\n",
              "      <td>1</td>\n",
              "      <td>0</td>\n",
              "      <td>0</td>\n",
              "      <td>0</td>\n",
              "      <td>1</td>\n",
              "      <td>1</td>\n",
              "      <td>0</td>\n",
              "      <td>1</td>\n",
              "      <td>0</td>\n",
              "      <td>1</td>\n",
              "      <td>0</td>\n",
              "      <td>0</td>\n",
              "      <td>1</td>\n",
              "    </tr>\n",
              "    <tr>\n",
              "      <th>000002.jpg</th>\n",
              "      <td>0</td>\n",
              "      <td>0</td>\n",
              "      <td>0</td>\n",
              "      <td>1</td>\n",
              "      <td>0</td>\n",
              "      <td>0</td>\n",
              "      <td>0</td>\n",
              "      <td>1</td>\n",
              "      <td>0</td>\n",
              "      <td>0</td>\n",
              "      <td>0</td>\n",
              "      <td>1</td>\n",
              "      <td>0</td>\n",
              "      <td>0</td>\n",
              "      <td>0</td>\n",
              "      <td>0</td>\n",
              "      <td>0</td>\n",
              "      <td>0</td>\n",
              "      <td>0</td>\n",
              "      <td>1</td>\n",
              "      <td>0</td>\n",
              "      <td>1</td>\n",
              "      <td>0</td>\n",
              "      <td>0</td>\n",
              "      <td>1</td>\n",
              "      <td>0</td>\n",
              "      <td>0</td>\n",
              "      <td>0</td>\n",
              "      <td>0</td>\n",
              "      <td>0</td>\n",
              "      <td>0</td>\n",
              "      <td>1</td>\n",
              "      <td>0</td>\n",
              "      <td>0</td>\n",
              "      <td>0</td>\n",
              "      <td>0</td>\n",
              "      <td>0</td>\n",
              "      <td>0</td>\n",
              "      <td>0</td>\n",
              "      <td>1</td>\n",
              "    </tr>\n",
              "    <tr>\n",
              "      <th>000003.jpg</th>\n",
              "      <td>0</td>\n",
              "      <td>0</td>\n",
              "      <td>0</td>\n",
              "      <td>0</td>\n",
              "      <td>0</td>\n",
              "      <td>0</td>\n",
              "      <td>1</td>\n",
              "      <td>0</td>\n",
              "      <td>0</td>\n",
              "      <td>0</td>\n",
              "      <td>1</td>\n",
              "      <td>0</td>\n",
              "      <td>0</td>\n",
              "      <td>0</td>\n",
              "      <td>0</td>\n",
              "      <td>0</td>\n",
              "      <td>0</td>\n",
              "      <td>0</td>\n",
              "      <td>0</td>\n",
              "      <td>0</td>\n",
              "      <td>1</td>\n",
              "      <td>0</td>\n",
              "      <td>0</td>\n",
              "      <td>1</td>\n",
              "      <td>1</td>\n",
              "      <td>0</td>\n",
              "      <td>0</td>\n",
              "      <td>1</td>\n",
              "      <td>0</td>\n",
              "      <td>0</td>\n",
              "      <td>0</td>\n",
              "      <td>0</td>\n",
              "      <td>0</td>\n",
              "      <td>1</td>\n",
              "      <td>0</td>\n",
              "      <td>0</td>\n",
              "      <td>0</td>\n",
              "      <td>0</td>\n",
              "      <td>0</td>\n",
              "      <td>1</td>\n",
              "    </tr>\n",
              "    <tr>\n",
              "      <th>000004.jpg</th>\n",
              "      <td>0</td>\n",
              "      <td>0</td>\n",
              "      <td>1</td>\n",
              "      <td>0</td>\n",
              "      <td>0</td>\n",
              "      <td>0</td>\n",
              "      <td>0</td>\n",
              "      <td>0</td>\n",
              "      <td>0</td>\n",
              "      <td>0</td>\n",
              "      <td>0</td>\n",
              "      <td>0</td>\n",
              "      <td>0</td>\n",
              "      <td>0</td>\n",
              "      <td>0</td>\n",
              "      <td>0</td>\n",
              "      <td>0</td>\n",
              "      <td>0</td>\n",
              "      <td>0</td>\n",
              "      <td>0</td>\n",
              "      <td>0</td>\n",
              "      <td>0</td>\n",
              "      <td>0</td>\n",
              "      <td>0</td>\n",
              "      <td>1</td>\n",
              "      <td>0</td>\n",
              "      <td>0</td>\n",
              "      <td>1</td>\n",
              "      <td>0</td>\n",
              "      <td>0</td>\n",
              "      <td>0</td>\n",
              "      <td>0</td>\n",
              "      <td>1</td>\n",
              "      <td>0</td>\n",
              "      <td>1</td>\n",
              "      <td>0</td>\n",
              "      <td>1</td>\n",
              "      <td>1</td>\n",
              "      <td>0</td>\n",
              "      <td>1</td>\n",
              "    </tr>\n",
              "    <tr>\n",
              "      <th>000005.jpg</th>\n",
              "      <td>0</td>\n",
              "      <td>1</td>\n",
              "      <td>1</td>\n",
              "      <td>0</td>\n",
              "      <td>0</td>\n",
              "      <td>0</td>\n",
              "      <td>1</td>\n",
              "      <td>0</td>\n",
              "      <td>0</td>\n",
              "      <td>0</td>\n",
              "      <td>0</td>\n",
              "      <td>0</td>\n",
              "      <td>0</td>\n",
              "      <td>0</td>\n",
              "      <td>0</td>\n",
              "      <td>0</td>\n",
              "      <td>0</td>\n",
              "      <td>0</td>\n",
              "      <td>1</td>\n",
              "      <td>0</td>\n",
              "      <td>0</td>\n",
              "      <td>0</td>\n",
              "      <td>0</td>\n",
              "      <td>1</td>\n",
              "      <td>1</td>\n",
              "      <td>0</td>\n",
              "      <td>0</td>\n",
              "      <td>1</td>\n",
              "      <td>0</td>\n",
              "      <td>0</td>\n",
              "      <td>0</td>\n",
              "      <td>0</td>\n",
              "      <td>0</td>\n",
              "      <td>0</td>\n",
              "      <td>0</td>\n",
              "      <td>0</td>\n",
              "      <td>1</td>\n",
              "      <td>0</td>\n",
              "      <td>0</td>\n",
              "      <td>1</td>\n",
              "    </tr>\n",
              "    <tr>\n",
              "      <th>000006.jpg</th>\n",
              "      <td>0</td>\n",
              "      <td>1</td>\n",
              "      <td>1</td>\n",
              "      <td>0</td>\n",
              "      <td>0</td>\n",
              "      <td>0</td>\n",
              "      <td>1</td>\n",
              "      <td>0</td>\n",
              "      <td>0</td>\n",
              "      <td>0</td>\n",
              "      <td>0</td>\n",
              "      <td>1</td>\n",
              "      <td>0</td>\n",
              "      <td>0</td>\n",
              "      <td>0</td>\n",
              "      <td>0</td>\n",
              "      <td>0</td>\n",
              "      <td>0</td>\n",
              "      <td>1</td>\n",
              "      <td>0</td>\n",
              "      <td>0</td>\n",
              "      <td>1</td>\n",
              "      <td>0</td>\n",
              "      <td>0</td>\n",
              "      <td>1</td>\n",
              "      <td>0</td>\n",
              "      <td>0</td>\n",
              "      <td>0</td>\n",
              "      <td>0</td>\n",
              "      <td>0</td>\n",
              "      <td>0</td>\n",
              "      <td>0</td>\n",
              "      <td>0</td>\n",
              "      <td>1</td>\n",
              "      <td>1</td>\n",
              "      <td>0</td>\n",
              "      <td>1</td>\n",
              "      <td>0</td>\n",
              "      <td>0</td>\n",
              "      <td>1</td>\n",
              "    </tr>\n",
              "    <tr>\n",
              "      <th>000007.jpg</th>\n",
              "      <td>1</td>\n",
              "      <td>0</td>\n",
              "      <td>1</td>\n",
              "      <td>1</td>\n",
              "      <td>0</td>\n",
              "      <td>0</td>\n",
              "      <td>1</td>\n",
              "      <td>1</td>\n",
              "      <td>1</td>\n",
              "      <td>0</td>\n",
              "      <td>0</td>\n",
              "      <td>0</td>\n",
              "      <td>1</td>\n",
              "      <td>0</td>\n",
              "      <td>0</td>\n",
              "      <td>0</td>\n",
              "      <td>0</td>\n",
              "      <td>0</td>\n",
              "      <td>0</td>\n",
              "      <td>0</td>\n",
              "      <td>1</td>\n",
              "      <td>0</td>\n",
              "      <td>0</td>\n",
              "      <td>0</td>\n",
              "      <td>1</td>\n",
              "      <td>0</td>\n",
              "      <td>0</td>\n",
              "      <td>1</td>\n",
              "      <td>0</td>\n",
              "      <td>0</td>\n",
              "      <td>0</td>\n",
              "      <td>0</td>\n",
              "      <td>1</td>\n",
              "      <td>0</td>\n",
              "      <td>0</td>\n",
              "      <td>0</td>\n",
              "      <td>0</td>\n",
              "      <td>0</td>\n",
              "      <td>0</td>\n",
              "      <td>1</td>\n",
              "    </tr>\n",
              "    <tr>\n",
              "      <th>000008.jpg</th>\n",
              "      <td>1</td>\n",
              "      <td>1</td>\n",
              "      <td>0</td>\n",
              "      <td>1</td>\n",
              "      <td>0</td>\n",
              "      <td>0</td>\n",
              "      <td>1</td>\n",
              "      <td>0</td>\n",
              "      <td>1</td>\n",
              "      <td>0</td>\n",
              "      <td>0</td>\n",
              "      <td>0</td>\n",
              "      <td>0</td>\n",
              "      <td>0</td>\n",
              "      <td>0</td>\n",
              "      <td>0</td>\n",
              "      <td>0</td>\n",
              "      <td>0</td>\n",
              "      <td>0</td>\n",
              "      <td>0</td>\n",
              "      <td>1</td>\n",
              "      <td>0</td>\n",
              "      <td>0</td>\n",
              "      <td>0</td>\n",
              "      <td>1</td>\n",
              "      <td>0</td>\n",
              "      <td>0</td>\n",
              "      <td>1</td>\n",
              "      <td>0</td>\n",
              "      <td>0</td>\n",
              "      <td>0</td>\n",
              "      <td>0</td>\n",
              "      <td>0</td>\n",
              "      <td>0</td>\n",
              "      <td>0</td>\n",
              "      <td>0</td>\n",
              "      <td>0</td>\n",
              "      <td>0</td>\n",
              "      <td>0</td>\n",
              "      <td>1</td>\n",
              "    </tr>\n",
              "    <tr>\n",
              "      <th>000009.jpg</th>\n",
              "      <td>0</td>\n",
              "      <td>1</td>\n",
              "      <td>1</td>\n",
              "      <td>0</td>\n",
              "      <td>0</td>\n",
              "      <td>1</td>\n",
              "      <td>1</td>\n",
              "      <td>0</td>\n",
              "      <td>0</td>\n",
              "      <td>0</td>\n",
              "      <td>0</td>\n",
              "      <td>0</td>\n",
              "      <td>0</td>\n",
              "      <td>0</td>\n",
              "      <td>0</td>\n",
              "      <td>0</td>\n",
              "      <td>0</td>\n",
              "      <td>0</td>\n",
              "      <td>1</td>\n",
              "      <td>1</td>\n",
              "      <td>0</td>\n",
              "      <td>1</td>\n",
              "      <td>0</td>\n",
              "      <td>0</td>\n",
              "      <td>1</td>\n",
              "      <td>1</td>\n",
              "      <td>0</td>\n",
              "      <td>1</td>\n",
              "      <td>0</td>\n",
              "      <td>1</td>\n",
              "      <td>0</td>\n",
              "      <td>1</td>\n",
              "      <td>0</td>\n",
              "      <td>0</td>\n",
              "      <td>1</td>\n",
              "      <td>0</td>\n",
              "      <td>1</td>\n",
              "      <td>0</td>\n",
              "      <td>0</td>\n",
              "      <td>1</td>\n",
              "    </tr>\n",
              "    <tr>\n",
              "      <th>000010.jpg</th>\n",
              "      <td>0</td>\n",
              "      <td>0</td>\n",
              "      <td>1</td>\n",
              "      <td>0</td>\n",
              "      <td>0</td>\n",
              "      <td>0</td>\n",
              "      <td>0</td>\n",
              "      <td>0</td>\n",
              "      <td>0</td>\n",
              "      <td>0</td>\n",
              "      <td>0</td>\n",
              "      <td>0</td>\n",
              "      <td>0</td>\n",
              "      <td>0</td>\n",
              "      <td>0</td>\n",
              "      <td>0</td>\n",
              "      <td>0</td>\n",
              "      <td>0</td>\n",
              "      <td>1</td>\n",
              "      <td>1</td>\n",
              "      <td>0</td>\n",
              "      <td>0</td>\n",
              "      <td>0</td>\n",
              "      <td>0</td>\n",
              "      <td>1</td>\n",
              "      <td>0</td>\n",
              "      <td>0</td>\n",
              "      <td>0</td>\n",
              "      <td>0</td>\n",
              "      <td>0</td>\n",
              "      <td>0</td>\n",
              "      <td>0</td>\n",
              "      <td>0</td>\n",
              "      <td>1</td>\n",
              "      <td>0</td>\n",
              "      <td>0</td>\n",
              "      <td>1</td>\n",
              "      <td>0</td>\n",
              "      <td>0</td>\n",
              "      <td>1</td>\n",
              "    </tr>\n",
              "  </tbody>\n",
              "</table>\n",
              "</div>"
            ],
            "text/plain": [
              "            5_o_Clock_Shadow  Arched_Eyebrows  ...  Wearing_Necktie  Young\n",
              "000001.jpg                 0                1  ...                0      1\n",
              "000002.jpg                 0                0  ...                0      1\n",
              "000003.jpg                 0                0  ...                0      1\n",
              "000004.jpg                 0                0  ...                0      1\n",
              "000005.jpg                 0                1  ...                0      1\n",
              "000006.jpg                 0                1  ...                0      1\n",
              "000007.jpg                 1                0  ...                0      1\n",
              "000008.jpg                 1                1  ...                0      1\n",
              "000009.jpg                 0                1  ...                0      1\n",
              "000010.jpg                 0                0  ...                0      1\n",
              "\n",
              "[10 rows x 40 columns]"
            ]
          },
          "metadata": {},
          "execution_count": 20
        }
      ],
      "source": [
        "PATH = '/content/drive/MyDrive/content/'\n",
        "IMAGE_PATH = '/content/drive/MyDrive/content/img_align_celeba_17k/img_align_celeba/'\n",
        "df_attr = pd.read_csv(PATH + 'list_attr_celeba.txt', engine='python', delimiter=' +')\n",
        "df_attr.replace(to_replace=-1, value=0, inplace=True)\n",
        "df_attr.head(10)"
      ],
      "id": "dated-milwaukee"
    },
    {
      "cell_type": "code",
      "execution_count": 21,
      "metadata": {
        "colab": {
          "base_uri": "https://localhost:8080/"
        },
        "id": "ordered-michigan",
        "outputId": "3f96451d-885b-47f4-e1bb-18e12ede60b4"
      },
      "outputs": [
        {
          "output_type": "execute_result",
          "data": {
            "text/plain": [
              "(202599, 40)"
            ]
          },
          "metadata": {},
          "execution_count": 21
        }
      ],
      "source": [
        "df_attr.shape"
      ],
      "id": "ordered-michigan"
    },
    {
      "cell_type": "markdown",
      "metadata": {
        "id": "italic-richards"
      },
      "source": [
        "Посмотрим, как же выглядят эти картинки в действительности."
      ],
      "id": "italic-richards"
    },
    {
      "cell_type": "code",
      "execution_count": 22,
      "metadata": {
        "id": "taken-objective",
        "colab": {
          "base_uri": "https://localhost:8080/",
          "height": 391
        },
        "outputId": "6c9d36cf-4afa-4cb3-e69c-435cd611fa0b"
      },
      "outputs": [
        {
          "output_type": "stream",
          "name": "stdout",
          "text": [
            "Bags_Under_Eyes        1\n",
            "Big_Nose               1\n",
            "Brown_Hair             1\n",
            "High_Cheekbones        1\n",
            "Mouth_Slightly_Open    1\n",
            "No_Beard               1\n",
            "Smiling                1\n",
            "Young                  1\n",
            "Name: 000002.jpg, dtype: int64\n"
          ]
        },
        {
          "output_type": "execute_result",
          "data": {
            "image/png": "[encoded data removed]",
            "text/plain": [
              "<PIL.JpegImagePlugin.JpegImageFile image mode=RGB size=178x218 at 0x7F1C19864B10>"
            ]
          },
          "metadata": {},
          "execution_count": 22
        }
      ],
      "source": [
        "example = '000002.jpg'\n",
        "big_img = Image.open(IMAGE_PATH + example)\n",
        "print(df_attr.loc[example][df_attr.loc[example] == 1])\n",
        "big_img"
      ],
      "id": "taken-objective"
    },
    {
      "cell_type": "markdown",
      "metadata": {
        "id": "amber-sensitivity"
      },
      "source": [
        "В рамках данной работы я рассматриваю только 17000 из предложенных изображений, поэтому можно сразу уменьшить наш датасет."
      ],
      "id": "amber-sensitivity"
    },
    {
      "cell_type": "code",
      "execution_count": 23,
      "metadata": {
        "id": "answering-advance",
        "colab": {
          "base_uri": "https://localhost:8080/"
        },
        "outputId": "3e3ba957-7ef7-479f-b93e-73b250238419"
      },
      "outputs": [
        {
          "output_type": "execute_result",
          "data": {
            "text/plain": [
              "(17000, 40)"
            ]
          },
          "metadata": {},
          "execution_count": 23
        }
      ],
      "source": [
        "df_size = 17000\n",
        "df_attr = df_attr[:df_size]\n",
        "df_attr.shape"
      ],
      "id": "answering-advance"
    },
    {
      "cell_type": "code",
      "execution_count": 24,
      "metadata": {
        "id": "considerable-waters"
      },
      "outputs": [],
      "source": [
        "all_attributes = df_attr.columns"
      ],
      "id": "considerable-waters"
    },
    {
      "cell_type": "markdown",
      "metadata": {
        "id": "forty-stylus"
      },
      "source": [
        "У меня не стоит цель научиться распознавать абсолютно все атрибуты лица, поэтому я хочу выбрать некоторые из них, и в дальнейшем работать только с ними. Для большего интереса выберем признаки с различным распределением. Рассмотрим, какие признаки сбалансированы, а какие нет.\n",
        "\n",
        "Важно не забывать, что сейчас мы исследуем не признаки (признаком является само изображение), а метки объектов."
      ],
      "id": "forty-stylus"
    },
    {
      "cell_type": "code",
      "execution_count": 25,
      "metadata": {
        "id": "hybrid-sunrise"
      },
      "outputs": [],
      "source": [
        "def PrintSortedData(condition, df):\n",
        "    sorted_map = {}\n",
        "    for attribute in all_attributes:\n",
        "        sorted_map[attribute] = condition(attribute, df)\n",
        "\n",
        "    for attr, value in sorted(sorted_map.items(), key=lambda item: item[1]):\n",
        "        spaces = ' ' * (20 - len(attr)) + '\\t'\n",
        "        print(attr, spaces, value)\n",
        "    return sorted_map"
      ],
      "id": "hybrid-sunrise"
    },
    {
      "cell_type": "code",
      "execution_count": 26,
      "metadata": {
        "id": "front-wholesale",
        "colab": {
          "base_uri": "https://localhost:8080/"
        },
        "outputId": "4b0ba09e-1a48-48c1-89b1-36cb54e4cdb2"
      },
      "outputs": [
        {
          "output_type": "stream",
          "name": "stdout",
          "text": [
            "Bald                 \t 0.024\n",
            "Mustache             \t 0.04\n",
            "Gray_Hair            \t 0.042\n",
            "Pale_Skin            \t 0.043\n",
            "Double_Chin          \t 0.046\n",
            "Blurry               \t 0.05\n",
            "Wearing_Hat          \t 0.05\n",
            "Chubby               \t 0.057\n",
            "Sideburns            \t 0.058\n",
            "Goatee               \t 0.063\n",
            "Rosy_Cheeks          \t 0.063\n",
            "Eyeglasses           \t 0.066\n",
            "Wearing_Necktie      \t 0.074\n",
            "Receding_Hairline    \t 0.077\n",
            "5_o_Clock_Shadow     \t 0.113\n",
            "Narrow_Eyes          \t 0.116\n",
            "Wearing_Necklace     \t 0.122\n",
            "Bushy_Eyebrows       \t 0.143\n",
            "Blond_Hair           \t 0.149\n",
            "Bangs                \t 0.15\n",
            "Wearing_Earrings     \t 0.187\n",
            "Bags_Under_Eyes      \t 0.204\n",
            "Brown_Hair           \t 0.205\n",
            "Straight_Hair        \t 0.212\n",
            "Big_Nose             \t 0.238\n",
            "Big_Lips             \t 0.239\n",
            "Black_Hair           \t 0.241\n",
            "Arched_Eyebrows      \t 0.265\n",
            "Pointy_Nose          \t 0.275\n",
            "Oval_Face            \t 0.278\n",
            "Wavy_Hair            \t 0.317\n",
            "Heavy_Makeup         \t 0.386\n",
            "Male                 \t 0.422\n",
            "High_Cheekbones      \t 0.45\n",
            "Wearing_Lipstick     \t 0.471\n",
            "Mouth_Slightly_Open  \t 0.479\n",
            "Smiling              \t 0.48\n",
            "Attractive           \t 0.513\n",
            "Young                \t 0.779\n",
            "No_Beard             \t 0.831\n"
          ]
        }
      ],
      "source": [
        "condition = lambda attr, df: round(df[attr].sum() / df_size, 3)\n",
        "balanse_map = PrintSortedData(condition, df_attr)"
      ],
      "id": "front-wholesale"
    },
    {
      "cell_type": "markdown",
      "metadata": {
        "id": "baking-nicaragua"
      },
      "source": [
        "Рассмотрим также взаимную корреляцию меток. В итоге я хочу сделать нейронную сеть, которая будет одновременно распознавать несколько признаков, поэтому интересно, будет ли влиять их взаимная корреляция. Иными словами, сможет ли сеть использовать знание об одной метке, чтобы лучше распознать другую."
      ],
      "id": "baking-nicaragua"
    },
    {
      "cell_type": "code",
      "execution_count": 27,
      "metadata": {
        "id": "higher-teens",
        "colab": {
          "base_uri": "https://localhost:8080/",
          "height": 1000
        },
        "outputId": "30017170-d9da-4075-fdc9-298f45b0cdb0"
      },
      "outputs": [
        {
          "output_type": "display_data",
          "data": {
            "image/png": "[encoded data removed]",
            "text/plain": [
              "<Figure size 2880x2160 with 2 Axes>"
            ]
          },
          "metadata": {
            "needs_background": "light"
          }
        }
      ],
      "source": [
        "f = plt.figure(figsize=(40, 30))\n",
        "\n",
        "plt.matshow(df_attr.corr(), fignum=f.number)\n",
        "\n",
        "plt.xticks(range(df_attr.select_dtypes(['number']).shape[1]), df_attr.select_dtypes(['number']).columns, fontsize=14, rotation=90)\n",
        "plt.yticks(range(df_attr.select_dtypes(['number']).shape[1]), df_attr.select_dtypes(['number']).columns, fontsize=14)\n",
        "\n",
        "cb = plt.colorbar()\n",
        "cb.ax.tick_params(labelsize=30)"
      ],
      "id": "higher-teens"
    },
    {
      "cell_type": "markdown",
      "metadata": {
        "id": "irish-amber"
      },
      "source": [
        "Можно увидеть некоторые очевидные корреляции: к примеру, мужчины никогда не используют помаду, поэтому эти два атрибута очень сильно скоррелированны. С другой стороны, яркая помада имеет сильную корреляцию с ярким макияжем."
      ],
      "id": "irish-amber"
    },
    {
      "cell_type": "markdown",
      "metadata": {
        "id": "immune-mississippi"
      },
      "source": [
        "Интересно выбрать пару скореллированных меток, и посмотреть, поможет ли это нейросети лучше их распознавать."
      ],
      "id": "immune-mississippi"
    },
    {
      "cell_type": "markdown",
      "metadata": {
        "id": "august-python"
      },
      "source": [
        "Выберем несколько меток с различными корреляциями и распределениями. В качестве хорошо сбалансированных меток возьмем Male, Wearing_Lipstick и Smiling. Первые две метки сильно скореллированы между собой, посмотрим, скажется ли это на том, насколько хорошо нейросети будут их распознавать. Дополнительно возьмем одну среднесбалансированную метку, к примеру, Big_Lips, и одну совсем плохо сбалансированную, например Mustache. На этих пяти метках и будем проводить наше исследование."
      ],
      "id": "august-python"
    },
    {
      "cell_type": "code",
      "execution_count": 28,
      "metadata": {
        "id": "patient-substitute"
      },
      "outputs": [],
      "source": [
        "attributes = ['Male', 'Wearing_Lipstick', 'Smiling', 'Big_Lips', 'Mustache']"
      ],
      "id": "patient-substitute"
    },
    {
      "cell_type": "markdown",
      "metadata": {
        "id": "spare-tomato"
      },
      "source": [
        "## Предварительная обработка данных"
      ],
      "id": "spare-tomato"
    },
    {
      "cell_type": "markdown",
      "metadata": {
        "id": "square-recognition"
      },
      "source": [
        "Попробуем преобразовать картинки в более удобный вид, в частности, в обычный вектор чисел. Для наглядности, сначала проведем преобразования только над первой картинкой. Дополнительно уменьшим размер, чтобы уменьшить время обучения."
      ],
      "id": "square-recognition"
    },
    {
      "cell_type": "code",
      "execution_count": 93,
      "metadata": {
        "id": "certain-comfort",
        "colab": {
          "base_uri": "https://localhost:8080/",
          "height": 143
        },
        "outputId": "588ab13c-e76b-48f2-ec33-f814f14f915d"
      },
      "outputs": [
        {
          "output_type": "stream",
          "name": "stdout",
          "text": [
            "(89, 109)\n"
          ]
        },
        {
          "output_type": "execute_result",
          "data": {
            "image/png": "[encoded data removed]",
            "text/plain": [
              "<PIL.Image.Image image mode=L size=89x109 at 0x7F1CA95ECE50>"
            ]
          },
          "metadata": {},
          "execution_count": 93
        }
      ],
      "source": [
        "compr_ratio = 2\n",
        "\n",
        "big_img = Image.open(IMAGE_PATH + example).convert('L')\n",
        "small_size = (big_img.size[0] // compr_ratio, big_img.size[1] // compr_ratio)\n",
        "img = big_img.resize(small_size)\n",
        "print(small_size)\n",
        "img"
      ],
      "id": "certain-comfort"
    },
    {
      "cell_type": "code",
      "execution_count": 94,
      "metadata": {
        "id": "southern-female",
        "colab": {
          "base_uri": "https://localhost:8080/"
        },
        "outputId": "8b9d075b-8211-41cd-b038-fbe2e0261e7a"
      },
      "outputs": [
        {
          "output_type": "stream",
          "name": "stdout",
          "text": [
            "[[0.21568628 0.21568628 0.21568628 ... 0.39607844 0.44313726 0.48235294]]\n",
            "(1, 9701)\n"
          ]
        }
      ],
      "source": [
        "from sklearn import preprocessing\n",
        "\n",
        "img_array = np.array(img)\n",
        "final_array = (np.concatenate(img_array).reshape(1, -1)).astype('float32') / 255\n",
        "print(final_array)\n",
        "image_size = final_array.size\n",
        "print(final_array.shape)"
      ],
      "id": "southern-female"
    },
    {
      "cell_type": "markdown",
      "metadata": {
        "id": "eight-eight"
      },
      "source": [
        "Теперь применим это ко всем картинкам, чтобы сформировать соответствующий DataFrame."
      ],
      "id": "eight-eight"
    },
    {
      "cell_type": "code",
      "execution_count": 95,
      "metadata": {
        "id": "conventional-breath"
      },
      "outputs": [],
      "source": [
        "def create_features_from_indexes(indexes, columns, verboze=1):\n",
        "    x = pd.DataFrame(index=indexes, columns=columns)\n",
        "    counter = 0\n",
        "    for img_index in indexes:\n",
        "        img = Image.open(IMAGE_PATH + img_index).convert('L').resize(small_size)\n",
        "        img_array = (np.concatenate(np.array(img)).reshape(1, -1)).astype('float32') / 255\n",
        "        x.loc[img_index] = img_array\n",
        "        counter += 1\n",
        "        if (verboze == 1 and counter % 1000 == 0):\n",
        "            print(counter)\n",
        "    return x"
      ],
      "id": "conventional-breath"
    },
    {
      "cell_type": "markdown",
      "metadata": {
        "id": "sealed-newman"
      },
      "source": [
        "Авторы рекомендуют разбивать данные на train и test следующим образом:\n",
        "> Recommended: \\\n",
        "1-162770 are training\\\n",
        "162771-182637 are validation\\\n",
        "182638-202599 are testing\n",
        "\n",
        "В рамках данной работы я не обладаю достаточными мощностями, для того чтобы рассматривать такое количество данных, поэтому выберем 4000 картинок для обучения, 1000 для валидации и 1000 для тестирования. Выбирать будем случайным образом из первых 17000 картинок."
      ],
      "id": "sealed-newman"
    },
    {
      "cell_type": "code",
      "execution_count": 96,
      "metadata": {
        "id": "weekly-calcium",
        "colab": {
          "base_uri": "https://localhost:8080/",
          "height": 461
        },
        "outputId": "e6876626-5e2e-4014-900f-12aa3d10c4d3"
      },
      "outputs": [
        {
          "output_type": "stream",
          "name": "stdout",
          "text": [
            "(4000, 40) (1000, 40) (1000, 40)\n"
          ]
        },
        {
          "output_type": "execute_result",
          "data": {
            "text/html": [
              "<div>\n",
              "<style scoped>\n",
              "    .dataframe tbody tr th:only-of-type {\n",
              "        vertical-align: middle;\n",
              "    }\n",
              "\n",
              "    .dataframe tbody tr th {\n",
              "        vertical-align: top;\n",
              "    }\n",
              "\n",
              "    .dataframe thead th {\n",
              "        text-align: right;\n",
              "    }\n",
              "</style>\n",
              "<table border=\"1\" class=\"dataframe\">\n",
              "  <thead>\n",
              "    <tr style=\"text-align: right;\">\n",
              "      <th></th>\n",
              "      <th>5_o_Clock_Shadow</th>\n",
              "      <th>Arched_Eyebrows</th>\n",
              "      <th>Attractive</th>\n",
              "      <th>Bags_Under_Eyes</th>\n",
              "      <th>Bald</th>\n",
              "      <th>Bangs</th>\n",
              "      <th>Big_Lips</th>\n",
              "      <th>Big_Nose</th>\n",
              "      <th>Black_Hair</th>\n",
              "      <th>Blond_Hair</th>\n",
              "      <th>Blurry</th>\n",
              "      <th>Brown_Hair</th>\n",
              "      <th>Bushy_Eyebrows</th>\n",
              "      <th>Chubby</th>\n",
              "      <th>Double_Chin</th>\n",
              "      <th>Eyeglasses</th>\n",
              "      <th>Goatee</th>\n",
              "      <th>Gray_Hair</th>\n",
              "      <th>Heavy_Makeup</th>\n",
              "      <th>High_Cheekbones</th>\n",
              "      <th>Male</th>\n",
              "      <th>Mouth_Slightly_Open</th>\n",
              "      <th>Mustache</th>\n",
              "      <th>Narrow_Eyes</th>\n",
              "      <th>No_Beard</th>\n",
              "      <th>Oval_Face</th>\n",
              "      <th>Pale_Skin</th>\n",
              "      <th>Pointy_Nose</th>\n",
              "      <th>Receding_Hairline</th>\n",
              "      <th>Rosy_Cheeks</th>\n",
              "      <th>Sideburns</th>\n",
              "      <th>Smiling</th>\n",
              "      <th>Straight_Hair</th>\n",
              "      <th>Wavy_Hair</th>\n",
              "      <th>Wearing_Earrings</th>\n",
              "      <th>Wearing_Hat</th>\n",
              "      <th>Wearing_Lipstick</th>\n",
              "      <th>Wearing_Necklace</th>\n",
              "      <th>Wearing_Necktie</th>\n",
              "      <th>Young</th>\n",
              "    </tr>\n",
              "  </thead>\n",
              "  <tbody>\n",
              "    <tr>\n",
              "      <th>002741.jpg</th>\n",
              "      <td>1</td>\n",
              "      <td>0</td>\n",
              "      <td>0</td>\n",
              "      <td>0</td>\n",
              "      <td>0</td>\n",
              "      <td>0</td>\n",
              "      <td>0</td>\n",
              "      <td>0</td>\n",
              "      <td>0</td>\n",
              "      <td>0</td>\n",
              "      <td>0</td>\n",
              "      <td>0</td>\n",
              "      <td>0</td>\n",
              "      <td>0</td>\n",
              "      <td>0</td>\n",
              "      <td>0</td>\n",
              "      <td>0</td>\n",
              "      <td>0</td>\n",
              "      <td>0</td>\n",
              "      <td>0</td>\n",
              "      <td>1</td>\n",
              "      <td>0</td>\n",
              "      <td>0</td>\n",
              "      <td>0</td>\n",
              "      <td>1</td>\n",
              "      <td>0</td>\n",
              "      <td>0</td>\n",
              "      <td>0</td>\n",
              "      <td>0</td>\n",
              "      <td>0</td>\n",
              "      <td>0</td>\n",
              "      <td>0</td>\n",
              "      <td>0</td>\n",
              "      <td>0</td>\n",
              "      <td>0</td>\n",
              "      <td>0</td>\n",
              "      <td>0</td>\n",
              "      <td>0</td>\n",
              "      <td>0</td>\n",
              "      <td>0</td>\n",
              "    </tr>\n",
              "    <tr>\n",
              "      <th>009217.jpg</th>\n",
              "      <td>0</td>\n",
              "      <td>0</td>\n",
              "      <td>0</td>\n",
              "      <td>0</td>\n",
              "      <td>0</td>\n",
              "      <td>0</td>\n",
              "      <td>0</td>\n",
              "      <td>0</td>\n",
              "      <td>0</td>\n",
              "      <td>0</td>\n",
              "      <td>0</td>\n",
              "      <td>1</td>\n",
              "      <td>0</td>\n",
              "      <td>0</td>\n",
              "      <td>0</td>\n",
              "      <td>0</td>\n",
              "      <td>0</td>\n",
              "      <td>0</td>\n",
              "      <td>0</td>\n",
              "      <td>1</td>\n",
              "      <td>1</td>\n",
              "      <td>1</td>\n",
              "      <td>0</td>\n",
              "      <td>0</td>\n",
              "      <td>1</td>\n",
              "      <td>0</td>\n",
              "      <td>0</td>\n",
              "      <td>0</td>\n",
              "      <td>0</td>\n",
              "      <td>0</td>\n",
              "      <td>0</td>\n",
              "      <td>1</td>\n",
              "      <td>0</td>\n",
              "      <td>0</td>\n",
              "      <td>0</td>\n",
              "      <td>0</td>\n",
              "      <td>0</td>\n",
              "      <td>0</td>\n",
              "      <td>0</td>\n",
              "      <td>0</td>\n",
              "    </tr>\n",
              "    <tr>\n",
              "      <th>002427.jpg</th>\n",
              "      <td>0</td>\n",
              "      <td>0</td>\n",
              "      <td>1</td>\n",
              "      <td>0</td>\n",
              "      <td>0</td>\n",
              "      <td>0</td>\n",
              "      <td>0</td>\n",
              "      <td>0</td>\n",
              "      <td>1</td>\n",
              "      <td>0</td>\n",
              "      <td>0</td>\n",
              "      <td>0</td>\n",
              "      <td>1</td>\n",
              "      <td>0</td>\n",
              "      <td>0</td>\n",
              "      <td>0</td>\n",
              "      <td>0</td>\n",
              "      <td>0</td>\n",
              "      <td>1</td>\n",
              "      <td>0</td>\n",
              "      <td>0</td>\n",
              "      <td>0</td>\n",
              "      <td>0</td>\n",
              "      <td>0</td>\n",
              "      <td>1</td>\n",
              "      <td>0</td>\n",
              "      <td>0</td>\n",
              "      <td>0</td>\n",
              "      <td>0</td>\n",
              "      <td>0</td>\n",
              "      <td>0</td>\n",
              "      <td>0</td>\n",
              "      <td>1</td>\n",
              "      <td>0</td>\n",
              "      <td>0</td>\n",
              "      <td>0</td>\n",
              "      <td>1</td>\n",
              "      <td>1</td>\n",
              "      <td>0</td>\n",
              "      <td>1</td>\n",
              "    </tr>\n",
              "    <tr>\n",
              "      <th>012985.jpg</th>\n",
              "      <td>0</td>\n",
              "      <td>0</td>\n",
              "      <td>0</td>\n",
              "      <td>1</td>\n",
              "      <td>0</td>\n",
              "      <td>0</td>\n",
              "      <td>1</td>\n",
              "      <td>1</td>\n",
              "      <td>1</td>\n",
              "      <td>0</td>\n",
              "      <td>0</td>\n",
              "      <td>0</td>\n",
              "      <td>1</td>\n",
              "      <td>0</td>\n",
              "      <td>0</td>\n",
              "      <td>0</td>\n",
              "      <td>0</td>\n",
              "      <td>0</td>\n",
              "      <td>0</td>\n",
              "      <td>1</td>\n",
              "      <td>1</td>\n",
              "      <td>0</td>\n",
              "      <td>0</td>\n",
              "      <td>0</td>\n",
              "      <td>1</td>\n",
              "      <td>1</td>\n",
              "      <td>0</td>\n",
              "      <td>0</td>\n",
              "      <td>0</td>\n",
              "      <td>0</td>\n",
              "      <td>0</td>\n",
              "      <td>0</td>\n",
              "      <td>0</td>\n",
              "      <td>0</td>\n",
              "      <td>0</td>\n",
              "      <td>0</td>\n",
              "      <td>0</td>\n",
              "      <td>0</td>\n",
              "      <td>0</td>\n",
              "      <td>1</td>\n",
              "    </tr>\n",
              "    <tr>\n",
              "      <th>000538.jpg</th>\n",
              "      <td>0</td>\n",
              "      <td>1</td>\n",
              "      <td>0</td>\n",
              "      <td>0</td>\n",
              "      <td>0</td>\n",
              "      <td>0</td>\n",
              "      <td>0</td>\n",
              "      <td>0</td>\n",
              "      <td>0</td>\n",
              "      <td>0</td>\n",
              "      <td>0</td>\n",
              "      <td>0</td>\n",
              "      <td>0</td>\n",
              "      <td>0</td>\n",
              "      <td>0</td>\n",
              "      <td>0</td>\n",
              "      <td>0</td>\n",
              "      <td>0</td>\n",
              "      <td>0</td>\n",
              "      <td>1</td>\n",
              "      <td>0</td>\n",
              "      <td>0</td>\n",
              "      <td>0</td>\n",
              "      <td>1</td>\n",
              "      <td>1</td>\n",
              "      <td>0</td>\n",
              "      <td>0</td>\n",
              "      <td>0</td>\n",
              "      <td>0</td>\n",
              "      <td>0</td>\n",
              "      <td>0</td>\n",
              "      <td>1</td>\n",
              "      <td>0</td>\n",
              "      <td>0</td>\n",
              "      <td>0</td>\n",
              "      <td>0</td>\n",
              "      <td>1</td>\n",
              "      <td>0</td>\n",
              "      <td>0</td>\n",
              "      <td>1</td>\n",
              "    </tr>\n",
              "    <tr>\n",
              "      <th>...</th>\n",
              "      <td>...</td>\n",
              "      <td>...</td>\n",
              "      <td>...</td>\n",
              "      <td>...</td>\n",
              "      <td>...</td>\n",
              "      <td>...</td>\n",
              "      <td>...</td>\n",
              "      <td>...</td>\n",
              "      <td>...</td>\n",
              "      <td>...</td>\n",
              "      <td>...</td>\n",
              "      <td>...</td>\n",
              "      <td>...</td>\n",
              "      <td>...</td>\n",
              "      <td>...</td>\n",
              "      <td>...</td>\n",
              "      <td>...</td>\n",
              "      <td>...</td>\n",
              "      <td>...</td>\n",
              "      <td>...</td>\n",
              "      <td>...</td>\n",
              "      <td>...</td>\n",
              "      <td>...</td>\n",
              "      <td>...</td>\n",
              "      <td>...</td>\n",
              "      <td>...</td>\n",
              "      <td>...</td>\n",
              "      <td>...</td>\n",
              "      <td>...</td>\n",
              "      <td>...</td>\n",
              "      <td>...</td>\n",
              "      <td>...</td>\n",
              "      <td>...</td>\n",
              "      <td>...</td>\n",
              "      <td>...</td>\n",
              "      <td>...</td>\n",
              "      <td>...</td>\n",
              "      <td>...</td>\n",
              "      <td>...</td>\n",
              "      <td>...</td>\n",
              "    </tr>\n",
              "    <tr>\n",
              "      <th>008222.jpg</th>\n",
              "      <td>0</td>\n",
              "      <td>0</td>\n",
              "      <td>0</td>\n",
              "      <td>0</td>\n",
              "      <td>0</td>\n",
              "      <td>0</td>\n",
              "      <td>0</td>\n",
              "      <td>0</td>\n",
              "      <td>0</td>\n",
              "      <td>0</td>\n",
              "      <td>0</td>\n",
              "      <td>0</td>\n",
              "      <td>0</td>\n",
              "      <td>0</td>\n",
              "      <td>0</td>\n",
              "      <td>0</td>\n",
              "      <td>0</td>\n",
              "      <td>0</td>\n",
              "      <td>0</td>\n",
              "      <td>1</td>\n",
              "      <td>0</td>\n",
              "      <td>1</td>\n",
              "      <td>0</td>\n",
              "      <td>0</td>\n",
              "      <td>1</td>\n",
              "      <td>1</td>\n",
              "      <td>0</td>\n",
              "      <td>0</td>\n",
              "      <td>0</td>\n",
              "      <td>0</td>\n",
              "      <td>0</td>\n",
              "      <td>1</td>\n",
              "      <td>0</td>\n",
              "      <td>1</td>\n",
              "      <td>1</td>\n",
              "      <td>0</td>\n",
              "      <td>0</td>\n",
              "      <td>0</td>\n",
              "      <td>0</td>\n",
              "      <td>1</td>\n",
              "    </tr>\n",
              "    <tr>\n",
              "      <th>014057.jpg</th>\n",
              "      <td>1</td>\n",
              "      <td>0</td>\n",
              "      <td>1</td>\n",
              "      <td>0</td>\n",
              "      <td>0</td>\n",
              "      <td>0</td>\n",
              "      <td>0</td>\n",
              "      <td>0</td>\n",
              "      <td>1</td>\n",
              "      <td>0</td>\n",
              "      <td>0</td>\n",
              "      <td>0</td>\n",
              "      <td>1</td>\n",
              "      <td>0</td>\n",
              "      <td>0</td>\n",
              "      <td>0</td>\n",
              "      <td>0</td>\n",
              "      <td>0</td>\n",
              "      <td>0</td>\n",
              "      <td>0</td>\n",
              "      <td>1</td>\n",
              "      <td>0</td>\n",
              "      <td>0</td>\n",
              "      <td>0</td>\n",
              "      <td>0</td>\n",
              "      <td>1</td>\n",
              "      <td>0</td>\n",
              "      <td>0</td>\n",
              "      <td>0</td>\n",
              "      <td>0</td>\n",
              "      <td>0</td>\n",
              "      <td>0</td>\n",
              "      <td>0</td>\n",
              "      <td>1</td>\n",
              "      <td>0</td>\n",
              "      <td>0</td>\n",
              "      <td>0</td>\n",
              "      <td>0</td>\n",
              "      <td>0</td>\n",
              "      <td>1</td>\n",
              "    </tr>\n",
              "    <tr>\n",
              "      <th>005634.jpg</th>\n",
              "      <td>1</td>\n",
              "      <td>0</td>\n",
              "      <td>0</td>\n",
              "      <td>0</td>\n",
              "      <td>0</td>\n",
              "      <td>1</td>\n",
              "      <td>0</td>\n",
              "      <td>0</td>\n",
              "      <td>1</td>\n",
              "      <td>0</td>\n",
              "      <td>0</td>\n",
              "      <td>0</td>\n",
              "      <td>0</td>\n",
              "      <td>0</td>\n",
              "      <td>0</td>\n",
              "      <td>0</td>\n",
              "      <td>0</td>\n",
              "      <td>0</td>\n",
              "      <td>0</td>\n",
              "      <td>0</td>\n",
              "      <td>1</td>\n",
              "      <td>0</td>\n",
              "      <td>0</td>\n",
              "      <td>0</td>\n",
              "      <td>0</td>\n",
              "      <td>1</td>\n",
              "      <td>0</td>\n",
              "      <td>0</td>\n",
              "      <td>0</td>\n",
              "      <td>0</td>\n",
              "      <td>0</td>\n",
              "      <td>0</td>\n",
              "      <td>0</td>\n",
              "      <td>0</td>\n",
              "      <td>0</td>\n",
              "      <td>0</td>\n",
              "      <td>0</td>\n",
              "      <td>0</td>\n",
              "      <td>0</td>\n",
              "      <td>1</td>\n",
              "    </tr>\n",
              "    <tr>\n",
              "      <th>003897.jpg</th>\n",
              "      <td>0</td>\n",
              "      <td>1</td>\n",
              "      <td>1</td>\n",
              "      <td>0</td>\n",
              "      <td>0</td>\n",
              "      <td>0</td>\n",
              "      <td>1</td>\n",
              "      <td>0</td>\n",
              "      <td>0</td>\n",
              "      <td>1</td>\n",
              "      <td>0</td>\n",
              "      <td>0</td>\n",
              "      <td>0</td>\n",
              "      <td>0</td>\n",
              "      <td>0</td>\n",
              "      <td>0</td>\n",
              "      <td>0</td>\n",
              "      <td>0</td>\n",
              "      <td>1</td>\n",
              "      <td>0</td>\n",
              "      <td>0</td>\n",
              "      <td>0</td>\n",
              "      <td>0</td>\n",
              "      <td>0</td>\n",
              "      <td>1</td>\n",
              "      <td>0</td>\n",
              "      <td>0</td>\n",
              "      <td>1</td>\n",
              "      <td>0</td>\n",
              "      <td>0</td>\n",
              "      <td>0</td>\n",
              "      <td>0</td>\n",
              "      <td>0</td>\n",
              "      <td>0</td>\n",
              "      <td>0</td>\n",
              "      <td>0</td>\n",
              "      <td>1</td>\n",
              "      <td>0</td>\n",
              "      <td>0</td>\n",
              "      <td>1</td>\n",
              "    </tr>\n",
              "    <tr>\n",
              "      <th>002019.jpg</th>\n",
              "      <td>0</td>\n",
              "      <td>1</td>\n",
              "      <td>1</td>\n",
              "      <td>0</td>\n",
              "      <td>0</td>\n",
              "      <td>0</td>\n",
              "      <td>0</td>\n",
              "      <td>0</td>\n",
              "      <td>0</td>\n",
              "      <td>1</td>\n",
              "      <td>0</td>\n",
              "      <td>0</td>\n",
              "      <td>0</td>\n",
              "      <td>0</td>\n",
              "      <td>0</td>\n",
              "      <td>0</td>\n",
              "      <td>0</td>\n",
              "      <td>0</td>\n",
              "      <td>1</td>\n",
              "      <td>1</td>\n",
              "      <td>0</td>\n",
              "      <td>1</td>\n",
              "      <td>0</td>\n",
              "      <td>0</td>\n",
              "      <td>1</td>\n",
              "      <td>1</td>\n",
              "      <td>0</td>\n",
              "      <td>0</td>\n",
              "      <td>0</td>\n",
              "      <td>0</td>\n",
              "      <td>0</td>\n",
              "      <td>1</td>\n",
              "      <td>0</td>\n",
              "      <td>1</td>\n",
              "      <td>1</td>\n",
              "      <td>0</td>\n",
              "      <td>1</td>\n",
              "      <td>1</td>\n",
              "      <td>0</td>\n",
              "      <td>1</td>\n",
              "    </tr>\n",
              "  </tbody>\n",
              "</table>\n",
              "<p>1000 rows × 40 columns</p>\n",
              "</div>"
            ],
            "text/plain": [
              "            5_o_Clock_Shadow  Arched_Eyebrows  ...  Wearing_Necktie  Young\n",
              "002741.jpg                 1                0  ...                0      0\n",
              "009217.jpg                 0                0  ...                0      0\n",
              "002427.jpg                 0                0  ...                0      1\n",
              "012985.jpg                 0                0  ...                0      1\n",
              "000538.jpg                 0                1  ...                0      1\n",
              "...                      ...              ...  ...              ...    ...\n",
              "008222.jpg                 0                0  ...                0      1\n",
              "014057.jpg                 1                0  ...                0      1\n",
              "005634.jpg                 1                0  ...                0      1\n",
              "003897.jpg                 0                1  ...                0      1\n",
              "002019.jpg                 0                1  ...                0      1\n",
              "\n",
              "[1000 rows x 40 columns]"
            ]
          },
          "metadata": {},
          "execution_count": 96
        }
      ],
      "source": [
        "y_train = df_attr.iloc[:df_size].sample(n=4000, random_state=42)\n",
        "y_val = df_attr.iloc[:df_size].drop(y_train.index.tolist()).sample(n=1000, random_state=42)\n",
        "y_test = df_attr.iloc[:df_size].drop(y_train.index.tolist())\\\n",
        "        .drop(y_val.index.tolist()).sample(n=1000, random_state=42)\n",
        "\n",
        "print(y_train.shape, y_val.shape, y_test.shape)\n",
        "y_test"
      ],
      "id": "weekly-calcium"
    },
    {
      "cell_type": "markdown",
      "metadata": {
        "id": "scheduled-model"
      },
      "source": [
        "Применим к каждой выборке преобразование картинок, создав соответственно тренировочный, валидационный и тестовый набор фичей."
      ],
      "id": "scheduled-model"
    },
    {
      "cell_type": "code",
      "execution_count": 97,
      "metadata": {
        "id": "graduate-bankruptcy",
        "colab": {
          "base_uri": "https://localhost:8080/"
        },
        "outputId": "b9a7dad9-cd50-404d-cb04-d90fd12b6f38"
      },
      "outputs": [
        {
          "output_type": "stream",
          "name": "stdout",
          "text": [
            "1000\n",
            "2000\n",
            "3000\n",
            "4000\n",
            "1000\n",
            "1000\n",
            "--- 30.843045711517334 seconds ---\n"
          ]
        }
      ],
      "source": [
        "start_time = time.time()\n",
        "\n",
        "x_train = create_features_from_indexes(y_train.index, range(image_size))\n",
        "x_val = create_features_from_indexes(y_val.index, range(image_size))\n",
        "x_test = create_features_from_indexes(y_test.index, range(image_size))\n",
        "\n",
        "print(\"--- %s seconds ---\" % (time.time() - start_time))"
      ],
      "id": "graduate-bankruptcy"
    },
    {
      "cell_type": "code",
      "execution_count": 33,
      "metadata": {
        "id": "stupid-township"
      },
      "outputs": [],
      "source": [
        "# start_time = time.time()\n",
        "\n",
        "# x_train.to_csv(PATH + 'faces_train_dataset.csv')\n",
        "# x_val.to_csv(PATH + 'faces_val_dataset.csv')\n",
        "# x_test.to_csv(PATH + 'faces_test_dataset.csv')\n",
        "\n",
        "# print(\"--- %s seconds ---\" % (time.time() - start_time))"
      ],
      "id": "stupid-township"
    },
    {
      "cell_type": "code",
      "execution_count": 34,
      "metadata": {
        "id": "tFXl4wHL_0iA"
      },
      "outputs": [],
      "source": [
        "# start_time = time.time()\n",
        "\n",
        "# x_train.to_csv('faces_train_dataset.csv')\n",
        "# x_val.to_csv('faces_val_dataset.csv')\n",
        "# x_test.to_csv('faces_test_dataset.csv')\n",
        "\n",
        "# print(\"--- %s seconds ---\" % (time.time() - start_time))"
      ],
      "id": "tFXl4wHL_0iA"
    },
    {
      "cell_type": "code",
      "execution_count": 35,
      "metadata": {
        "id": "k9FEaHsfC1Nk"
      },
      "outputs": [],
      "source": [
        "# start_time = time.time()\n",
        "\n",
        "# x_train = pd.read_csv('/content/drive/MyDrive/content/faces_train_dataset.csv', index_col='Unnamed: 0')\n",
        "# x_test = pd.read_csv('/content/drive/MyDrive/content/faces_test_dataset.csv', index_col='Unnamed: 0')\n",
        "# x_val = pd.read_csv('/content/drive/MyDrive/content/faces_val_dataset.csv', index_col='Unnamed: 0')\n",
        "\n",
        "# print(\"--- %s seconds ---\" % (time.time() - start_time))"
      ],
      "id": "k9FEaHsfC1Nk"
    },
    {
      "cell_type": "code",
      "execution_count": 99,
      "metadata": {
        "id": "q8jagt5mDhtT",
        "colab": {
          "base_uri": "https://localhost:8080/",
          "height": 256
        },
        "outputId": "26274495-6c5b-4715-fd25-e1cb08c0534c"
      },
      "outputs": [
        {
          "output_type": "execute_result",
          "data": {
            "text/html": [
              "<div>\n",
              "<style scoped>\n",
              "    .dataframe tbody tr th:only-of-type {\n",
              "        vertical-align: middle;\n",
              "    }\n",
              "\n",
              "    .dataframe tbody tr th {\n",
              "        vertical-align: top;\n",
              "    }\n",
              "\n",
              "    .dataframe thead th {\n",
              "        text-align: right;\n",
              "    }\n",
              "</style>\n",
              "<table border=\"1\" class=\"dataframe\">\n",
              "  <thead>\n",
              "    <tr style=\"text-align: right;\">\n",
              "      <th></th>\n",
              "      <th>0</th>\n",
              "      <th>1</th>\n",
              "      <th>2</th>\n",
              "      <th>3</th>\n",
              "      <th>4</th>\n",
              "      <th>5</th>\n",
              "      <th>6</th>\n",
              "      <th>7</th>\n",
              "      <th>8</th>\n",
              "      <th>9</th>\n",
              "      <th>10</th>\n",
              "      <th>11</th>\n",
              "      <th>12</th>\n",
              "      <th>13</th>\n",
              "      <th>14</th>\n",
              "      <th>15</th>\n",
              "      <th>16</th>\n",
              "      <th>17</th>\n",
              "      <th>18</th>\n",
              "      <th>19</th>\n",
              "      <th>20</th>\n",
              "      <th>21</th>\n",
              "      <th>22</th>\n",
              "      <th>23</th>\n",
              "      <th>24</th>\n",
              "      <th>25</th>\n",
              "      <th>26</th>\n",
              "      <th>27</th>\n",
              "      <th>28</th>\n",
              "      <th>29</th>\n",
              "      <th>30</th>\n",
              "      <th>31</th>\n",
              "      <th>32</th>\n",
              "      <th>33</th>\n",
              "      <th>34</th>\n",
              "      <th>35</th>\n",
              "      <th>36</th>\n",
              "      <th>37</th>\n",
              "      <th>38</th>\n",
              "      <th>39</th>\n",
              "      <th>...</th>\n",
              "      <th>9661</th>\n",
              "      <th>9662</th>\n",
              "      <th>9663</th>\n",
              "      <th>9664</th>\n",
              "      <th>9665</th>\n",
              "      <th>9666</th>\n",
              "      <th>9667</th>\n",
              "      <th>9668</th>\n",
              "      <th>9669</th>\n",
              "      <th>9670</th>\n",
              "      <th>9671</th>\n",
              "      <th>9672</th>\n",
              "      <th>9673</th>\n",
              "      <th>9674</th>\n",
              "      <th>9675</th>\n",
              "      <th>9676</th>\n",
              "      <th>9677</th>\n",
              "      <th>9678</th>\n",
              "      <th>9679</th>\n",
              "      <th>9680</th>\n",
              "      <th>9681</th>\n",
              "      <th>9682</th>\n",
              "      <th>9683</th>\n",
              "      <th>9684</th>\n",
              "      <th>9685</th>\n",
              "      <th>9686</th>\n",
              "      <th>9687</th>\n",
              "      <th>9688</th>\n",
              "      <th>9689</th>\n",
              "      <th>9690</th>\n",
              "      <th>9691</th>\n",
              "      <th>9692</th>\n",
              "      <th>9693</th>\n",
              "      <th>9694</th>\n",
              "      <th>9695</th>\n",
              "      <th>9696</th>\n",
              "      <th>9697</th>\n",
              "      <th>9698</th>\n",
              "      <th>9699</th>\n",
              "      <th>9700</th>\n",
              "    </tr>\n",
              "  </thead>\n",
              "  <tbody>\n",
              "    <tr>\n",
              "      <th>010942.jpg</th>\n",
              "      <td>1</td>\n",
              "      <td>1</td>\n",
              "      <td>1</td>\n",
              "      <td>1</td>\n",
              "      <td>1</td>\n",
              "      <td>1</td>\n",
              "      <td>1</td>\n",
              "      <td>1</td>\n",
              "      <td>1</td>\n",
              "      <td>1</td>\n",
              "      <td>1</td>\n",
              "      <td>1</td>\n",
              "      <td>1</td>\n",
              "      <td>1</td>\n",
              "      <td>1</td>\n",
              "      <td>1</td>\n",
              "      <td>1</td>\n",
              "      <td>1</td>\n",
              "      <td>1</td>\n",
              "      <td>1</td>\n",
              "      <td>1</td>\n",
              "      <td>1</td>\n",
              "      <td>1</td>\n",
              "      <td>1</td>\n",
              "      <td>1</td>\n",
              "      <td>1</td>\n",
              "      <td>1</td>\n",
              "      <td>1</td>\n",
              "      <td>1</td>\n",
              "      <td>1</td>\n",
              "      <td>1</td>\n",
              "      <td>1</td>\n",
              "      <td>1</td>\n",
              "      <td>1</td>\n",
              "      <td>1</td>\n",
              "      <td>1</td>\n",
              "      <td>1</td>\n",
              "      <td>1</td>\n",
              "      <td>1</td>\n",
              "      <td>1</td>\n",
              "      <td>...</td>\n",
              "      <td>0.0392157</td>\n",
              "      <td>0.266667</td>\n",
              "      <td>0.521569</td>\n",
              "      <td>0.603922</td>\n",
              "      <td>0.623529</td>\n",
              "      <td>0.603922</td>\n",
              "      <td>0.564706</td>\n",
              "      <td>0.572549</td>\n",
              "      <td>0.670588</td>\n",
              "      <td>0.701961</td>\n",
              "      <td>0.694118</td>\n",
              "      <td>0.705882</td>\n",
              "      <td>0.705882</td>\n",
              "      <td>0.705882</td>\n",
              "      <td>0.678431</td>\n",
              "      <td>0.690196</td>\n",
              "      <td>0.701961</td>\n",
              "      <td>0.698039</td>\n",
              "      <td>0.694118</td>\n",
              "      <td>0.670588</td>\n",
              "      <td>0.631373</td>\n",
              "      <td>0.619608</td>\n",
              "      <td>0.619608</td>\n",
              "      <td>0.635294</td>\n",
              "      <td>0.654902</td>\n",
              "      <td>0.662745</td>\n",
              "      <td>0.666667</td>\n",
              "      <td>0.623529</td>\n",
              "      <td>0.584314</td>\n",
              "      <td>0.411765</td>\n",
              "      <td>0.266667</td>\n",
              "      <td>0.223529</td>\n",
              "      <td>0.2</td>\n",
              "      <td>0.211765</td>\n",
              "      <td>0.207843</td>\n",
              "      <td>0.215686</td>\n",
              "      <td>0.219608</td>\n",
              "      <td>0.2</td>\n",
              "      <td>0.196078</td>\n",
              "      <td>0.203922</td>\n",
              "    </tr>\n",
              "    <tr>\n",
              "      <th>005251.jpg</th>\n",
              "      <td>0.866667</td>\n",
              "      <td>0.866667</td>\n",
              "      <td>0.823529</td>\n",
              "      <td>0.741176</td>\n",
              "      <td>0.690196</td>\n",
              "      <td>0.545098</td>\n",
              "      <td>0.294118</td>\n",
              "      <td>0.176471</td>\n",
              "      <td>0.105882</td>\n",
              "      <td>0.054902</td>\n",
              "      <td>0.0431373</td>\n",
              "      <td>0.0431373</td>\n",
              "      <td>0.0470588</td>\n",
              "      <td>0.0470588</td>\n",
              "      <td>0.0588235</td>\n",
              "      <td>0.0509804</td>\n",
              "      <td>0.0470588</td>\n",
              "      <td>0.0705882</td>\n",
              "      <td>0.0745098</td>\n",
              "      <td>0.0470588</td>\n",
              "      <td>0.0588235</td>\n",
              "      <td>0.0470588</td>\n",
              "      <td>0.0313726</td>\n",
              "      <td>0.0470588</td>\n",
              "      <td>0.0627451</td>\n",
              "      <td>0.0509804</td>\n",
              "      <td>0.0627451</td>\n",
              "      <td>0.0705882</td>\n",
              "      <td>0.0470588</td>\n",
              "      <td>0.0666667</td>\n",
              "      <td>0.0901961</td>\n",
              "      <td>0.0980392</td>\n",
              "      <td>0.109804</td>\n",
              "      <td>0.109804</td>\n",
              "      <td>0.133333</td>\n",
              "      <td>0.145098</td>\n",
              "      <td>0.129412</td>\n",
              "      <td>0.109804</td>\n",
              "      <td>0.109804</td>\n",
              "      <td>0.0862745</td>\n",
              "      <td>...</td>\n",
              "      <td>0.172549</td>\n",
              "      <td>0.168627</td>\n",
              "      <td>0.160784</td>\n",
              "      <td>0.164706</td>\n",
              "      <td>0.172549</td>\n",
              "      <td>0.168627</td>\n",
              "      <td>0.160784</td>\n",
              "      <td>0.168627</td>\n",
              "      <td>0.145098</td>\n",
              "      <td>0.133333</td>\n",
              "      <td>0.137255</td>\n",
              "      <td>0.133333</td>\n",
              "      <td>0.129412</td>\n",
              "      <td>0.137255</td>\n",
              "      <td>0.133333</td>\n",
              "      <td>0.133333</td>\n",
              "      <td>0.137255</td>\n",
              "      <td>0.145098</td>\n",
              "      <td>0.14902</td>\n",
              "      <td>0.145098</td>\n",
              "      <td>0.141176</td>\n",
              "      <td>0.152941</td>\n",
              "      <td>0.137255</td>\n",
              "      <td>0.145098</td>\n",
              "      <td>0.168627</td>\n",
              "      <td>0.133333</td>\n",
              "      <td>0.164706</td>\n",
              "      <td>0.294118</td>\n",
              "      <td>0.384314</td>\n",
              "      <td>0.537255</td>\n",
              "      <td>0.690196</td>\n",
              "      <td>0.776471</td>\n",
              "      <td>0.870588</td>\n",
              "      <td>0.87451</td>\n",
              "      <td>0.929412</td>\n",
              "      <td>0.905882</td>\n",
              "      <td>0.698039</td>\n",
              "      <td>0.796078</td>\n",
              "      <td>0.709804</td>\n",
              "      <td>0.462745</td>\n",
              "    </tr>\n",
              "    <tr>\n",
              "      <th>010293.jpg</th>\n",
              "      <td>0.784314</td>\n",
              "      <td>0.807843</td>\n",
              "      <td>0.839216</td>\n",
              "      <td>0.847059</td>\n",
              "      <td>0.835294</td>\n",
              "      <td>0.835294</td>\n",
              "      <td>0.854902</td>\n",
              "      <td>0.886275</td>\n",
              "      <td>0.937255</td>\n",
              "      <td>0.964706</td>\n",
              "      <td>0.964706</td>\n",
              "      <td>0.960784</td>\n",
              "      <td>0.952941</td>\n",
              "      <td>0.729412</td>\n",
              "      <td>0.32549</td>\n",
              "      <td>0.227451</td>\n",
              "      <td>0.207843</td>\n",
              "      <td>0.196078</td>\n",
              "      <td>0.2</td>\n",
              "      <td>0.207843</td>\n",
              "      <td>0.203922</td>\n",
              "      <td>0.188235</td>\n",
              "      <td>0.164706</td>\n",
              "      <td>0.14902</td>\n",
              "      <td>0.188235</td>\n",
              "      <td>0.34902</td>\n",
              "      <td>0.462745</td>\n",
              "      <td>0.431373</td>\n",
              "      <td>0.392157</td>\n",
              "      <td>0.364706</td>\n",
              "      <td>0.356863</td>\n",
              "      <td>0.376471</td>\n",
              "      <td>0.4</td>\n",
              "      <td>0.415686</td>\n",
              "      <td>0.392157</td>\n",
              "      <td>0.356863</td>\n",
              "      <td>0.352941</td>\n",
              "      <td>0.360784</td>\n",
              "      <td>0.34902</td>\n",
              "      <td>0.333333</td>\n",
              "      <td>...</td>\n",
              "      <td>0.811765</td>\n",
              "      <td>0.807843</td>\n",
              "      <td>0.796078</td>\n",
              "      <td>0.792157</td>\n",
              "      <td>0.788235</td>\n",
              "      <td>0.776471</td>\n",
              "      <td>0.760784</td>\n",
              "      <td>0.729412</td>\n",
              "      <td>0.72549</td>\n",
              "      <td>0.745098</td>\n",
              "      <td>0.733333</td>\n",
              "      <td>0.741176</td>\n",
              "      <td>0.745098</td>\n",
              "      <td>0.670588</td>\n",
              "      <td>0.533333</td>\n",
              "      <td>0.509804</td>\n",
              "      <td>0.509804</td>\n",
              "      <td>0.513726</td>\n",
              "      <td>0.580392</td>\n",
              "      <td>0.635294</td>\n",
              "      <td>0.670588</td>\n",
              "      <td>0.698039</td>\n",
              "      <td>0.666667</td>\n",
              "      <td>0.603922</td>\n",
              "      <td>0.556863</td>\n",
              "      <td>0.568627</td>\n",
              "      <td>0.592157</td>\n",
              "      <td>0.576471</td>\n",
              "      <td>0.556863</td>\n",
              "      <td>0.576471</td>\n",
              "      <td>0.54902</td>\n",
              "      <td>0.501961</td>\n",
              "      <td>0.529412</td>\n",
              "      <td>0.603922</td>\n",
              "      <td>0.615686</td>\n",
              "      <td>0.631373</td>\n",
              "      <td>0.686275</td>\n",
              "      <td>0.670588</td>\n",
              "      <td>0.627451</td>\n",
              "      <td>0.615686</td>\n",
              "    </tr>\n",
              "    <tr>\n",
              "      <th>002267.jpg</th>\n",
              "      <td>0.705882</td>\n",
              "      <td>0.709804</td>\n",
              "      <td>0.713726</td>\n",
              "      <td>0.713726</td>\n",
              "      <td>0.713726</td>\n",
              "      <td>0.713726</td>\n",
              "      <td>0.713726</td>\n",
              "      <td>0.713726</td>\n",
              "      <td>0.717647</td>\n",
              "      <td>0.717647</td>\n",
              "      <td>0.72549</td>\n",
              "      <td>0.72549</td>\n",
              "      <td>0.72549</td>\n",
              "      <td>0.721569</td>\n",
              "      <td>0.721569</td>\n",
              "      <td>0.72549</td>\n",
              "      <td>0.72549</td>\n",
              "      <td>0.72549</td>\n",
              "      <td>0.733333</td>\n",
              "      <td>0.733333</td>\n",
              "      <td>0.72549</td>\n",
              "      <td>0.729412</td>\n",
              "      <td>0.737255</td>\n",
              "      <td>0.741176</td>\n",
              "      <td>0.737255</td>\n",
              "      <td>0.737255</td>\n",
              "      <td>0.737255</td>\n",
              "      <td>0.737255</td>\n",
              "      <td>0.741176</td>\n",
              "      <td>0.745098</td>\n",
              "      <td>0.741176</td>\n",
              "      <td>0.737255</td>\n",
              "      <td>0.737255</td>\n",
              "      <td>0.729412</td>\n",
              "      <td>0.729412</td>\n",
              "      <td>0.737255</td>\n",
              "      <td>0.741176</td>\n",
              "      <td>0.741176</td>\n",
              "      <td>0.74902</td>\n",
              "      <td>0.74902</td>\n",
              "      <td>...</td>\n",
              "      <td>0.219608</td>\n",
              "      <td>0.176471</td>\n",
              "      <td>0.196078</td>\n",
              "      <td>0.247059</td>\n",
              "      <td>0.219608</td>\n",
              "      <td>0.196078</td>\n",
              "      <td>0.2</td>\n",
              "      <td>0.254902</td>\n",
              "      <td>0.290196</td>\n",
              "      <td>0.254902</td>\n",
              "      <td>0.411765</td>\n",
              "      <td>0.439216</td>\n",
              "      <td>0.478431</td>\n",
              "      <td>0.541176</td>\n",
              "      <td>0.537255</td>\n",
              "      <td>0.701961</td>\n",
              "      <td>0.858824</td>\n",
              "      <td>0.886275</td>\n",
              "      <td>0.913725</td>\n",
              "      <td>0.980392</td>\n",
              "      <td>0.992157</td>\n",
              "      <td>0.988235</td>\n",
              "      <td>0.992157</td>\n",
              "      <td>0.996078</td>\n",
              "      <td>0.972549</td>\n",
              "      <td>0.882353</td>\n",
              "      <td>0.701961</td>\n",
              "      <td>0.619608</td>\n",
              "      <td>0.552941</td>\n",
              "      <td>0.462745</td>\n",
              "      <td>0.462745</td>\n",
              "      <td>0.482353</td>\n",
              "      <td>0.478431</td>\n",
              "      <td>0.482353</td>\n",
              "      <td>0.462745</td>\n",
              "      <td>0.52549</td>\n",
              "      <td>0.596078</td>\n",
              "      <td>0.588235</td>\n",
              "      <td>0.564706</td>\n",
              "      <td>0.545098</td>\n",
              "    </tr>\n",
              "    <tr>\n",
              "      <th>006399.jpg</th>\n",
              "      <td>0.870588</td>\n",
              "      <td>0.819608</td>\n",
              "      <td>0.819608</td>\n",
              "      <td>0.882353</td>\n",
              "      <td>0.933333</td>\n",
              "      <td>0.933333</td>\n",
              "      <td>0.933333</td>\n",
              "      <td>0.933333</td>\n",
              "      <td>0.941176</td>\n",
              "      <td>0.941176</td>\n",
              "      <td>0.941176</td>\n",
              "      <td>0.941176</td>\n",
              "      <td>0.945098</td>\n",
              "      <td>0.941176</td>\n",
              "      <td>0.941176</td>\n",
              "      <td>0.945098</td>\n",
              "      <td>0.941176</td>\n",
              "      <td>0.945098</td>\n",
              "      <td>0.94902</td>\n",
              "      <td>0.94902</td>\n",
              "      <td>0.952941</td>\n",
              "      <td>0.952941</td>\n",
              "      <td>0.952941</td>\n",
              "      <td>0.952941</td>\n",
              "      <td>0.945098</td>\n",
              "      <td>0.945098</td>\n",
              "      <td>0.945098</td>\n",
              "      <td>0.945098</td>\n",
              "      <td>0.945098</td>\n",
              "      <td>0.941176</td>\n",
              "      <td>0.933333</td>\n",
              "      <td>0.929412</td>\n",
              "      <td>0.933333</td>\n",
              "      <td>0.929412</td>\n",
              "      <td>0.921569</td>\n",
              "      <td>0.917647</td>\n",
              "      <td>0.905882</td>\n",
              "      <td>0.898039</td>\n",
              "      <td>0.894118</td>\n",
              "      <td>0.898039</td>\n",
              "      <td>...</td>\n",
              "      <td>0.745098</td>\n",
              "      <td>0.752941</td>\n",
              "      <td>0.745098</td>\n",
              "      <td>0.741176</td>\n",
              "      <td>0.729412</td>\n",
              "      <td>0.72549</td>\n",
              "      <td>0.745098</td>\n",
              "      <td>0.729412</td>\n",
              "      <td>0.694118</td>\n",
              "      <td>0.67451</td>\n",
              "      <td>0.670588</td>\n",
              "      <td>0.568627</td>\n",
              "      <td>0.364706</td>\n",
              "      <td>0.333333</td>\n",
              "      <td>0.352941</td>\n",
              "      <td>0.329412</td>\n",
              "      <td>0.407843</td>\n",
              "      <td>0.431373</td>\n",
              "      <td>0.439216</td>\n",
              "      <td>0.501961</td>\n",
              "      <td>0.521569</td>\n",
              "      <td>0.482353</td>\n",
              "      <td>0.505882</td>\n",
              "      <td>0.454902</td>\n",
              "      <td>0.419608</td>\n",
              "      <td>0.403922</td>\n",
              "      <td>0.333333</td>\n",
              "      <td>0.223529</td>\n",
              "      <td>0.2</td>\n",
              "      <td>0.168627</td>\n",
              "      <td>0.239216</td>\n",
              "      <td>0.239216</td>\n",
              "      <td>0.235294</td>\n",
              "      <td>0.192157</td>\n",
              "      <td>0.278431</td>\n",
              "      <td>0.176471</td>\n",
              "      <td>0.0823529</td>\n",
              "      <td>0.101961</td>\n",
              "      <td>0.117647</td>\n",
              "      <td>0.109804</td>\n",
              "    </tr>\n",
              "  </tbody>\n",
              "</table>\n",
              "<p>5 rows × 9701 columns</p>\n",
              "</div>"
            ],
            "text/plain": [
              "                0         1         2     ...      9698      9699      9700\n",
              "010942.jpg         1         1         1  ...       0.2  0.196078  0.203922\n",
              "005251.jpg  0.866667  0.866667  0.823529  ...  0.796078  0.709804  0.462745\n",
              "010293.jpg  0.784314  0.807843  0.839216  ...  0.670588  0.627451  0.615686\n",
              "002267.jpg  0.705882  0.709804  0.713726  ...  0.588235  0.564706  0.545098\n",
              "006399.jpg  0.870588  0.819608  0.819608  ...  0.101961  0.117647  0.109804\n",
              "\n",
              "[5 rows x 9701 columns]"
            ]
          },
          "metadata": {},
          "execution_count": 99
        }
      ],
      "source": [
        "x_train.head()"
      ],
      "id": "q8jagt5mDhtT"
    },
    {
      "cell_type": "code",
      "execution_count": 37,
      "metadata": {
        "id": "ceramic-apache",
        "colab": {
          "base_uri": "https://localhost:8080/"
        },
        "outputId": "6588064d-45e5-456d-ccbb-58fc4c5fdbb0"
      },
      "outputs": [
        {
          "output_type": "stream",
          "name": "stdout",
          "text": [
            "Male Wearing_Lipstick Smiling Big_Lips Mustache \n",
            "Train\t\n",
            "0.419\t0.475\t0.481\t0.241\t0.036\t\n",
            "Val\n",
            "0.413\t0.482\t0.491\t0.24\t0.041\t\n",
            "Test\n",
            "0.414\t0.486\t0.443\t0.262\t0.036\t"
          ]
        }
      ],
      "source": [
        "for attribute in attributes:\n",
        "  print(attribute, end=' ')\n",
        "print('\\nTrain\\t')\n",
        "for attribute in attributes:\n",
        "    print(round(y_train[y_train[attribute] == 1].size / y_train.size, 3), end='\\t')\n",
        "print('\\nVal')\n",
        "for attribute in attributes:\n",
        "    print(round(y_val[y_val[attribute] == 1].size / y_val.size, 3), end='\\t')\n",
        "print('\\nTest')\n",
        "for attribute in attributes:\n",
        "    print(round(y_test[y_test[attribute] == 1].size / y_test.size, 3), end='\\t')"
      ],
      "id": "ceramic-apache"
    },
    {
      "cell_type": "markdown",
      "metadata": {
        "id": "opposite-defensive"
      },
      "source": [
        "Как мы уже выяснили ранее, данные не сбалансированы. Это видно и после разбиения на тренировочную, валидационную и тестовую выборки. Данный факт будет необходимо учесть в будущем. В частности, метрика accuracy в такой ситуации будет практически бесполезна, так что в качестве основной метрики будем использовать F-меру."
      ],
      "id": "opposite-defensive"
    },
    {
      "cell_type": "markdown",
      "metadata": {
        "id": "contemporary-stress"
      },
      "source": [
        "## Обучение логистической регрессии"
      ],
      "id": "contemporary-stress"
    },
    {
      "cell_type": "markdown",
      "metadata": {
        "id": "distinguished-journal"
      },
      "source": [
        "Для начала, обучим простую логистическую регрессию на выбранных атрибутах."
      ],
      "id": "distinguished-journal"
    },
    {
      "cell_type": "code",
      "execution_count": 38,
      "metadata": {
        "id": "animal-europe"
      },
      "outputs": [],
      "source": [
        "sgd_1_scores = {'train' : [], 'test' : []}\n",
        "sgd_1_accuracy = {'train' : [], 'test' : []}\n",
        "sgd_3_scores = {'train' : [], 'test' : []}\n",
        "sgd_3_accuracy = {'train' : [], 'test' : []}"
      ],
      "id": "animal-europe"
    },
    {
      "cell_type": "code",
      "execution_count": 39,
      "metadata": {
        "id": "asian-fitting"
      },
      "outputs": [],
      "source": [
        "from sklearn.linear_model import SGDClassifier\n",
        "from sklearn.metrics import f1_score\n",
        "from sklearn.metrics import accuracy_score\n",
        "def SGDClassifierForArrtibute(attribute):  \n",
        "    y_train_attribute = y_train[attribute]\n",
        "    start = time.time()\n",
        "    sgd_clf = SGDClassifier(loss='log', tol=1e-1, verbose=0, random_state=42)\n",
        "    sgd_clf.fit(x_train, y_train_attribute)\n",
        "    print('time 1e-1: ', time.time() - start)\n",
        "    start = time.time()\n",
        "    sgd_clf_2 = SGDClassifier(loss='log', tol=1e-3, verbose=0, random_state=42)\n",
        "    sgd_clf_2.fit(x_train, y_train_attribute)\n",
        "    print('time: 1e-3', time.time() - start)\n",
        "    return sgd_clf, sgd_clf_2\n",
        "\n",
        "def CheckStats(clf, attribute, scores):\n",
        "    print('Сlassifier for ', attribute)\n",
        "    pred_y_train = clf.predict(x_train)\n",
        "    print('train f1 score: ', f1_score(pred_y_train, y_train[attribute]))\n",
        "    pred_y_test = clf.predict(x_test)\n",
        "    print('test f1 score: ', f1_score(pred_y_test, y_test[attribute]))\n",
        "    scores['train'].append(f1_score(pred_y_train, y_train[attribute]))\n",
        "    scores['test'].append(f1_score(pred_y_test, y_test[attribute]))\n",
        "\n",
        "def CountSGDAccuracy(clf, attribute,acc_score):\n",
        "    pred_y_train = clf.predict(x_train)\n",
        "    pred_y_test = clf.predict(x_test)\n",
        "    acc_score['train'].append(accuracy_score(pred_y_train, y_train[attribute]))\n",
        "    acc_score['test'].append(accuracy_score(pred_y_test, y_test[attribute]))\n",
        "\n",
        "def ClassifierAndStats(attribute):\n",
        "    sgd, sgd_2 = SGDClassifierForArrtibute(attribute)\n",
        "    print('tol: 1e-1')\n",
        "    CheckStats(sgd, attribute, sgd_1_scores)\n",
        "    CountSGDAccuracy(sgd, attribute, sgd_1_accuracy)\n",
        "    print('tol: 1e-3')\n",
        "    CheckStats(sgd_2, attribute, sgd_3_scores)\n",
        "    CountSGDAccuracy(sgd_2, attribute, sgd_3_accuracy)\n",
        "    print()"
      ],
      "id": "asian-fitting"
    },
    {
      "cell_type": "code",
      "execution_count": 40,
      "metadata": {
        "id": "temporal-korean",
        "colab": {
          "base_uri": "https://localhost:8080/"
        },
        "outputId": "63a22fbf-177d-4af8-f8a4-b129e9c72933"
      },
      "outputs": [
        {
          "output_type": "stream",
          "name": "stdout",
          "text": [
            "time 1e-1:  9.13322377204895\n",
            "time: 1e-3 10.009497165679932\n",
            "tol: 1e-1\n",
            "Сlassifier for  Male\n",
            "train f1 score:  0.8840952994204766\n",
            "test f1 score:  0.822477650063857\n",
            "tol: 1e-3\n",
            "Сlassifier for  Male\n",
            "train f1 score:  0.8472972972972972\n",
            "test f1 score:  0.799468791500664\n",
            "\n"
          ]
        }
      ],
      "source": [
        "ClassifierAndStats(attributes[0])"
      ],
      "id": "temporal-korean"
    },
    {
      "cell_type": "code",
      "source": [
        "ClassifierAndStats(attributes[1])"
      ],
      "metadata": {
        "colab": {
          "base_uri": "https://localhost:8080/"
        },
        "id": "qN-vkdaz9ReJ",
        "outputId": "7596f267-101f-4205-fc5b-9bc20774ccb8"
      },
      "id": "qN-vkdaz9ReJ",
      "execution_count": 41,
      "outputs": [
        {
          "output_type": "stream",
          "name": "stdout",
          "text": [
            "time 1e-1:  10.021733283996582\n",
            "time: 1e-3 9.80596113204956\n",
            "tol: 1e-1\n",
            "Сlassifier for  Wearing_Lipstick\n",
            "train f1 score:  0.8918128654970761\n",
            "test f1 score:  0.8604427333974976\n",
            "tol: 1e-3\n",
            "Сlassifier for  Wearing_Lipstick\n",
            "train f1 score:  0.8918128654970761\n",
            "test f1 score:  0.8604427333974976\n",
            "\n"
          ]
        }
      ]
    },
    {
      "cell_type": "code",
      "source": [
        "ClassifierAndStats(attributes[2])"
      ],
      "metadata": {
        "colab": {
          "base_uri": "https://localhost:8080/"
        },
        "id": "aikGn_h19VrP",
        "outputId": "863ff5cd-2be4-4e23-ac0d-b027fd7a9fb5"
      },
      "id": "aikGn_h19VrP",
      "execution_count": 42,
      "outputs": [
        {
          "output_type": "stream",
          "name": "stdout",
          "text": [
            "time 1e-1:  10.243640899658203\n",
            "time: 1e-3 12.084649085998535\n",
            "tol: 1e-1\n",
            "Сlassifier for  Smiling\n",
            "train f1 score:  0.9543415149115863\n",
            "test f1 score:  0.8492520138089757\n",
            "tol: 1e-3\n",
            "Сlassifier for  Smiling\n",
            "train f1 score:  0.7657370517928287\n",
            "test f1 score:  0.7191383595691797\n",
            "\n"
          ]
        }
      ]
    },
    {
      "cell_type": "code",
      "source": [
        "ClassifierAndStats(attributes[3])"
      ],
      "metadata": {
        "colab": {
          "base_uri": "https://localhost:8080/"
        },
        "id": "sc7Jz1mf9Wiu",
        "outputId": "3860e19a-33c2-41ed-be5d-792320c0c954"
      },
      "id": "sc7Jz1mf9Wiu",
      "execution_count": 43,
      "outputs": [
        {
          "output_type": "stream",
          "name": "stdout",
          "text": [
            "time 1e-1:  14.744854927062988\n",
            "time: 1e-3 21.42437171936035\n",
            "tol: 1e-1\n",
            "Сlassifier for  Big_Lips\n",
            "train f1 score:  0.7282793867120954\n",
            "test f1 score:  0.40924092409240925\n",
            "tol: 1e-3\n",
            "Сlassifier for  Big_Lips\n",
            "train f1 score:  0.8657453109575518\n",
            "test f1 score:  0.3931297709923664\n",
            "\n"
          ]
        }
      ]
    },
    {
      "cell_type": "code",
      "source": [
        "ClassifierAndStats(attributes[4])"
      ],
      "metadata": {
        "colab": {
          "base_uri": "https://localhost:8080/"
        },
        "id": "bZYYG4QE9XhB",
        "outputId": "8695bbcf-7254-402f-d01d-cdc3de62a367"
      },
      "id": "bZYYG4QE9XhB",
      "execution_count": 44,
      "outputs": [
        {
          "output_type": "stream",
          "name": "stdout",
          "text": [
            "time 1e-1:  7.015650510787964\n",
            "time: 1e-3 10.274032354354858\n",
            "tol: 1e-1\n",
            "Сlassifier for  Mustache\n",
            "train f1 score:  0.4212076583210604\n",
            "test f1 score:  0.23204419889502767\n",
            "tol: 1e-3\n",
            "Сlassifier for  Mustache\n",
            "train f1 score:  0.4262295081967213\n",
            "test f1 score:  0.1818181818181818\n",
            "\n"
          ]
        }
      ]
    },
    {
      "cell_type": "markdown",
      "metadata": {
        "id": "dutch-embassy"
      },
      "source": [
        "## Обучение случайного леса"
      ],
      "id": "dutch-embassy"
    },
    {
      "cell_type": "markdown",
      "metadata": {
        "id": "three-moderator"
      },
      "source": [
        "Случайный лес - структура, на основе решающих деревьев. Это не очень сложная структура, однако часто выдает очень хорошие результаты. Посмотрим, сможет ли случайный лес дать нам результат лучше, чем нейронные сети."
      ],
      "id": "three-moderator"
    },
    {
      "cell_type": "markdown",
      "metadata": {
        "id": "false-sheet"
      },
      "source": [
        "Для каждой метки будем подбирать наилучшие параметры дерева. Чтобы сократить время обучения, будем использовать RandomizedSearchCV. Вместо разбиения множества на 5 подмножеств на кросс-валидации, будем разделять множество только на два, как если бы мы тренировали дерево и потом валидировали."
      ],
      "id": "false-sheet"
    },
    {
      "cell_type": "code",
      "execution_count": 127,
      "metadata": {
        "id": "amber-convert"
      },
      "outputs": [],
      "source": [
        "tree_scores = {'train' : [], 'test' : []}\n",
        "tree_accuracy = {'train' : [], 'test' : []}"
      ],
      "id": "amber-convert"
    },
    {
      "cell_type": "code",
      "execution_count": 128,
      "metadata": {
        "id": "latest-packing"
      },
      "outputs": [],
      "source": [
        "from sklearn.ensemble import RandomForestClassifier\n",
        "from sklearn.model_selection import RandomizedSearchCV\n",
        "\n",
        "def FindBestParams(attribute, verbose=1):\n",
        "    start = time.time()\n",
        "    params = {'max_depth' : [1, 4, 7, 10, 12, 15], \n",
        "          'min_samples_split' : [2, 6, 10], \n",
        "          'min_samples_leaf' : [1, 4, 7, 10]}\n",
        "    search = RandomizedSearchCV(RandomForestClassifier(), params, scoring='f1', \n",
        "                                cv=2, random_state=42, verbose=verbose, n_iter=16)\n",
        "    search.fit(x_train, y_train[attribute])\n",
        "    print('---Best params:', search.best_params_, '\\t time:', time.time() - start)\n",
        "    return search.best_estimator_"
      ],
      "id": "latest-packing"
    },
    {
      "cell_type": "code",
      "execution_count": 129,
      "metadata": {
        "id": "acquired-waste"
      },
      "outputs": [],
      "source": [
        "def ForestAndStatsForAttribute(attribute):\n",
        "    print(attribute)\n",
        "    clf = FindBestParams(attribute, verbose=2)\n",
        "    clf.fit(x_train, y_train[attribute])\n",
        "    CheckStats(clf, attribute, tree_scores)\n",
        "    CountSGDAccuracy(clf, attribute, tree_accuracy)"
      ],
      "id": "acquired-waste"
    },
    {
      "cell_type": "code",
      "execution_count": 130,
      "metadata": {
        "colab": {
          "base_uri": "https://localhost:8080/"
        },
        "id": "enabling-refrigerator",
        "outputId": "a5972fcb-12f1-49ed-d392-a3fdb1d535fb"
      },
      "outputs": [
        {
          "output_type": "stream",
          "name": "stdout",
          "text": [
            "Male\n",
            "Fitting 2 folds for each of 16 candidates, totalling 32 fits\n",
            "[CV] END max_depth=1, min_samples_leaf=4, min_samples_split=6; total time=   4.8s\n",
            "[CV] END max_depth=1, min_samples_leaf=4, min_samples_split=6; total time=   4.7s\n",
            "[CV] END max_depth=15, min_samples_leaf=1, min_samples_split=10; total time=  13.1s\n",
            "[CV] END max_depth=15, min_samples_leaf=1, min_samples_split=10; total time=  13.1s\n",
            "[CV] END max_depth=4, min_samples_leaf=7, min_samples_split=2; total time=   7.5s\n",
            "[CV] END max_depth=4, min_samples_leaf=7, min_samples_split=2; total time=   7.4s\n",
            "[CV] END max_depth=1, min_samples_leaf=1, min_samples_split=2; total time=   4.6s\n",
            "[CV] END max_depth=1, min_samples_leaf=1, min_samples_split=2; total time=   4.7s\n",
            "[CV] END max_depth=7, min_samples_leaf=4, min_samples_split=6; total time=  10.1s\n",
            "[CV] END max_depth=7, min_samples_leaf=4, min_samples_split=6; total time=  10.1s\n",
            "[CV] END max_depth=12, min_samples_leaf=1, min_samples_split=10; total time=  12.5s\n",
            "[CV] END max_depth=12, min_samples_leaf=1, min_samples_split=10; total time=  12.6s\n",
            "[CV] END max_depth=1, min_samples_leaf=10, min_samples_split=6; total time=   4.7s\n",
            "[CV] END max_depth=1, min_samples_leaf=10, min_samples_split=6; total time=   4.7s\n",
            "[CV] END max_depth=7, min_samples_leaf=10, min_samples_split=6; total time=   9.6s\n",
            "[CV] END max_depth=7, min_samples_leaf=10, min_samples_split=6; total time=   9.6s\n",
            "[CV] END max_depth=4, min_samples_leaf=1, min_samples_split=2; total time=   7.4s\n",
            "[CV] END max_depth=4, min_samples_leaf=1, min_samples_split=2; total time=   7.4s\n",
            "[CV] END max_depth=12, min_samples_leaf=7, min_samples_split=2; total time=  10.9s\n",
            "[CV] END max_depth=12, min_samples_leaf=7, min_samples_split=2; total time=  11.0s\n",
            "[CV] END max_depth=10, min_samples_leaf=10, min_samples_split=10; total time=  10.4s\n",
            "[CV] END max_depth=10, min_samples_leaf=10, min_samples_split=10; total time=  10.4s\n",
            "[CV] END max_depth=7, min_samples_leaf=7, min_samples_split=6; total time=   9.7s\n",
            "[CV] END max_depth=7, min_samples_leaf=7, min_samples_split=6; total time=   9.7s\n",
            "[CV] END max_depth=1, min_samples_leaf=10, min_samples_split=2; total time=   4.7s\n",
            "[CV] END max_depth=1, min_samples_leaf=10, min_samples_split=2; total time=   4.7s\n",
            "[CV] END max_depth=10, min_samples_leaf=10, min_samples_split=2; total time=  10.3s\n",
            "[CV] END max_depth=10, min_samples_leaf=10, min_samples_split=2; total time=  10.3s\n",
            "[CV] END max_depth=1, min_samples_leaf=4, min_samples_split=10; total time=   4.7s\n",
            "[CV] END max_depth=1, min_samples_leaf=4, min_samples_split=10; total time=   4.7s\n",
            "[CV] END max_depth=4, min_samples_leaf=10, min_samples_split=6; total time=   7.3s\n",
            "[CV] END max_depth=4, min_samples_leaf=10, min_samples_split=6; total time=   7.2s\n",
            "---Best params: {'min_samples_split': 10, 'min_samples_leaf': 1, 'max_depth': 15} \t time: 329.6496720314026\n",
            "Сlassifier for  Male\n",
            "train f1 score:  0.9997017596182524\n",
            "test f1 score:  0.8693528693528695\n"
          ]
        }
      ],
      "source": [
        "ForestAndStatsForAttribute(attributes[0])"
      ],
      "id": "enabling-refrigerator"
    },
    {
      "cell_type": "code",
      "execution_count": 131,
      "metadata": {
        "colab": {
          "base_uri": "https://localhost:8080/"
        },
        "id": "insured-private",
        "outputId": "96ccb7ca-8c35-4652-f157-f4cf92ae5799"
      },
      "outputs": [
        {
          "output_type": "stream",
          "name": "stdout",
          "text": [
            "Wearing_Lipstick\n",
            "Fitting 2 folds for each of 16 candidates, totalling 32 fits\n",
            "[CV] END max_depth=1, min_samples_leaf=4, min_samples_split=6; total time=   4.7s\n",
            "[CV] END max_depth=1, min_samples_leaf=4, min_samples_split=6; total time=   4.6s\n",
            "[CV] END max_depth=15, min_samples_leaf=1, min_samples_split=10; total time=  13.0s\n",
            "[CV] END max_depth=15, min_samples_leaf=1, min_samples_split=10; total time=  13.0s\n",
            "[CV] END max_depth=4, min_samples_leaf=7, min_samples_split=2; total time=   7.2s\n",
            "[CV] END max_depth=4, min_samples_leaf=7, min_samples_split=2; total time=   7.3s\n",
            "[CV] END max_depth=1, min_samples_leaf=1, min_samples_split=2; total time=   4.6s\n",
            "[CV] END max_depth=1, min_samples_leaf=1, min_samples_split=2; total time=   4.7s\n",
            "[CV] END max_depth=7, min_samples_leaf=4, min_samples_split=6; total time=   9.8s\n",
            "[CV] END max_depth=7, min_samples_leaf=4, min_samples_split=6; total time=  10.0s\n",
            "[CV] END max_depth=12, min_samples_leaf=1, min_samples_split=10; total time=  12.6s\n",
            "[CV] END max_depth=12, min_samples_leaf=1, min_samples_split=10; total time=  12.6s\n",
            "[CV] END max_depth=1, min_samples_leaf=10, min_samples_split=6; total time=   4.7s\n",
            "[CV] END max_depth=1, min_samples_leaf=10, min_samples_split=6; total time=   4.7s\n",
            "[CV] END max_depth=7, min_samples_leaf=10, min_samples_split=6; total time=   9.5s\n",
            "[CV] END max_depth=7, min_samples_leaf=10, min_samples_split=6; total time=   9.5s\n",
            "[CV] END max_depth=4, min_samples_leaf=1, min_samples_split=2; total time=   7.3s\n",
            "[CV] END max_depth=4, min_samples_leaf=1, min_samples_split=2; total time=   7.4s\n",
            "[CV] END max_depth=12, min_samples_leaf=7, min_samples_split=2; total time=  11.2s\n",
            "[CV] END max_depth=12, min_samples_leaf=7, min_samples_split=2; total time=  11.0s\n",
            "[CV] END max_depth=10, min_samples_leaf=10, min_samples_split=10; total time=  10.3s\n",
            "[CV] END max_depth=10, min_samples_leaf=10, min_samples_split=10; total time=  10.4s\n",
            "[CV] END max_depth=7, min_samples_leaf=7, min_samples_split=6; total time=   9.7s\n",
            "[CV] END max_depth=7, min_samples_leaf=7, min_samples_split=6; total time=   9.8s\n",
            "[CV] END max_depth=1, min_samples_leaf=10, min_samples_split=2; total time=   4.6s\n",
            "[CV] END max_depth=1, min_samples_leaf=10, min_samples_split=2; total time=   4.7s\n",
            "[CV] END max_depth=10, min_samples_leaf=10, min_samples_split=2; total time=  10.3s\n",
            "[CV] END max_depth=10, min_samples_leaf=10, min_samples_split=2; total time=  10.4s\n",
            "[CV] END max_depth=1, min_samples_leaf=4, min_samples_split=10; total time=   4.7s\n",
            "[CV] END max_depth=1, min_samples_leaf=4, min_samples_split=10; total time=   4.7s\n",
            "[CV] END max_depth=4, min_samples_leaf=10, min_samples_split=6; total time=   7.3s\n",
            "[CV] END max_depth=4, min_samples_leaf=10, min_samples_split=6; total time=   7.4s\n",
            "---Best params: {'min_samples_split': 2, 'min_samples_leaf': 7, 'max_depth': 12} \t time: 325.183963060379\n",
            "Сlassifier for  Wearing_Lipstick\n",
            "train f1 score:  0.983442838370565\n",
            "test f1 score:  0.8722280887011615\n"
          ]
        }
      ],
      "source": [
        "ForestAndStatsForAttribute(attributes[1])"
      ],
      "id": "insured-private"
    },
    {
      "cell_type": "code",
      "execution_count": 132,
      "metadata": {
        "colab": {
          "base_uri": "https://localhost:8080/"
        },
        "id": "original-launch",
        "outputId": "9fe0ddd3-b540-4baa-c8b5-59f84f11f3e2"
      },
      "outputs": [
        {
          "output_type": "stream",
          "name": "stdout",
          "text": [
            "Smiling\n",
            "Fitting 2 folds for each of 16 candidates, totalling 32 fits\n",
            "[CV] END max_depth=1, min_samples_leaf=4, min_samples_split=6; total time=   4.9s\n",
            "[CV] END max_depth=1, min_samples_leaf=4, min_samples_split=6; total time=   4.8s\n",
            "[CV] END max_depth=15, min_samples_leaf=1, min_samples_split=10; total time=  13.1s\n",
            "[CV] END max_depth=15, min_samples_leaf=1, min_samples_split=10; total time=  13.2s\n",
            "[CV] END max_depth=4, min_samples_leaf=7, min_samples_split=2; total time=   7.4s\n",
            "[CV] END max_depth=4, min_samples_leaf=7, min_samples_split=2; total time=   7.3s\n",
            "[CV] END max_depth=1, min_samples_leaf=1, min_samples_split=2; total time=   4.6s\n",
            "[CV] END max_depth=1, min_samples_leaf=1, min_samples_split=2; total time=   4.7s\n",
            "[CV] END max_depth=7, min_samples_leaf=4, min_samples_split=6; total time=   9.8s\n",
            "[CV] END max_depth=7, min_samples_leaf=4, min_samples_split=6; total time=   9.8s\n",
            "[CV] END max_depth=12, min_samples_leaf=1, min_samples_split=10; total time=  12.3s\n",
            "[CV] END max_depth=12, min_samples_leaf=1, min_samples_split=10; total time=  12.4s\n",
            "[CV] END max_depth=1, min_samples_leaf=10, min_samples_split=6; total time=   4.6s\n",
            "[CV] END max_depth=1, min_samples_leaf=10, min_samples_split=6; total time=   4.7s\n",
            "[CV] END max_depth=7, min_samples_leaf=10, min_samples_split=6; total time=   9.2s\n",
            "[CV] END max_depth=7, min_samples_leaf=10, min_samples_split=6; total time=   9.4s\n",
            "[CV] END max_depth=4, min_samples_leaf=1, min_samples_split=2; total time=   7.3s\n",
            "[CV] END max_depth=4, min_samples_leaf=1, min_samples_split=2; total time=   7.3s\n",
            "[CV] END max_depth=12, min_samples_leaf=7, min_samples_split=2; total time=  10.7s\n",
            "[CV] END max_depth=12, min_samples_leaf=7, min_samples_split=2; total time=  10.8s\n",
            "[CV] END max_depth=10, min_samples_leaf=10, min_samples_split=10; total time=  10.0s\n",
            "[CV] END max_depth=10, min_samples_leaf=10, min_samples_split=10; total time=  10.2s\n",
            "[CV] END max_depth=7, min_samples_leaf=7, min_samples_split=6; total time=   9.5s\n",
            "[CV] END max_depth=7, min_samples_leaf=7, min_samples_split=6; total time=   9.7s\n",
            "[CV] END max_depth=1, min_samples_leaf=10, min_samples_split=2; total time=   4.7s\n",
            "[CV] END max_depth=1, min_samples_leaf=10, min_samples_split=2; total time=   4.7s\n",
            "[CV] END max_depth=10, min_samples_leaf=10, min_samples_split=2; total time=  10.1s\n",
            "[CV] END max_depth=10, min_samples_leaf=10, min_samples_split=2; total time=  10.1s\n",
            "[CV] END max_depth=1, min_samples_leaf=4, min_samples_split=10; total time=   4.7s\n",
            "[CV] END max_depth=1, min_samples_leaf=4, min_samples_split=10; total time=   4.7s\n",
            "[CV] END max_depth=4, min_samples_leaf=10, min_samples_split=6; total time=   7.2s\n",
            "[CV] END max_depth=4, min_samples_leaf=10, min_samples_split=6; total time=   7.3s\n",
            "---Best params: {'min_samples_split': 2, 'min_samples_leaf': 10, 'max_depth': 10} \t time: 320.28229880332947\n",
            "Сlassifier for  Smiling\n",
            "train f1 score:  0.9617224880382775\n",
            "test f1 score:  0.8246674727932285\n"
          ]
        }
      ],
      "source": [
        "ForestAndStatsForAttribute(attributes[2])"
      ],
      "id": "original-launch"
    },
    {
      "cell_type": "code",
      "execution_count": 133,
      "metadata": {
        "colab": {
          "base_uri": "https://localhost:8080/"
        },
        "id": "simple-counter",
        "outputId": "fde8ae16-a1f2-480a-ce90-995d37e33730"
      },
      "outputs": [
        {
          "output_type": "stream",
          "name": "stdout",
          "text": [
            "Big_Lips\n",
            "Fitting 2 folds for each of 16 candidates, totalling 32 fits\n",
            "[CV] END max_depth=1, min_samples_leaf=4, min_samples_split=6; total time=   4.8s\n",
            "[CV] END max_depth=1, min_samples_leaf=4, min_samples_split=6; total time=   4.7s\n",
            "[CV] END max_depth=15, min_samples_leaf=1, min_samples_split=10; total time=  14.1s\n",
            "[CV] END max_depth=15, min_samples_leaf=1, min_samples_split=10; total time=  14.1s\n",
            "[CV] END max_depth=4, min_samples_leaf=7, min_samples_split=2; total time=   7.0s\n",
            "[CV] END max_depth=4, min_samples_leaf=7, min_samples_split=2; total time=   7.1s\n",
            "[CV] END max_depth=1, min_samples_leaf=1, min_samples_split=2; total time=   4.7s\n",
            "[CV] END max_depth=1, min_samples_leaf=1, min_samples_split=2; total time=   4.7s\n",
            "[CV] END max_depth=7, min_samples_leaf=4, min_samples_split=6; total time=   9.5s\n",
            "[CV] END max_depth=7, min_samples_leaf=4, min_samples_split=6; total time=   9.8s\n",
            "[CV] END max_depth=12, min_samples_leaf=1, min_samples_split=10; total time=  13.0s\n",
            "[CV] END max_depth=12, min_samples_leaf=1, min_samples_split=10; total time=  13.1s\n",
            "[CV] END max_depth=1, min_samples_leaf=10, min_samples_split=6; total time=   4.8s\n",
            "[CV] END max_depth=1, min_samples_leaf=10, min_samples_split=6; total time=   4.7s\n",
            "[CV] END max_depth=7, min_samples_leaf=10, min_samples_split=6; total time=   9.3s\n",
            "[CV] END max_depth=7, min_samples_leaf=10, min_samples_split=6; total time=   9.4s\n",
            "[CV] END max_depth=4, min_samples_leaf=1, min_samples_split=2; total time=   7.1s\n",
            "[CV] END max_depth=4, min_samples_leaf=1, min_samples_split=2; total time=   7.1s\n",
            "[CV] END max_depth=12, min_samples_leaf=7, min_samples_split=2; total time=  11.6s\n",
            "[CV] END max_depth=12, min_samples_leaf=7, min_samples_split=2; total time=  11.8s\n",
            "[CV] END max_depth=10, min_samples_leaf=10, min_samples_split=10; total time=  10.7s\n",
            "[CV] END max_depth=10, min_samples_leaf=10, min_samples_split=10; total time=  11.0s\n",
            "[CV] END max_depth=7, min_samples_leaf=7, min_samples_split=6; total time=   9.5s\n",
            "[CV] END max_depth=7, min_samples_leaf=7, min_samples_split=6; total time=   9.5s\n",
            "[CV] END max_depth=1, min_samples_leaf=10, min_samples_split=2; total time=   4.7s\n",
            "[CV] END max_depth=1, min_samples_leaf=10, min_samples_split=2; total time=   4.8s\n",
            "[CV] END max_depth=10, min_samples_leaf=10, min_samples_split=2; total time=  11.0s\n",
            "[CV] END max_depth=10, min_samples_leaf=10, min_samples_split=2; total time=  11.0s\n",
            "[CV] END max_depth=1, min_samples_leaf=4, min_samples_split=10; total time=   4.7s\n",
            "[CV] END max_depth=1, min_samples_leaf=4, min_samples_split=10; total time=   4.7s\n",
            "[CV] END max_depth=4, min_samples_leaf=10, min_samples_split=6; total time=   7.1s\n",
            "[CV] END max_depth=4, min_samples_leaf=10, min_samples_split=6; total time=   7.1s\n",
            "---Best params: {'min_samples_split': 10, 'min_samples_leaf': 1, 'max_depth': 15} \t time: 334.82029914855957\n",
            "Сlassifier for  Big_Lips\n",
            "train f1 score:  0.9418859649122807\n",
            "test f1 score:  0.06920415224913495\n"
          ]
        }
      ],
      "source": [
        "ForestAndStatsForAttribute(attributes[3])"
      ],
      "id": "simple-counter"
    },
    {
      "cell_type": "code",
      "execution_count": 134,
      "metadata": {
        "colab": {
          "base_uri": "https://localhost:8080/"
        },
        "id": "compressed-tsunami",
        "outputId": "51103092-29b8-46ee-c8e4-a19fb13d4cec"
      },
      "outputs": [
        {
          "output_type": "stream",
          "name": "stdout",
          "text": [
            "Mustache\n",
            "Fitting 2 folds for each of 16 candidates, totalling 32 fits\n",
            "[CV] END max_depth=1, min_samples_leaf=4, min_samples_split=6; total time=   4.7s\n",
            "[CV] END max_depth=1, min_samples_leaf=4, min_samples_split=6; total time=   4.7s\n",
            "[CV] END max_depth=15, min_samples_leaf=1, min_samples_split=10; total time=  13.2s\n",
            "[CV] END max_depth=15, min_samples_leaf=1, min_samples_split=10; total time=  13.1s\n",
            "[CV] END max_depth=4, min_samples_leaf=7, min_samples_split=2; total time=   7.0s\n",
            "[CV] END max_depth=4, min_samples_leaf=7, min_samples_split=2; total time=   7.0s\n",
            "[CV] END max_depth=1, min_samples_leaf=1, min_samples_split=2; total time=   4.7s\n",
            "[CV] END max_depth=1, min_samples_leaf=1, min_samples_split=2; total time=   4.8s\n",
            "[CV] END max_depth=7, min_samples_leaf=4, min_samples_split=6; total time=   9.1s\n",
            "[CV] END max_depth=7, min_samples_leaf=4, min_samples_split=6; total time=   9.3s\n",
            "[CV] END max_depth=12, min_samples_leaf=1, min_samples_split=10; total time=  12.2s\n",
            "[CV] END max_depth=12, min_samples_leaf=1, min_samples_split=10; total time=  12.1s\n",
            "[CV] END max_depth=1, min_samples_leaf=10, min_samples_split=6; total time=   4.7s\n",
            "[CV] END max_depth=1, min_samples_leaf=10, min_samples_split=6; total time=   4.7s\n",
            "[CV] END max_depth=7, min_samples_leaf=10, min_samples_split=6; total time=   8.9s\n",
            "[CV] END max_depth=7, min_samples_leaf=10, min_samples_split=6; total time=   8.9s\n",
            "[CV] END max_depth=4, min_samples_leaf=1, min_samples_split=2; total time=   7.0s\n",
            "[CV] END max_depth=4, min_samples_leaf=1, min_samples_split=2; total time=   7.0s\n",
            "[CV] END max_depth=12, min_samples_leaf=7, min_samples_split=2; total time=  10.8s\n",
            "[CV] END max_depth=12, min_samples_leaf=7, min_samples_split=2; total time=  10.8s\n",
            "[CV] END max_depth=10, min_samples_leaf=10, min_samples_split=10; total time=  10.1s\n",
            "[CV] END max_depth=10, min_samples_leaf=10, min_samples_split=10; total time=   9.8s\n",
            "[CV] END max_depth=7, min_samples_leaf=7, min_samples_split=6; total time=   9.0s\n",
            "[CV] END max_depth=7, min_samples_leaf=7, min_samples_split=6; total time=   9.1s\n",
            "[CV] END max_depth=1, min_samples_leaf=10, min_samples_split=2; total time=   4.7s\n",
            "[CV] END max_depth=1, min_samples_leaf=10, min_samples_split=2; total time=   4.7s\n",
            "[CV] END max_depth=10, min_samples_leaf=10, min_samples_split=2; total time=  10.1s\n",
            "[CV] END max_depth=10, min_samples_leaf=10, min_samples_split=2; total time=  10.0s\n",
            "[CV] END max_depth=1, min_samples_leaf=4, min_samples_split=10; total time=   4.7s\n",
            "[CV] END max_depth=1, min_samples_leaf=4, min_samples_split=10; total time=   4.8s\n",
            "[CV] END max_depth=4, min_samples_leaf=10, min_samples_split=6; total time=   6.9s\n",
            "[CV] END max_depth=4, min_samples_leaf=10, min_samples_split=6; total time=   7.0s\n",
            "---Best params: {'min_samples_split': 6, 'min_samples_leaf': 4, 'max_depth': 1} \t time: 302.748334646225\n",
            "Сlassifier for  Mustache\n",
            "train f1 score:  0.0\n",
            "test f1 score:  0.0\n"
          ]
        }
      ],
      "source": [
        "ForestAndStatsForAttribute(attributes[4])"
      ],
      "id": "compressed-tsunami"
    },
    {
      "cell_type": "markdown",
      "source": [
        "## Статистика"
      ],
      "metadata": {
        "id": "cXafWo2-_Avu"
      },
      "id": "cXafWo2-_Avu"
    },
    {
      "cell_type": "code",
      "source": [
        "stupid_accuracy = {'train' : [], 'test' : []}\n",
        "for attribute in attributes:\n",
        "  train_max = max(y_train[y_train[attribute] == 1].size, y_train[y_train[attribute] == 0].size)\n",
        "  test_max = max(y_test[y_test[attribute] == 1].size, y_test[y_test[attribute] == 0].size)\n",
        "  stupid_accuracy['train'].append(train_max / y_train.size)\n",
        "  stupid_accuracy['test'].append(test_max / y_test.size)"
      ],
      "metadata": {
        "id": "8emVBIpSIxBb"
      },
      "id": "8emVBIpSIxBb",
      "execution_count": 135,
      "outputs": []
    },
    {
      "cell_type": "code",
      "source": [
        "for attribute in attributes:\n",
        "  print()"
      ],
      "metadata": {
        "id": "fXLKrgx9Mb4Q",
        "colab": {
          "base_uri": "https://localhost:8080/"
        },
        "outputId": "25621f63-ea9d-44da-bd3c-c98c9ede3265"
      },
      "id": "fXLKrgx9Mb4Q",
      "execution_count": 136,
      "outputs": [
        {
          "output_type": "stream",
          "name": "stdout",
          "text": [
            "\n",
            "\n",
            "\n",
            "\n",
            "\n"
          ]
        }
      ]
    },
    {
      "cell_type": "code",
      "source": [
        "stats_attributes = attributes * 4\n",
        "stats = pd.DataFrame({'train_score': sgd_1_accuracy['train'] + sgd_3_accuracy['train'] \\\n",
        "                      + tree_accuracy['train'] + stupid_accuracy['train'], \n",
        "                      'test_score': sgd_1_accuracy['test'] + sgd_3_accuracy['test'] \\\n",
        "                      + tree_accuracy['test'] + stupid_accuracy['test'], \n",
        "                      'method' : ['sgd_1_accuracy'] * 5 + ['sgd_3_accuracy'] * 5 + ['tree_accuracy'] * 5 + ['stupid_accuracy'] * 5},\n",
        "                      index=stats_attributes)\n",
        "\n",
        "plt.figure(figsize=(15,8))\n",
        "sns.barplot(data=stats, x=stats.index, y='train_score', hue='method')"
      ],
      "metadata": {
        "colab": {
          "base_uri": "https://localhost:8080/",
          "height": 501
        },
        "id": "3pQXtYDQ7hSY",
        "outputId": "9227fbcf-8e99-48a2-8cce-dc1e19a3094f"
      },
      "id": "3pQXtYDQ7hSY",
      "execution_count": 137,
      "outputs": [
        {
          "output_type": "execute_result",
          "data": {
            "text/plain": [
              "<matplotlib.axes._subplots.AxesSubplot at 0x7f1c18ced390>"
            ]
          },
          "metadata": {},
          "execution_count": 137
        },
        {
          "output_type": "display_data",
          "data": {
            "image/png": "[encoded data removed]",
            "text/plain": [
              "<Figure size 1080x576 with 1 Axes>"
            ]
          },
          "metadata": {
            "needs_background": "light"
          }
        }
      ]
    },
    {
      "cell_type": "code",
      "source": [
        "plt.figure(figsize=(15,8))\n",
        "sns.barplot(data=stats, x=stats.index, y='test_score', hue='method')"
      ],
      "metadata": {
        "colab": {
          "base_uri": "https://localhost:8080/",
          "height": 501
        },
        "id": "EbQdKRczMhZQ",
        "outputId": "aa3e8cb6-5f8e-4523-f73a-2745bb79f08f"
      },
      "id": "EbQdKRczMhZQ",
      "execution_count": 138,
      "outputs": [
        {
          "output_type": "execute_result",
          "data": {
            "text/plain": [
              "<matplotlib.axes._subplots.AxesSubplot at 0x7f1aa2a47890>"
            ]
          },
          "metadata": {},
          "execution_count": 138
        },
        {
          "output_type": "display_data",
          "data": {
            "image/png": "[encoded data removed]",
            "text/plain": [
              "<Figure size 1080x576 with 1 Axes>"
            ]
          },
          "metadata": {
            "needs_background": "light"
          }
        }
      ]
    },
    {
      "cell_type": "code",
      "source": [
        "stats_attributes = attributes * 3\n",
        "stats = pd.DataFrame({'train_score': sgd_1_scores['train'] + sgd_3_scores['train'] \\\n",
        "                      + tree_scores['train'], \n",
        "                      'test_score': sgd_1_scores['test'] + sgd_3_scores['test'] \\\n",
        "                      + tree_scores['test'],  \n",
        "                      'method' : ['sgd_1_scores'] * 5 + ['sgd_3_scores'] * 5 + ['tree_scores'] * 5},\n",
        "                      index=stats_attributes)\n",
        "\n",
        "plt.figure(figsize=(15,8))\n",
        "sns.barplot(data=stats, x=stats.index, y='train_score', hue='method')"
      ],
      "metadata": {
        "colab": {
          "base_uri": "https://localhost:8080/",
          "height": 501
        },
        "id": "uPWov5-TNh3I",
        "outputId": "4bb8fafb-e616-4ca3-ca19-f0f74be27b1a"
      },
      "id": "uPWov5-TNh3I",
      "execution_count": 139,
      "outputs": [
        {
          "output_type": "execute_result",
          "data": {
            "text/plain": [
              "<matplotlib.axes._subplots.AxesSubplot at 0x7f1aa2844e50>"
            ]
          },
          "metadata": {},
          "execution_count": 139
        },
        {
          "output_type": "display_data",
          "data": {
            "image/png": "[encoded data removed]",
            "text/plain": [
              "<Figure size 1080x576 with 1 Axes>"
            ]
          },
          "metadata": {
            "needs_background": "light"
          }
        }
      ]
    },
    {
      "cell_type": "code",
      "source": [
        "plt.figure(figsize=(15,8))\n",
        "sns.barplot(data=stats, x=stats.index, y='test_score', hue='method')"
      ],
      "metadata": {
        "colab": {
          "base_uri": "https://localhost:8080/",
          "height": 501
        },
        "id": "AJADSLjXOFAH",
        "outputId": "03ebfa5a-f013-4c2b-f00f-4bc2b094bbf0"
      },
      "id": "AJADSLjXOFAH",
      "execution_count": 140,
      "outputs": [
        {
          "output_type": "execute_result",
          "data": {
            "text/plain": [
              "<matplotlib.axes._subplots.AxesSubplot at 0x7f1aa27fcad0>"
            ]
          },
          "metadata": {},
          "execution_count": 140
        },
        {
          "output_type": "display_data",
          "data": {
            "image/png": "[encoded data removed]",
            "text/plain": [
              "<Figure size 1080x576 with 1 Axes>"
            ]
          },
          "metadata": {
            "needs_background": "light"
          }
        }
      ]
    },
    {
      "cell_type": "markdown",
      "metadata": {
        "id": "blank-brush"
      },
      "source": [
        "## Обучение полносвязной нейронной сети"
      ],
      "id": "blank-brush"
    },
    {
      "cell_type": "code",
      "execution_count": 100,
      "metadata": {
        "id": "massive-demonstration"
      },
      "outputs": [],
      "source": [
        "import torch\n",
        "from torch import nn\n",
        "from torch.nn.functional import one_hot\n",
        "from torch.utils.data.dataset import random_split\n",
        "from torch.utils.data import Dataset, TensorDataset, DataLoader\n",
        "import torch.optim as optim\n",
        "import torch.nn.functional as F"
      ],
      "id": "massive-demonstration"
    },
    {
      "cell_type": "code",
      "execution_count": 101,
      "metadata": {
        "id": "aware-rebate"
      },
      "outputs": [],
      "source": [
        "model_adam_scores = {'train' : [], 'test' : []}\n",
        "model_sgd_scores = {'train' : [], 'test' : []}\n",
        "image_size = 9701"
      ],
      "id": "aware-rebate"
    },
    {
      "cell_type": "code",
      "execution_count": 102,
      "metadata": {
        "id": "convenient-chosen"
      },
      "outputs": [],
      "source": [
        "device = 'cuda:0' if torch.cuda.is_available() else 'cpu'\n",
        "\n",
        "input_size = image_size\n",
        "hidden_sizes = [512, 256, 128]\n",
        "output_size = 2\n",
        "\n",
        "x_train_tensor = torch.from_numpy(x_train.to_numpy().astype('float32')).to(device)\n",
        "x_val_tensor = torch.from_numpy(x_val.to_numpy().astype('float32')).to(device)\n",
        "x_test_tensor = torch.from_numpy(x_test.to_numpy().astype('float32')).to(device)"
      ],
      "id": "convenient-chosen"
    },
    {
      "cell_type": "code",
      "execution_count": 103,
      "metadata": {
        "id": "knowing-sandwich"
      },
      "outputs": [],
      "source": [
        "def CreateModel():\n",
        "    model = nn.Sequential(nn.Linear(input_size, hidden_sizes[0]),\n",
        "                          nn.ReLU(),\n",
        "                          nn.Linear(hidden_sizes[0], hidden_sizes[1]),\n",
        "                          nn.ReLU(),\n",
        "                          nn.Linear(hidden_sizes[1], hidden_sizes[2]),\n",
        "                          nn.ReLU(),\n",
        "                          nn.Linear(hidden_sizes[2], output_size),\n",
        "                          nn.Sigmoid())\n",
        "    return model"
      ],
      "id": "knowing-sandwich"
    },
    {
      "cell_type": "code",
      "execution_count": 104,
      "metadata": {
        "id": "distinct-flour"
      },
      "outputs": [],
      "source": [
        "def CreateParametres(attribute, model):\n",
        "    y_train_tensor = torch.from_numpy(y_train[attribute].to_numpy()).to(torch.int64)                               \n",
        "\n",
        "    y_val_tensor = torch.from_numpy(y_val[attribute].to_numpy()).to(torch.int64)  \n",
        "\n",
        "    y_test_tensor = torch.from_numpy(y_test[attribute].to_numpy()).to(torch.int64)\n",
        "\n",
        "    train_dataset = TensorDataset(x_train_tensor, y_train_tensor)\n",
        "    train_loader = DataLoader(dataset=train_dataset, batch_size=100)\n",
        "\n",
        "    val_dataset = TensorDataset(x_val_tensor, y_val_tensor)\n",
        "    val_loader = DataLoader(dataset=val_dataset, batch_size=100)\n",
        "\n",
        "    if torch.cuda.is_available():\n",
        "        model = model.to(device)\n",
        "        \n",
        "    dataloaders  = {'train':train_loader, 'val':val_loader}\n",
        "    return dataloaders"
      ],
      "id": "distinct-flour"
    },
    {
      "cell_type": "code",
      "execution_count": 105,
      "metadata": {
        "id": "regional-clock"
      },
      "outputs": [],
      "source": [
        "def TrainModel(model, dataloaders, n_epochs, optimizer, verbose, early_stop, patience):\n",
        "    criterion = nn.CrossEntropyLoss()\n",
        "    train_loader = dataloaders['train']\n",
        "    val_loader = dataloaders['val']\n",
        "    prev_val_loss = 1\n",
        "    val_increase_counter = 0\n",
        "\n",
        "    if torch.cuda.is_available():\n",
        "        model = model.to(device)\n",
        "        criterion = criterion.to(device)\n",
        "\n",
        "    training_losses = []\n",
        "    validation_losses = []\n",
        "\n",
        "    for epoch in range(n_epochs):\n",
        "        batch_losses = []\n",
        "        for x_batch, y_batch in train_loader:\n",
        "            x_batch = x_batch.to(device)\n",
        "            y_batch = y_batch.to(device)\n",
        "\n",
        "            model.train()\n",
        "            yhat = model(x_batch)\n",
        "\n",
        "            loss = criterion(yhat, y_batch)\n",
        "            loss.backward()\n",
        "            optimizer.step()\n",
        "            optimizer.zero_grad()\n",
        "\n",
        "            batch_losses.append(loss.item())\n",
        "        training_loss = np.mean(batch_losses)\n",
        "        training_losses.append(training_loss)\n",
        "\n",
        "        with torch.no_grad():\n",
        "            val_losses = []\n",
        "            for x_val_batch, y_val_batch in val_loader:\n",
        "                x_val_batch = x_val_batch.to(device)\n",
        "                y_val_batch = y_val_batch.to(device)\n",
        "                model.eval()\n",
        "                yhat = model(x_val_batch)\n",
        "                val_loss = criterion(yhat, y_val_batch).item()\n",
        "                val_losses.append(val_loss)\n",
        "            validation_loss = np.mean(val_losses)\n",
        "            validation_losses.append(validation_loss)\n",
        "\n",
        "            if prev_val_loss < validation_loss:\n",
        "              val_increase_counter += 1\n",
        "            prev_val_loss = validation_loss\n",
        "            if val_increase_counter == patience and early_stop == True:\n",
        "              print(f'Stops on {epoch} epoch')\n",
        "              break\n",
        "            \n",
        "        if (verbose == 1):\n",
        "          print(f\"[{epoch}] Training loss: {training_loss}\\t Validation loss: {validation_loss}\")\n",
        "    return training_losses, validation_losses"
      ],
      "id": "regional-clock"
    },
    {
      "cell_type": "code",
      "execution_count": 106,
      "metadata": {
        "id": "positive-plaza"
      },
      "outputs": [],
      "source": [
        "def CheckModelStats(model, attribute, scores, optimizer_name):\n",
        "    print('Сlassifier for ', attribute)\n",
        "    pred_y_train = model(x_train_tensor).argmax(axis=1)\n",
        "    print('train f1 score: ', f1_score(pred_y_train.cpu().numpy(), y_train[attribute]))\n",
        "    pred_y_test = model(x_test_tensor).argmax(axis=1)\n",
        "    print('test f1 score: ', f1_score(pred_y_test.cpu().numpy(), y_test[attribute]))\n",
        "    \n",
        "    scores['train'].append(f1_score(pred_y_train.cpu().numpy(), y_train[attribute]))\n",
        "    scores['test'].append(f1_score(pred_y_test.cpu().numpy(), y_test[attribute]))"
      ],
      "id": "positive-plaza"
    },
    {
      "cell_type": "code",
      "execution_count": 107,
      "metadata": {
        "id": "Y9OUB3cu17-F"
      },
      "outputs": [],
      "source": [
        "def CreateOptimizer(optimizer_name, model, momentum):\n",
        "    optimizer = None\n",
        "    if (optimizer_name == 'Adam'):\n",
        "      optimizer = optim.Adam(params=model.parameters(), lr=3e-4)\n",
        "    if (optimizer_name == 'SGD'):\n",
        "      optimizer = optim.SGD(params=model.parameters(), lr=1e-3, momentum=momentum)\n",
        "    return optimizer"
      ],
      "id": "Y9OUB3cu17-F"
    },
    {
      "cell_type": "code",
      "execution_count": 108,
      "metadata": {
        "id": "x5HoEomrsWPD"
      },
      "outputs": [],
      "source": [
        "def ModelForAttribute(attribute, optimizer_name, n_epochs=10, verbose=0, momentum=0, early_stop = False, patience=7):\n",
        "    model = CreateModel()\n",
        "    dataloaders = CreateParametres(attribute, model)\n",
        "    optimizer = CreateOptimizer(optimizer_name, model, momentum)\n",
        "    training_losses, validation_losses = TrainModel(model, dataloaders, n_epochs, optimizer, verbose, early_stop, patience)\n",
        "    if (optimizer_name == 'Adam'):\n",
        "        CheckModelStats(model, attribute, model_adam_scores, optimizer_name)\n",
        "    if (optimizer_name == 'SGD'):\n",
        "        CheckModelStats(model, attribute, model_sgd_scores, optimizer_name)\n",
        "    return training_losses, validation_losses"
      ],
      "id": "x5HoEomrsWPD"
    },
    {
      "cell_type": "code",
      "execution_count": 115,
      "metadata": {
        "id": "RdKQrr9HClMq"
      },
      "outputs": [],
      "source": [
        "def PrintGraphics(training_losses, validation_losses, title):\n",
        "    f, ax1 = plt.subplots()   \n",
        "    ax1.plot(training_losses, 'b', label='Training loss')\n",
        "    ax1.plot(validation_losses, 'r', label='Validation loss')\n",
        "    ax1.set_title(title)\n",
        "    ax1.legend()"
      ],
      "id": "RdKQrr9HClMq"
    },
    {
      "cell_type": "markdown",
      "metadata": {
        "id": "6b_ndFPM1IjZ"
      },
      "source": [
        "Рассмотрим различные оптимайзеры, и выберем для каждого оптимальное количество эпох. Подробно разберем на одной метке, к примеру, пол."
      ],
      "id": "6b_ndFPM1IjZ"
    },
    {
      "cell_type": "markdown",
      "metadata": {
        "id": "JySFaWTR1odx"
      },
      "source": [
        "Рассмотрим оптимайзер SGD. Сначала оставим его параметры по умолчанию."
      ],
      "id": "JySFaWTR1odx"
    },
    {
      "cell_type": "code",
      "execution_count": 116,
      "metadata": {
        "colab": {
          "base_uri": "https://localhost:8080/",
          "height": 333
        },
        "id": "18fnWMPCxsog",
        "outputId": "a09acb26-fec5-4ccc-9304-237a6a1e03fe"
      },
      "outputs": [
        {
          "output_type": "stream",
          "name": "stdout",
          "text": [
            "Сlassifier for  Male\n",
            "train f1 score:  0.21336095287415846\n",
            "test f1 score:  0.22268907563025211\n"
          ]
        },
        {
          "output_type": "display_data",
          "data": {
            "image/png": "[encoded data removed]",
            "text/plain": [
              "<Figure size 432x288 with 1 Axes>"
            ]
          },
          "metadata": {
            "needs_background": "light"
          }
        }
      ],
      "source": [
        "train_losses, val_losses = ModelForAttribute(attributes[0], 'SGD', n_epochs=300)\n",
        "PrintGraphics(train_losses, val_losses, 'SGD loss')"
      ],
      "id": "18fnWMPCxsog"
    },
    {
      "cell_type": "markdown",
      "metadata": {
        "id": "wJAhg0w_2-Kf"
      },
      "source": [
        "Как видно, даже за 300 эпох сеть не достигает значимых результатов. Попробуем изменить моментум."
      ],
      "id": "wJAhg0w_2-Kf"
    },
    {
      "cell_type": "code",
      "execution_count": 117,
      "metadata": {
        "colab": {
          "base_uri": "https://localhost:8080/",
          "height": 333
        },
        "id": "ZdulNzId3IJB",
        "outputId": "5348b06d-084d-4579-e737-9be954a6cc01"
      },
      "outputs": [
        {
          "output_type": "stream",
          "name": "stdout",
          "text": [
            "Сlassifier for  Male\n",
            "train f1 score:  0.9713250830063387\n",
            "test f1 score:  0.8902589395807644\n"
          ]
        },
        {
          "output_type": "display_data",
          "data": {
            "image/png": "[encoded data removed]",
            "text/plain": [
              "<Figure size 432x288 with 1 Axes>"
            ]
          },
          "metadata": {
            "needs_background": "light"
          }
        }
      ],
      "source": [
        "train_losses, val_losses = ModelForAttribute(attributes[0], 'SGD', n_epochs=300, momentum=0.9)\n",
        "PrintGraphics(train_losses, val_losses, 'SGD loss')"
      ],
      "id": "ZdulNzId3IJB"
    },
    {
      "cell_type": "markdown",
      "source": [
        "На этом этапе возникает проблема переобучения. По графику видно, как на 100 эпохе валидационный лосс начинает ухудшаться."
      ],
      "metadata": {
        "id": "FZZoRJ5vEq4k"
      },
      "id": "FZZoRJ5vEq4k"
    },
    {
      "cell_type": "markdown",
      "source": [
        "Теперь рассмотрим оптимизатор Adam. Он сходится гораздо быстрее, однако является менее стабильным, результаты сильно различаются от запуска к запуску."
      ],
      "metadata": {
        "id": "Cnw5f3WlExdN"
      },
      "id": "Cnw5f3WlExdN"
    },
    {
      "cell_type": "code",
      "execution_count": 118,
      "metadata": {
        "colab": {
          "base_uri": "https://localhost:8080/",
          "height": 333
        },
        "id": "6u9c3owcsPAd",
        "outputId": "7d74d321-0f74-456a-dd7f-7ba7d984db73"
      },
      "outputs": [
        {
          "output_type": "stream",
          "name": "stdout",
          "text": [
            "Сlassifier for  Male\n",
            "train f1 score:  0.8965709506551435\n",
            "test f1 score:  0.8524945770065077\n"
          ]
        },
        {
          "output_type": "display_data",
          "data": {
            "image/png": "[encoded data removed]",
            "text/plain": [
              "<Figure size 432x288 with 1 Axes>"
            ]
          },
          "metadata": {
            "needs_background": "light"
          }
        }
      ],
      "source": [
        "train_losses, val_losses = ModelForAttribute(attributes[0], 'Adam', n_epochs=50)\n",
        "PrintGraphics(train_losses, val_losses, 'Adam loss')"
      ],
      "id": "6u9c3owcsPAd"
    },
    {
      "cell_type": "code",
      "execution_count": 120,
      "metadata": {
        "colab": {
          "base_uri": "https://localhost:8080/",
          "height": 965
        },
        "id": "PvANIqIU4Po9",
        "outputId": "d3f6bb23-61fa-48db-e78c-f9aa7b4b880f"
      },
      "outputs": [
        {
          "output_type": "stream",
          "name": "stdout",
          "text": [
            "Сlassifier for  Male\n",
            "train f1 score:  0.8715775749674055\n",
            "test f1 score:  0.8247978436657682\n",
            "Сlassifier for  Male\n",
            "train f1 score:  0.8624454148471616\n",
            "test f1 score:  0.8429035752979415\n",
            "Сlassifier for  Male\n",
            "train f1 score:  0.8955659276546092\n",
            "test f1 score:  0.8765859284890427\n"
          ]
        },
        {
          "output_type": "display_data",
          "data": {
            "image/png": "[encoded data removed]",
            "text/plain": [
              "<Figure size 432x288 with 1 Axes>"
            ]
          },
          "metadata": {
            "needs_background": "light"
          }
        },
        {
          "output_type": "display_data",
          "data": {
            "image/png": "[encoded data removed]",
            "text/plain": [
              "<Figure size 432x288 with 1 Axes>"
            ]
          },
          "metadata": {
            "needs_background": "light"
          }
        },
        {
          "output_type": "display_data",
          "data": {
            "image/png": "[encoded data removed]",
            "text/plain": [
              "<Figure size 432x288 with 1 Axes>"
            ]
          },
          "metadata": {
            "needs_background": "light"
          }
        }
      ],
      "source": [
        "train_losses, val_losses = ModelForAttribute(attributes[0], 'Adam', n_epochs=19)\n",
        "PrintGraphics(train_losses, val_losses, 'Adam loss')\n",
        "train_losses, val_losses = ModelForAttribute(attributes[0], 'Adam', n_epochs=19)\n",
        "PrintGraphics(train_losses, val_losses, 'Adam loss')\n",
        "train_losses, val_losses = ModelForAttribute(attributes[0], 'Adam', n_epochs=19)\n",
        "PrintGraphics(train_losses, val_losses, 'Adam loss')"
      ],
      "id": "PvANIqIU4Po9"
    },
    {
      "cell_type": "markdown",
      "metadata": {
        "id": "vU7t_L7i3gaw"
      },
      "source": [
        "Чтобы избежать проблемы переобучения, возпользуемся методом early stop. Если валидационный лосс продолжает ухудшаться на протяжении 7 эпох, можно сделать вывод, что началось переобучение и останавливать работу модели."
      ],
      "id": "vU7t_L7i3gaw"
    },
    {
      "cell_type": "markdown",
      "metadata": {
        "id": "cERF1Imy31wY"
      },
      "source": [
        "Можно сделать вывод, что оптимизатор Adam в данном случае показывает себя гораздо лучше и сходится гораздо быстрее, однако является менее предсказуемым, чем SGD. С Adam результаты обучения сильно изменяются от запуска к запуску, и очень сильно зависят от случайных начальных весов. С SGD мы получаем более долгое, однако более стабильное обучение. \n",
        "\n",
        "Проведем обучение на остальных параметрах. На данном этапе мы создаем отдельную сеть для каждого параметра."
      ],
      "id": "cERF1Imy31wY"
    },
    {
      "cell_type": "code",
      "execution_count": 121,
      "metadata": {
        "id": "MPDwLcHjJf-K"
      },
      "outputs": [],
      "source": [
        "model_adam_scores = {'train' : [], 'test' : []}\n",
        "model_sgd_scores = {'train' : [], 'test' : []}"
      ],
      "id": "MPDwLcHjJf-K"
    },
    {
      "cell_type": "code",
      "execution_count": 122,
      "metadata": {
        "colab": {
          "base_uri": "https://localhost:8080/",
          "height": 684
        },
        "id": "-8I-rPA2JeaO",
        "outputId": "db87fcf0-373a-4eb8-95bc-b77eaee9da01"
      },
      "outputs": [
        {
          "output_type": "stream",
          "name": "stdout",
          "text": [
            "Stops on 21 epoch\n",
            "Сlassifier for  Male\n",
            "train f1 score:  0.8286685848809834\n",
            "test f1 score:  0.8095238095238096\n",
            "Stops on 139 epoch\n",
            "Сlassifier for  Male\n",
            "train f1 score:  0.9376456876456877\n",
            "test f1 score:  0.8822170900692841\n"
          ]
        },
        {
          "output_type": "display_data",
          "data": {
            "image/png": "[encoded data removed]",
            "text/plain": [
              "<Figure size 432x288 with 1 Axes>"
            ]
          },
          "metadata": {
            "needs_background": "light"
          }
        },
        {
          "output_type": "display_data",
          "data": {
            "image/png": "[encoded data removed]",
            "text/plain": [
              "<Figure size 432x288 with 1 Axes>"
            ]
          },
          "metadata": {
            "needs_background": "light"
          }
        }
      ],
      "source": [
        "train_losses, val_losses = ModelForAttribute(attributes[0], 'Adam', n_epochs=300, early_stop=True)\n",
        "PrintGraphics(train_losses, val_losses, 'Adam loss')\n",
        "train_losses, val_losses = ModelForAttribute(attributes[0], 'SGD', n_epochs=300, momentum=0.9, early_stop=True)\n",
        "PrintGraphics(train_losses, val_losses, 'SGD loss') "
      ],
      "id": "-8I-rPA2JeaO"
    },
    {
      "cell_type": "code",
      "execution_count": 123,
      "metadata": {
        "colab": {
          "base_uri": "https://localhost:8080/",
          "height": 684
        },
        "id": "hispanic-aircraft",
        "outputId": "a9b1d7e2-db5f-4037-d6c5-384bb71ae89d"
      },
      "outputs": [
        {
          "output_type": "stream",
          "name": "stdout",
          "text": [
            "Stops on 24 epoch\n",
            "Сlassifier for  Wearing_Lipstick\n",
            "train f1 score:  0.9076807605704278\n",
            "test f1 score:  0.8682926829268293\n",
            "Stops on 177 epoch\n",
            "Сlassifier for  Wearing_Lipstick\n",
            "train f1 score:  0.889076102218478\n",
            "test f1 score:  0.82633371169126\n"
          ]
        },
        {
          "output_type": "display_data",
          "data": {
            "image/png": "[encoded data removed]",
            "text/plain": [
              "<Figure size 432x288 with 1 Axes>"
            ]
          },
          "metadata": {
            "needs_background": "light"
          }
        },
        {
          "output_type": "display_data",
          "data": {
            "image/png": "[encoded data removed]",
            "text/plain": [
              "<Figure size 432x288 with 1 Axes>"
            ]
          },
          "metadata": {
            "needs_background": "light"
          }
        }
      ],
      "source": [
        "train_losses, val_losses = ModelForAttribute(attributes[1], 'Adam', n_epochs=300, early_stop=True)\n",
        "PrintGraphics(train_losses, val_losses, 'Adam loss')\n",
        "train_losses, val_losses = ModelForAttribute(attributes[1], 'SGD', n_epochs=300, momentum=0.9, early_stop=True)\n",
        "PrintGraphics(train_losses, val_losses, 'SGD loss')"
      ],
      "id": "hispanic-aircraft"
    },
    {
      "cell_type": "code",
      "execution_count": 124,
      "metadata": {
        "colab": {
          "base_uri": "https://localhost:8080/",
          "height": 684
        },
        "id": "Co6B8OBn6iU7",
        "outputId": "81f7f3f1-f327-44ec-a102-3f57a2bbf1cb"
      },
      "outputs": [
        {
          "output_type": "stream",
          "name": "stdout",
          "text": [
            "Stops on 24 epoch\n",
            "Сlassifier for  Smiling\n",
            "train f1 score:  0.8652805468527485\n",
            "test f1 score:  0.8348045397225725\n",
            "Stops on 155 epoch\n",
            "Сlassifier for  Smiling\n",
            "train f1 score:  0.9298952457695407\n",
            "test f1 score:  0.8722157092614303\n"
          ]
        },
        {
          "output_type": "display_data",
          "data": {
            "image/png": "[encoded data removed]",
            "text/plain": [
              "<Figure size 432x288 with 1 Axes>"
            ]
          },
          "metadata": {
            "needs_background": "light"
          }
        },
        {
          "output_type": "display_data",
          "data": {
            "image/png": "[encoded data removed]",
            "text/plain": [
              "<Figure size 432x288 with 1 Axes>"
            ]
          },
          "metadata": {
            "needs_background": "light"
          }
        }
      ],
      "source": [
        "train_losses, val_losses = ModelForAttribute(attributes[2], 'Adam', n_epochs=300, early_stop=True)\n",
        "PrintGraphics(train_losses, val_losses, 'Adam loss')\n",
        "train_losses, val_losses = ModelForAttribute(attributes[2], 'SGD', n_epochs=300, momentum=0.9, early_stop=True)\n",
        "PrintGraphics(train_losses, val_losses, 'SGD loss')"
      ],
      "id": "Co6B8OBn6iU7"
    },
    {
      "cell_type": "code",
      "execution_count": 125,
      "metadata": {
        "colab": {
          "base_uri": "https://localhost:8080/",
          "height": 667
        },
        "id": "professional-aluminum",
        "outputId": "5d818a1a-c286-48f3-f290-10e867cb729b"
      },
      "outputs": [
        {
          "output_type": "stream",
          "name": "stdout",
          "text": [
            "Stops on 7 epoch\n",
            "Сlassifier for  Big_Lips\n",
            "train f1 score:  0.0\n",
            "test f1 score:  0.0\n",
            "Сlassifier for  Big_Lips\n",
            "train f1 score:  0.0\n",
            "test f1 score:  0.0\n"
          ]
        },
        {
          "output_type": "display_data",
          "data": {
            "image/png": "[encoded data removed]",
            "text/plain": [
              "<Figure size 432x288 with 1 Axes>"
            ]
          },
          "metadata": {
            "needs_background": "light"
          }
        },
        {
          "output_type": "display_data",
          "data": {
            "image/png": "[encoded data removed]",
            "text/plain": [
              "<Figure size 432x288 with 1 Axes>"
            ]
          },
          "metadata": {
            "needs_background": "light"
          }
        }
      ],
      "source": [
        "train_losses, val_losses = ModelForAttribute(attributes[3], 'Adam', n_epochs=300, early_stop=True)\n",
        "PrintGraphics(train_losses, val_losses, 'Adam loss')\n",
        "train_losses, val_losses = ModelForAttribute(attributes[3], 'SGD', n_epochs=300, momentum=0.9, early_stop=True)\n",
        "PrintGraphics(train_losses, val_losses, 'SGD loss')"
      ],
      "id": "professional-aluminum"
    },
    {
      "cell_type": "code",
      "execution_count": 126,
      "metadata": {
        "colab": {
          "base_uri": "https://localhost:8080/",
          "height": 649
        },
        "id": "residential-plymouth",
        "outputId": "845a607d-fa8f-44a5-afc9-befca288c66a"
      },
      "outputs": [
        {
          "output_type": "stream",
          "name": "stdout",
          "text": [
            "Сlassifier for  Mustache\n",
            "train f1 score:  0.0\n",
            "test f1 score:  0.0\n",
            "Сlassifier for  Mustache\n",
            "train f1 score:  0.0\n",
            "test f1 score:  0.0\n"
          ]
        },
        {
          "output_type": "display_data",
          "data": {
            "image/png": "[encoded data removed]",
            "text/plain": [
              "<Figure size 432x288 with 1 Axes>"
            ]
          },
          "metadata": {
            "needs_background": "light"
          }
        },
        {
          "output_type": "display_data",
          "data": {
            "image/png": "[encoded data removed]",
            "text/plain": [
              "<Figure size 432x288 with 1 Axes>"
            ]
          },
          "metadata": {
            "needs_background": "light"
          }
        }
      ],
      "source": [
        "train_losses, val_losses = ModelForAttribute(attributes[4], 'Adam', n_epochs=300, early_stop=True)\n",
        "PrintGraphics(train_losses, val_losses, 'Adam loss')\n",
        "train_losses, val_losses = ModelForAttribute(attributes[4], 'SGD', n_epochs=300, momentum=0.9, early_stop=True)\n",
        "PrintGraphics(train_losses, val_losses, 'SGD loss')"
      ],
      "id": "residential-plymouth"
    },
    {
      "cell_type": "markdown",
      "metadata": {
        "id": "FCT8mvhFLFfq"
      },
      "source": [
        "С последними двумя сильно несбалансированными метками наша полносвязная сеть справляется очень плохо, вне зависимости от количества эпох.\n"
      ],
      "id": "FCT8mvhFLFfq"
    },
    {
      "cell_type": "markdown",
      "metadata": {
        "id": "lJZ1ZafmLQJz"
      },
      "source": [
        "## Обучение сверточной нейронной сети"
      ],
      "id": "lJZ1ZafmLQJz"
    },
    {
      "cell_type": "markdown",
      "metadata": {
        "id": "sThtGq2k3wRH"
      },
      "source": [
        "### Предварительная обработка данных"
      ],
      "id": "sThtGq2k3wRH"
    },
    {
      "cell_type": "markdown",
      "metadata": {
        "id": "dmDmhpXHLUTq"
      },
      "source": [
        "В качестве архитектуры сверточной нейронной сети я выбрала достаточно простую архитектуру на основе LeNet. Для применения этой архитектуры изображение должно быть чернобелое, и сжатое до размера 32 на 32 пикселя."
      ],
      "id": "dmDmhpXHLUTq"
    },
    {
      "cell_type": "code",
      "execution_count": 70,
      "metadata": {
        "id": "9YyzrnPhDFI5"
      },
      "outputs": [],
      "source": [
        "from torchvision import transforms"
      ],
      "id": "9YyzrnPhDFI5"
    },
    {
      "cell_type": "code",
      "execution_count": 71,
      "metadata": {
        "colab": {
          "base_uri": "https://localhost:8080/",
          "height": 49
        },
        "id": "0l5Cj5IEC1_3",
        "outputId": "585f7060-29df-4bdb-9df9-8ca9480b63c3"
      },
      "outputs": [
        {
          "output_type": "execute_result",
          "data": {
            "image/png": "[encoded data removed]",
            "text/plain": [
              "<PIL.Image.Image image mode=L size=32x32 at 0x7F1CA3BD0B50>"
            ]
          },
          "metadata": {},
          "execution_count": 71
        }
      ],
      "source": [
        "image_size = 32\n",
        "preprocess = transforms.Compose([\n",
        "    transforms.Resize(image_size),\n",
        "    transforms.CenterCrop(image_size)\n",
        "])\n",
        "new_img = preprocess(big_img).convert('L')\n",
        "new_img"
      ],
      "id": "0l5Cj5IEC1_3"
    },
    {
      "cell_type": "code",
      "execution_count": 72,
      "metadata": {
        "colab": {
          "base_uri": "https://localhost:8080/"
        },
        "id": "vsKdgcT0WK_u",
        "outputId": "8d1f052c-d093-4f74-d913-c77f43f641d3"
      },
      "outputs": [
        {
          "output_type": "stream",
          "name": "stdout",
          "text": [
            "(1, 1, 32, 32)\n",
            "(0, 1, 32, 32)\n",
            "(1, 1, 32, 32)\n"
          ]
        }
      ],
      "source": [
        "x = np.empty((0, 1, image_size, image_size))\n",
        "img = preprocess(Image.open(IMAGE_PATH + example)).convert('L')\n",
        "img_array = (np.array(img)).reshape(1, 1, image_size, image_size).astype('float32') / 255\n",
        "print(img_array.shape)\n",
        "print(x.shape)\n",
        "x = np.concatenate((x, img_array), axis=0)\n",
        "print(x.shape)"
      ],
      "id": "vsKdgcT0WK_u"
    },
    {
      "cell_type": "code",
      "execution_count": 73,
      "metadata": {
        "id": "lnEl6w54DNiP"
      },
      "outputs": [],
      "source": [
        "def ImageToNumpy(indexes, columns, verboze=1):\n",
        "    x = np.empty((0, 1, image_size, image_size))\n",
        "    counter = 0\n",
        "    for img_index in indexes:\n",
        "        img = preprocess(Image.open(IMAGE_PATH + img_index)).convert('L')\n",
        "        img_array = (np.array(img)).reshape(1, 1, image_size, image_size).astype('float32') / 255\n",
        "\n",
        "        x = x = np.concatenate((x, img_array), axis=0)\n",
        "\n",
        "        counter += 1\n",
        "        if (verboze == 1 and counter % 1000 == 0):\n",
        "            print(x.shape)\n",
        "            print(counter)\n",
        "    return x"
      ],
      "id": "lnEl6w54DNiP"
    },
    {
      "cell_type": "code",
      "execution_count": 74,
      "metadata": {
        "colab": {
          "base_uri": "https://localhost:8080/"
        },
        "id": "nWixNT_qFd9z",
        "outputId": "636e0726-8af9-4470-e565-41a756cc04ac"
      },
      "outputs": [
        {
          "output_type": "stream",
          "name": "stdout",
          "text": [
            "(1000, 1, 32, 32)\n",
            "1000\n",
            "(2000, 1, 32, 32)\n",
            "2000\n",
            "(3000, 1, 32, 32)\n",
            "3000\n",
            "(4000, 1, 32, 32)\n",
            "4000\n",
            "(1000, 1, 32, 32)\n",
            "1000\n",
            "(1000, 1, 32, 32)\n",
            "1000\n",
            "--- 39.71626091003418 seconds ---\n"
          ]
        }
      ],
      "source": [
        "start_time = time.time()\n",
        "\n",
        "x_train = ImageToNumpy(y_train.index, range(image_size))\n",
        "x_val = ImageToNumpy(y_val.index, range(image_size))\n",
        "x_test = ImageToNumpy(y_test.index, range(image_size))\n",
        "\n",
        "print(\"--- %s seconds ---\" % (time.time() - start_time))"
      ],
      "id": "nWixNT_qFd9z"
    },
    {
      "cell_type": "markdown",
      "metadata": {
        "id": "n07dqxSgDtV_"
      },
      "source": [
        "### Обучение модели\n",
        "\n",
        "Теперь будем обучать нашу модель."
      ],
      "id": "n07dqxSgDtV_"
    },
    {
      "cell_type": "code",
      "source": [
        "class Net(nn.Module):\n",
        "    \n",
        "    def __init__(self):\n",
        "        super(Net, self).__init__()\n",
        "        \n",
        "        self.layer1 = nn.Sequential(\n",
        "            nn.Conv2d(in_channels=1, out_channels=6, kernel_size=5, padding=1),\n",
        "            nn.BatchNorm2d(6),\n",
        "            nn.ReLU(),\n",
        "            nn.MaxPool2d(kernel_size=2, stride=2)\n",
        "        )\n",
        "        \n",
        "        self.layer2 = nn.Sequential(\n",
        "            nn.Conv2d(in_channels=6, out_channels=16, kernel_size=5),\n",
        "            nn.BatchNorm2d(16),\n",
        "            nn.ReLU(),\n",
        "            nn.MaxPool2d(2)\n",
        "        )\n",
        "        \n",
        "        self.fc1 = nn.Linear(in_features=25*4*4, out_features=120)\n",
        "        self.fc2 = nn.Linear(in_features=120, out_features=84)\n",
        "        self.fc3 = nn.Linear(in_features=84, out_features=2)\n",
        "        \n",
        "    def forward(self, x):\n",
        "        out = self.layer1(x)\n",
        "        out = self.layer2(out)\n",
        "        out = out.view(out.size(0), -1)\n",
        "        out = self.fc1(out)\n",
        "        out = self.fc2(out)\n",
        "        out = self.fc3(out)\n",
        "        return F.log_softmax(out, dim=1)"
      ],
      "metadata": {
        "id": "ET0NEcK25PnM"
      },
      "id": "ET0NEcK25PnM",
      "execution_count": 75,
      "outputs": []
    },
    {
      "cell_type": "code",
      "source": [
        "Net()"
      ],
      "metadata": {
        "colab": {
          "base_uri": "https://localhost:8080/"
        },
        "id": "FKTJxyFjTUN3",
        "outputId": "54d8ae4c-335c-4444-f715-537768b72722"
      },
      "id": "FKTJxyFjTUN3",
      "execution_count": 141,
      "outputs": [
        {
          "output_type": "execute_result",
          "data": {
            "text/plain": [
              "Net(\n",
              "  (layer1): Sequential(\n",
              "    (0): Conv2d(1, 6, kernel_size=(5, 5), stride=(1, 1), padding=(1, 1))\n",
              "    (1): BatchNorm2d(6, eps=1e-05, momentum=0.1, affine=True, track_running_stats=True)\n",
              "    (2): ReLU()\n",
              "    (3): MaxPool2d(kernel_size=2, stride=2, padding=0, dilation=1, ceil_mode=False)\n",
              "  )\n",
              "  (layer2): Sequential(\n",
              "    (0): Conv2d(6, 16, kernel_size=(5, 5), stride=(1, 1))\n",
              "    (1): BatchNorm2d(16, eps=1e-05, momentum=0.1, affine=True, track_running_stats=True)\n",
              "    (2): ReLU()\n",
              "    (3): MaxPool2d(kernel_size=2, stride=2, padding=0, dilation=1, ceil_mode=False)\n",
              "  )\n",
              "  (fc1): Linear(in_features=400, out_features=120, bias=True)\n",
              "  (fc2): Linear(in_features=120, out_features=84, bias=True)\n",
              "  (fc3): Linear(in_features=84, out_features=2, bias=True)\n",
              ")"
            ]
          },
          "metadata": {},
          "execution_count": 141
        }
      ]
    },
    {
      "cell_type": "code",
      "execution_count": 76,
      "metadata": {
        "id": "-XIEMD9ERyjk"
      },
      "outputs": [],
      "source": [
        "cnn_model_scores = {'train' : [], 'test' : []}"
      ],
      "id": "-XIEMD9ERyjk"
    },
    {
      "cell_type": "code",
      "execution_count": 77,
      "metadata": {
        "colab": {
          "base_uri": "https://localhost:8080/"
        },
        "id": "JRK-rvP6Ryjk",
        "outputId": "90f23e5e-190b-44de-aa17-2c2fbd3b810f"
      },
      "outputs": [
        {
          "output_type": "execute_result",
          "data": {
            "text/plain": [
              "(4000, 1, 32, 32)"
            ]
          },
          "metadata": {},
          "execution_count": 77
        }
      ],
      "source": [
        "device = 'cuda:0' if torch.cuda.is_available() else 'cpu'\n",
        "\n",
        "x_train_tensor = torch.from_numpy(x_train.astype('float32')).to(device)\n",
        "x_val_tensor = torch.from_numpy(x_val.astype('float32')).to(device)\n",
        "x_test_tensor = torch.from_numpy(x_test.astype('float32')).to(device)\n",
        "x_train.shape"
      ],
      "id": "JRK-rvP6Ryjk"
    },
    {
      "cell_type": "code",
      "execution_count": 78,
      "metadata": {
        "id": "nb8uunvSRyjk"
      },
      "outputs": [],
      "source": [
        "def CreateCNNNetModel():\n",
        "    model = Net()\n",
        "    return model"
      ],
      "id": "nb8uunvSRyjk"
    },
    {
      "cell_type": "code",
      "execution_count": 79,
      "metadata": {
        "id": "orfcOmnhRyjl"
      },
      "outputs": [],
      "source": [
        "def CreateCNNParametres(attribute, model):\n",
        "    y_train_tensor = torch.from_numpy(y_train[attribute].to_numpy()).to(torch.int64)                               \n",
        "\n",
        "    y_val_tensor = torch.from_numpy(y_val[attribute].to_numpy()).to(torch.int64)  \n",
        "\n",
        "    y_test_tensor = torch.from_numpy(y_test[attribute].to_numpy()).to(torch.int64)\n",
        "\n",
        "    train_dataset = TensorDataset(x_train_tensor, y_train_tensor)\n",
        "    train_loader = DataLoader(dataset=train_dataset, batch_size=100)\n",
        "\n",
        "    val_dataset = TensorDataset(x_val_tensor, y_val_tensor)\n",
        "    val_loader = DataLoader(dataset=val_dataset, batch_size=100)\n",
        "\n",
        "    if torch.cuda.is_available():\n",
        "        model = model.to(device)\n",
        "        \n",
        "    dataloaders  = {'train':train_loader, 'val':val_loader}\n",
        "    return dataloaders"
      ],
      "id": "orfcOmnhRyjl"
    },
    {
      "cell_type": "code",
      "execution_count": 80,
      "metadata": {
        "id": "lo70sPpNRyjl"
      },
      "outputs": [],
      "source": [
        "def TrainCNNModel(model, dataloaders, n_epochs, optimizer, verbose, early_stop, patience):\n",
        "    criterion = nn.CrossEntropyLoss()\n",
        "    train_loader = dataloaders['train']\n",
        "    val_loader = dataloaders['val']\n",
        "    prev_val_loss = 1\n",
        "    val_increase_counter = 0\n",
        "\n",
        "    if torch.cuda.is_available():\n",
        "        model = model.to(device)\n",
        "        criterion = criterion.to(device)\n",
        "\n",
        "    training_losses = []\n",
        "    validation_losses = []\n",
        "\n",
        "    for epoch in range(n_epochs):\n",
        "        model.train()\n",
        "        batch_losses = []\n",
        "        for x_batch, y_batch in train_loader:\n",
        "            x_batch = x_batch.to(device)\n",
        "            y_batch = y_batch.to(device)\n",
        "\n",
        "            model.train()\n",
        "            yhat = model(x_batch)\n",
        "\n",
        "            loss = criterion(yhat, y_batch)\n",
        "            loss.backward()\n",
        "            optimizer.step()\n",
        "            optimizer.zero_grad()\n",
        "\n",
        "            batch_losses.append(loss.item())\n",
        "        training_loss = np.mean(batch_losses)\n",
        "        training_losses.append(training_loss)\n",
        "\n",
        "        with torch.no_grad():\n",
        "            val_losses = []\n",
        "            for x_val_batch, y_val_batch in val_loader:\n",
        "                x_val_batch = x_val_batch.to(device)\n",
        "                y_val_batch = y_val_batch.to(device)\n",
        "                model.eval()\n",
        "                yhat = model(x_val_batch)\n",
        "                val_loss = criterion(yhat, y_val_batch).item()\n",
        "                val_losses.append(val_loss)\n",
        "            validation_loss = np.mean(val_losses)\n",
        "            validation_losses.append(validation_loss)\n",
        "\n",
        "            if prev_val_loss < validation_loss:\n",
        "              val_increase_counter += 1\n",
        "            prev_val_loss = validation_loss\n",
        "            if val_increase_counter == patience and early_stop == True:\n",
        "              print(f'Stops on {epoch} epoch')\n",
        "              break\n",
        "\n",
        "        if (verbose == 1):\n",
        "          print(f\"[{epoch}] Training loss: {training_loss}\\t Validation loss: {validation_loss}\")\n",
        "    return training_losses, validation_losses"
      ],
      "id": "lo70sPpNRyjl"
    },
    {
      "cell_type": "code",
      "execution_count": 81,
      "metadata": {
        "id": "XjTFIQsaRyjl"
      },
      "outputs": [],
      "source": [
        "def CheckModelStats(model, attribute, scores):\n",
        "    print('CNN Сlassifier for ', attribute)\n",
        "    pred_y_train = model(x_train_tensor).argmax(axis=1)\n",
        "    print('train f1 score: ', f1_score(pred_y_train.cpu().numpy(), y_train[attribute]))\n",
        "    pred_y_test = model(x_test_tensor).argmax(axis=1)\n",
        "    print('test f1 score: ', f1_score(pred_y_test.cpu().numpy(), y_test[attribute]))\n",
        "    \n",
        "    scores['train'].append(f1_score(pred_y_train.cpu().numpy(), y_train[attribute]))\n",
        "    scores['test'].append(f1_score(pred_y_test.cpu().numpy(), y_test[attribute]))"
      ],
      "id": "XjTFIQsaRyjl"
    },
    {
      "cell_type": "code",
      "execution_count": 82,
      "metadata": {
        "id": "Ed6ucnNBRyjl"
      },
      "outputs": [],
      "source": [
        "def CNNModelForAttribute(attribute, optimizer_name, n_epochs=10, verbose=0, momentum=0, early_stop=False):\n",
        "    model = CreateCNNNetModel()\n",
        "    dataloaders = CreateCNNParametres(attribute, model)\n",
        "    optimizer = CreateOptimizer(optimizer_name, model, momentum)\n",
        "    training_losses, validation_losses = TrainCNNModel(model, dataloaders, n_epochs, optimizer, verbose, early_stop, patience=7)\n",
        "    CheckModelStats(model, attribute, cnn_model_scores)\n",
        "    return training_losses, validation_losses"
      ],
      "id": "Ed6ucnNBRyjl"
    },
    {
      "cell_type": "code",
      "execution_count": 83,
      "metadata": {
        "colab": {
          "base_uri": "https://localhost:8080/",
          "height": 317
        },
        "id": "mlcgmVzNRyjm",
        "outputId": "83268dd1-e187-475f-fd3d-abd0d23efebd"
      },
      "outputs": [
        {
          "output_type": "stream",
          "name": "stdout",
          "text": [
            "CNN Сlassifier for  Male\n",
            "train f1 score:  1.0\n",
            "test f1 score:  0.8721071863580998\n"
          ]
        },
        {
          "output_type": "display_data",
          "data": {
            "image/png": "[encoded data removed]",
            "text/plain": [
              "<Figure size 432x288 with 1 Axes>"
            ]
          },
          "metadata": {
            "needs_background": "light"
          }
        }
      ],
      "source": [
        "train_losses, val_losses = CNNModelForAttribute(attributes[0], 'Adam', n_epochs=200)\n",
        "PrintGraphics(train_losses, val_losses)"
      ],
      "id": "mlcgmVzNRyjm"
    },
    {
      "cell_type": "code",
      "execution_count": 85,
      "metadata": {
        "colab": {
          "base_uri": "https://localhost:8080/",
          "height": 336
        },
        "id": "bHwIAU8T2HN4",
        "outputId": "39f5e38c-1d68-44a8-e76a-3b3c733d2136"
      },
      "outputs": [
        {
          "output_type": "stream",
          "name": "stdout",
          "text": [
            "Stops on 13 epoch\n",
            "CNN Сlassifier for  Male\n",
            "train f1 score:  0.9393079977311402\n",
            "test f1 score:  0.8831460674157303\n"
          ]
        },
        {
          "output_type": "display_data",
          "data": {
            "image/png": "[encoded data removed]",
            "text/plain": [
              "<Figure size 432x288 with 1 Axes>"
            ]
          },
          "metadata": {
            "needs_background": "light"
          }
        }
      ],
      "source": [
        "train_losses, val_losses = CNNModelForAttribute(attributes[0], 'Adam', n_epochs=100, early_stop=True)\n",
        "PrintGraphics(train_losses, val_losses)"
      ],
      "id": "bHwIAU8T2HN4"
    },
    {
      "cell_type": "code",
      "source": [
        "train_losses, val_losses = CNNModelForAttribute(attributes[1], 'Adam', n_epochs=100, early_stop=True)\n",
        "PrintGraphics(train_losses, val_losses)"
      ],
      "metadata": {
        "colab": {
          "base_uri": "https://localhost:8080/",
          "height": 334
        },
        "id": "U_jbLIjM48T3",
        "outputId": "1822ac81-1947-4f35-f807-27b8e5e60886"
      },
      "id": "U_jbLIjM48T3",
      "execution_count": 86,
      "outputs": [
        {
          "output_type": "stream",
          "name": "stdout",
          "text": [
            "Stops on 12 epoch\n",
            "CNN Сlassifier for  Wearing_Lipstick\n",
            "train f1 score:  0.9158366533864541\n",
            "test f1 score:  0.8670634920634919\n"
          ]
        },
        {
          "output_type": "display_data",
          "data": {
            "image/png": "[encoded data removed]",
            "text/plain": [
              "<Figure size 432x288 with 1 Axes>"
            ]
          },
          "metadata": {
            "needs_background": "light"
          }
        }
      ]
    },
    {
      "cell_type": "code",
      "execution_count": 87,
      "metadata": {
        "colab": {
          "base_uri": "https://localhost:8080/",
          "height": 334
        },
        "id": "9TZX37Ea2I5O",
        "outputId": "afb4c014-7796-4588-afb1-cd4d24136e81"
      },
      "outputs": [
        {
          "output_type": "stream",
          "name": "stdout",
          "text": [
            "Stops on 13 epoch\n",
            "CNN Сlassifier for  Smiling\n",
            "train f1 score:  0.9184741959611069\n",
            "test f1 score:  0.8399570354457573\n"
          ]
        },
        {
          "output_type": "display_data",
          "data": {
            "image/png": "[encoded data removed]",
            "text/plain": [
              "<Figure size 432x288 with 1 Axes>"
            ]
          },
          "metadata": {
            "needs_background": "light"
          }
        }
      ],
      "source": [
        "train_losses, val_losses = CNNModelForAttribute(attributes[2], 'Adam', n_epochs=100, early_stop=True)\n",
        "PrintGraphics(train_losses, val_losses)"
      ],
      "id": "9TZX37Ea2I5O"
    },
    {
      "cell_type": "code",
      "execution_count": 88,
      "metadata": {
        "colab": {
          "base_uri": "https://localhost:8080/",
          "height": 338
        },
        "id": "o7JaZtKD2KFq",
        "outputId": "d557b9e0-de73-47c1-b4b7-c3be8d1232ee"
      },
      "outputs": [
        {
          "output_type": "stream",
          "name": "stdout",
          "text": [
            "Stops on 11 epoch\n",
            "CNN Сlassifier for  Big_Lips\n",
            "train f1 score:  0.5298013245033113\n",
            "test f1 score:  0.31627906976744186\n"
          ]
        },
        {
          "output_type": "display_data",
          "data": {
            "image/png": "[encoded data removed]",
            "text/plain": [
              "<Figure size 432x288 with 1 Axes>"
            ]
          },
          "metadata": {
            "needs_background": "light"
          }
        }
      ],
      "source": [
        "train_losses, val_losses = CNNModelForAttribute(attributes[3], 'Adam', n_epochs=100, early_stop=True)\n",
        "PrintGraphics(train_losses, val_losses)"
      ],
      "id": "o7JaZtKD2KFq"
    },
    {
      "cell_type": "code",
      "execution_count": 90,
      "metadata": {
        "colab": {
          "base_uri": "https://localhost:8080/",
          "height": 334
        },
        "id": "n2BgM0yX2LQs",
        "outputId": "fccd22f1-5bc6-4a1e-e83a-f19d15fe7646"
      },
      "outputs": [
        {
          "output_type": "stream",
          "name": "stdout",
          "text": [
            "Stops on 14 epoch\n",
            "CNN Сlassifier for  Mustache\n",
            "train f1 score:  0.8257575757575757\n",
            "test f1 score:  0.26229508196721313\n"
          ]
        },
        {
          "output_type": "display_data",
          "data": {
            "image/png": "[encoded data removed]",
            "text/plain": [
              "<Figure size 432x288 with 1 Axes>"
            ]
          },
          "metadata": {
            "needs_background": "light"
          }
        }
      ],
      "source": [
        "train_losses, val_losses = CNNModelForAttribute(attributes[4], 'Adam', n_epochs=100, early_stop=True)\n",
        "PrintGraphics(train_losses, val_losses)"
      ],
      "id": "n2BgM0yX2LQs"
    },
    {
      "cell_type": "markdown",
      "metadata": {
        "id": "ZPIKevMi88y-"
      },
      "source": [
        "На плохо сбалансированных признаках сверточная нейросеть тоже показывает себя плохо."
      ],
      "id": "ZPIKevMi88y-"
    }
  ],
  "metadata": {
    "accelerator": "GPU",
    "colab": {
      "collapsed_sections": [],
      "name": "face_attributes_recogtinion.ipynb",
      "toc_visible": true,
      "provenance": []
    },
    "kernelspec": {
      "display_name": "Python 3",
      "language": "python",
      "name": "python3"
    },
    "language_info": {
      "codemirror_mode": {
        "name": "ipython",
        "version": 3
      },
      "file_extension": ".py",
      "mimetype": "text/x-python",
      "name": "python",
      "nbconvert_exporter": "python",
      "pygments_lexer": "ipython3",
      "version": "3.8.10"
    }
  },
  "nbformat": 4,
  "nbformat_minor": 5
}