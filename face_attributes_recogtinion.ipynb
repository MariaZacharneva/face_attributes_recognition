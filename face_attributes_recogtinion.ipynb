{
  "nbformat": 4,
  "nbformat_minor": 5,
  "metadata": {
    "kernelspec": {
      "display_name": "Python 3",
      "language": "python",
      "name": "python3"
    },
    "language_info": {
      "codemirror_mode": {
        "name": "ipython",
        "version": 3
      },
      "file_extension": ".py",
      "mimetype": "text/x-python",
      "name": "python",
      "nbconvert_exporter": "python",
      "pygments_lexer": "ipython3",
      "version": "3.8.10"
    },
    "colab": {
      "name": "face_attributes_recogtinion.ipynb",
      "provenance": [],
      "collapsed_sections": [],
      "toc_visible": true
    },
    "accelerator": "GPU"
  },
  "cells": [
    {
      "cell_type": "code",
      "metadata": {
        "colab": {
          "base_uri": "https://localhost:8080/"
        },
        "id": "FldVKUYwt5Jx",
        "outputId": "92907c69-8703-4e78-f0d8-fbb721841acf"
      },
      "source": [
        "from google.colab import drive\n",
        "drive.mount('/content/drive')"
      ],
      "id": "FldVKUYwt5Jx",
      "execution_count": 148,
      "outputs": [
        {
          "output_type": "stream",
          "name": "stdout",
          "text": [
            "Drive already mounted at /content/drive; to attempt to forcibly remount, call drive.mount(\"/content/drive\", force_remount=True).\n"
          ]
        }
      ]
    },
    {
      "cell_type": "markdown",
      "metadata": {
        "id": "statistical-original"
      },
      "source": [
        "# Распознавание атрибутов лица"
      ],
      "id": "statistical-original"
    },
    {
      "cell_type": "code",
      "metadata": {
        "id": "blind-hierarchy"
      },
      "source": [
        "%matplotlib inline\n",
        "import time\n",
        "import pandas as pd\n",
        "import numpy as np\n",
        "import matplotlib.pyplot as plt\n",
        "import seaborn as sns\n",
        "from PIL import Image"
      ],
      "id": "blind-hierarchy",
      "execution_count": 149,
      "outputs": []
    },
    {
      "cell_type": "markdown",
      "metadata": {
        "id": "referenced-church"
      },
      "source": [
        "## Исследование данных"
      ],
      "id": "referenced-church"
    },
    {
      "cell_type": "markdown",
      "metadata": {
        "id": "precious-athletics"
      },
      "source": [
        "Для начала загрузим данные. В оригинальном датасете используется 1, если атрибут присутствует, и -1, если нет, но нам удобнее использовать 1 и 0."
      ],
      "id": "precious-athletics"
    },
    {
      "cell_type": "code",
      "metadata": {
        "colab": {
          "base_uri": "https://localhost:8080/",
          "height": 383
        },
        "id": "dated-milwaukee",
        "outputId": "125c80a4-8a03-416c-9925-771e2fc5ab38"
      },
      "source": [
        "PATH = '/content/drive/MyDrive/content/'\n",
        "IMAGE_PATH = '/content/drive/MyDrive/content/img_align_celeba_17k/img_align_celeba/'\n",
        "df_attr = pd.read_csv(PATH + 'list_attr_celeba.txt', engine='python', delimiter=' +')\n",
        "df_attr.replace(to_replace=-1, value=0, inplace=True)\n",
        "df_attr.head(10)"
      ],
      "id": "dated-milwaukee",
      "execution_count": 150,
      "outputs": [
        {
          "output_type": "execute_result",
          "data": {
            "text/html": [
              "<div>\n",
              "<style scoped>\n",
              "    .dataframe tbody tr th:only-of-type {\n",
              "        vertical-align: middle;\n",
              "    }\n",
              "\n",
              "    .dataframe tbody tr th {\n",
              "        vertical-align: top;\n",
              "    }\n",
              "\n",
              "    .dataframe thead th {\n",
              "        text-align: right;\n",
              "    }\n",
              "</style>\n",
              "<table border=\"1\" class=\"dataframe\">\n",
              "  <thead>\n",
              "    <tr style=\"text-align: right;\">\n",
              "      <th></th>\n",
              "      <th>5_o_Clock_Shadow</th>\n",
              "      <th>Arched_Eyebrows</th>\n",
              "      <th>Attractive</th>\n",
              "      <th>Bags_Under_Eyes</th>\n",
              "      <th>Bald</th>\n",
              "      <th>Bangs</th>\n",
              "      <th>Big_Lips</th>\n",
              "      <th>Big_Nose</th>\n",
              "      <th>Black_Hair</th>\n",
              "      <th>Blond_Hair</th>\n",
              "      <th>Blurry</th>\n",
              "      <th>Brown_Hair</th>\n",
              "      <th>Bushy_Eyebrows</th>\n",
              "      <th>Chubby</th>\n",
              "      <th>Double_Chin</th>\n",
              "      <th>Eyeglasses</th>\n",
              "      <th>Goatee</th>\n",
              "      <th>Gray_Hair</th>\n",
              "      <th>Heavy_Makeup</th>\n",
              "      <th>High_Cheekbones</th>\n",
              "      <th>Male</th>\n",
              "      <th>Mouth_Slightly_Open</th>\n",
              "      <th>Mustache</th>\n",
              "      <th>Narrow_Eyes</th>\n",
              "      <th>No_Beard</th>\n",
              "      <th>Oval_Face</th>\n",
              "      <th>Pale_Skin</th>\n",
              "      <th>Pointy_Nose</th>\n",
              "      <th>Receding_Hairline</th>\n",
              "      <th>Rosy_Cheeks</th>\n",
              "      <th>Sideburns</th>\n",
              "      <th>Smiling</th>\n",
              "      <th>Straight_Hair</th>\n",
              "      <th>Wavy_Hair</th>\n",
              "      <th>Wearing_Earrings</th>\n",
              "      <th>Wearing_Hat</th>\n",
              "      <th>Wearing_Lipstick</th>\n",
              "      <th>Wearing_Necklace</th>\n",
              "      <th>Wearing_Necktie</th>\n",
              "      <th>Young</th>\n",
              "    </tr>\n",
              "  </thead>\n",
              "  <tbody>\n",
              "    <tr>\n",
              "      <th>000001.jpg</th>\n",
              "      <td>0</td>\n",
              "      <td>1</td>\n",
              "      <td>1</td>\n",
              "      <td>0</td>\n",
              "      <td>0</td>\n",
              "      <td>0</td>\n",
              "      <td>0</td>\n",
              "      <td>0</td>\n",
              "      <td>0</td>\n",
              "      <td>0</td>\n",
              "      <td>0</td>\n",
              "      <td>1</td>\n",
              "      <td>0</td>\n",
              "      <td>0</td>\n",
              "      <td>0</td>\n",
              "      <td>0</td>\n",
              "      <td>0</td>\n",
              "      <td>0</td>\n",
              "      <td>1</td>\n",
              "      <td>1</td>\n",
              "      <td>0</td>\n",
              "      <td>1</td>\n",
              "      <td>0</td>\n",
              "      <td>0</td>\n",
              "      <td>1</td>\n",
              "      <td>0</td>\n",
              "      <td>0</td>\n",
              "      <td>1</td>\n",
              "      <td>0</td>\n",
              "      <td>0</td>\n",
              "      <td>0</td>\n",
              "      <td>1</td>\n",
              "      <td>1</td>\n",
              "      <td>0</td>\n",
              "      <td>1</td>\n",
              "      <td>0</td>\n",
              "      <td>1</td>\n",
              "      <td>0</td>\n",
              "      <td>0</td>\n",
              "      <td>1</td>\n",
              "    </tr>\n",
              "    <tr>\n",
              "      <th>000002.jpg</th>\n",
              "      <td>0</td>\n",
              "      <td>0</td>\n",
              "      <td>0</td>\n",
              "      <td>1</td>\n",
              "      <td>0</td>\n",
              "      <td>0</td>\n",
              "      <td>0</td>\n",
              "      <td>1</td>\n",
              "      <td>0</td>\n",
              "      <td>0</td>\n",
              "      <td>0</td>\n",
              "      <td>1</td>\n",
              "      <td>0</td>\n",
              "      <td>0</td>\n",
              "      <td>0</td>\n",
              "      <td>0</td>\n",
              "      <td>0</td>\n",
              "      <td>0</td>\n",
              "      <td>0</td>\n",
              "      <td>1</td>\n",
              "      <td>0</td>\n",
              "      <td>1</td>\n",
              "      <td>0</td>\n",
              "      <td>0</td>\n",
              "      <td>1</td>\n",
              "      <td>0</td>\n",
              "      <td>0</td>\n",
              "      <td>0</td>\n",
              "      <td>0</td>\n",
              "      <td>0</td>\n",
              "      <td>0</td>\n",
              "      <td>1</td>\n",
              "      <td>0</td>\n",
              "      <td>0</td>\n",
              "      <td>0</td>\n",
              "      <td>0</td>\n",
              "      <td>0</td>\n",
              "      <td>0</td>\n",
              "      <td>0</td>\n",
              "      <td>1</td>\n",
              "    </tr>\n",
              "    <tr>\n",
              "      <th>000003.jpg</th>\n",
              "      <td>0</td>\n",
              "      <td>0</td>\n",
              "      <td>0</td>\n",
              "      <td>0</td>\n",
              "      <td>0</td>\n",
              "      <td>0</td>\n",
              "      <td>1</td>\n",
              "      <td>0</td>\n",
              "      <td>0</td>\n",
              "      <td>0</td>\n",
              "      <td>1</td>\n",
              "      <td>0</td>\n",
              "      <td>0</td>\n",
              "      <td>0</td>\n",
              "      <td>0</td>\n",
              "      <td>0</td>\n",
              "      <td>0</td>\n",
              "      <td>0</td>\n",
              "      <td>0</td>\n",
              "      <td>0</td>\n",
              "      <td>1</td>\n",
              "      <td>0</td>\n",
              "      <td>0</td>\n",
              "      <td>1</td>\n",
              "      <td>1</td>\n",
              "      <td>0</td>\n",
              "      <td>0</td>\n",
              "      <td>1</td>\n",
              "      <td>0</td>\n",
              "      <td>0</td>\n",
              "      <td>0</td>\n",
              "      <td>0</td>\n",
              "      <td>0</td>\n",
              "      <td>1</td>\n",
              "      <td>0</td>\n",
              "      <td>0</td>\n",
              "      <td>0</td>\n",
              "      <td>0</td>\n",
              "      <td>0</td>\n",
              "      <td>1</td>\n",
              "    </tr>\n",
              "    <tr>\n",
              "      <th>000004.jpg</th>\n",
              "      <td>0</td>\n",
              "      <td>0</td>\n",
              "      <td>1</td>\n",
              "      <td>0</td>\n",
              "      <td>0</td>\n",
              "      <td>0</td>\n",
              "      <td>0</td>\n",
              "      <td>0</td>\n",
              "      <td>0</td>\n",
              "      <td>0</td>\n",
              "      <td>0</td>\n",
              "      <td>0</td>\n",
              "      <td>0</td>\n",
              "      <td>0</td>\n",
              "      <td>0</td>\n",
              "      <td>0</td>\n",
              "      <td>0</td>\n",
              "      <td>0</td>\n",
              "      <td>0</td>\n",
              "      <td>0</td>\n",
              "      <td>0</td>\n",
              "      <td>0</td>\n",
              "      <td>0</td>\n",
              "      <td>0</td>\n",
              "      <td>1</td>\n",
              "      <td>0</td>\n",
              "      <td>0</td>\n",
              "      <td>1</td>\n",
              "      <td>0</td>\n",
              "      <td>0</td>\n",
              "      <td>0</td>\n",
              "      <td>0</td>\n",
              "      <td>1</td>\n",
              "      <td>0</td>\n",
              "      <td>1</td>\n",
              "      <td>0</td>\n",
              "      <td>1</td>\n",
              "      <td>1</td>\n",
              "      <td>0</td>\n",
              "      <td>1</td>\n",
              "    </tr>\n",
              "    <tr>\n",
              "      <th>000005.jpg</th>\n",
              "      <td>0</td>\n",
              "      <td>1</td>\n",
              "      <td>1</td>\n",
              "      <td>0</td>\n",
              "      <td>0</td>\n",
              "      <td>0</td>\n",
              "      <td>1</td>\n",
              "      <td>0</td>\n",
              "      <td>0</td>\n",
              "      <td>0</td>\n",
              "      <td>0</td>\n",
              "      <td>0</td>\n",
              "      <td>0</td>\n",
              "      <td>0</td>\n",
              "      <td>0</td>\n",
              "      <td>0</td>\n",
              "      <td>0</td>\n",
              "      <td>0</td>\n",
              "      <td>1</td>\n",
              "      <td>0</td>\n",
              "      <td>0</td>\n",
              "      <td>0</td>\n",
              "      <td>0</td>\n",
              "      <td>1</td>\n",
              "      <td>1</td>\n",
              "      <td>0</td>\n",
              "      <td>0</td>\n",
              "      <td>1</td>\n",
              "      <td>0</td>\n",
              "      <td>0</td>\n",
              "      <td>0</td>\n",
              "      <td>0</td>\n",
              "      <td>0</td>\n",
              "      <td>0</td>\n",
              "      <td>0</td>\n",
              "      <td>0</td>\n",
              "      <td>1</td>\n",
              "      <td>0</td>\n",
              "      <td>0</td>\n",
              "      <td>1</td>\n",
              "    </tr>\n",
              "    <tr>\n",
              "      <th>000006.jpg</th>\n",
              "      <td>0</td>\n",
              "      <td>1</td>\n",
              "      <td>1</td>\n",
              "      <td>0</td>\n",
              "      <td>0</td>\n",
              "      <td>0</td>\n",
              "      <td>1</td>\n",
              "      <td>0</td>\n",
              "      <td>0</td>\n",
              "      <td>0</td>\n",
              "      <td>0</td>\n",
              "      <td>1</td>\n",
              "      <td>0</td>\n",
              "      <td>0</td>\n",
              "      <td>0</td>\n",
              "      <td>0</td>\n",
              "      <td>0</td>\n",
              "      <td>0</td>\n",
              "      <td>1</td>\n",
              "      <td>0</td>\n",
              "      <td>0</td>\n",
              "      <td>1</td>\n",
              "      <td>0</td>\n",
              "      <td>0</td>\n",
              "      <td>1</td>\n",
              "      <td>0</td>\n",
              "      <td>0</td>\n",
              "      <td>0</td>\n",
              "      <td>0</td>\n",
              "      <td>0</td>\n",
              "      <td>0</td>\n",
              "      <td>0</td>\n",
              "      <td>0</td>\n",
              "      <td>1</td>\n",
              "      <td>1</td>\n",
              "      <td>0</td>\n",
              "      <td>1</td>\n",
              "      <td>0</td>\n",
              "      <td>0</td>\n",
              "      <td>1</td>\n",
              "    </tr>\n",
              "    <tr>\n",
              "      <th>000007.jpg</th>\n",
              "      <td>1</td>\n",
              "      <td>0</td>\n",
              "      <td>1</td>\n",
              "      <td>1</td>\n",
              "      <td>0</td>\n",
              "      <td>0</td>\n",
              "      <td>1</td>\n",
              "      <td>1</td>\n",
              "      <td>1</td>\n",
              "      <td>0</td>\n",
              "      <td>0</td>\n",
              "      <td>0</td>\n",
              "      <td>1</td>\n",
              "      <td>0</td>\n",
              "      <td>0</td>\n",
              "      <td>0</td>\n",
              "      <td>0</td>\n",
              "      <td>0</td>\n",
              "      <td>0</td>\n",
              "      <td>0</td>\n",
              "      <td>1</td>\n",
              "      <td>0</td>\n",
              "      <td>0</td>\n",
              "      <td>0</td>\n",
              "      <td>1</td>\n",
              "      <td>0</td>\n",
              "      <td>0</td>\n",
              "      <td>1</td>\n",
              "      <td>0</td>\n",
              "      <td>0</td>\n",
              "      <td>0</td>\n",
              "      <td>0</td>\n",
              "      <td>1</td>\n",
              "      <td>0</td>\n",
              "      <td>0</td>\n",
              "      <td>0</td>\n",
              "      <td>0</td>\n",
              "      <td>0</td>\n",
              "      <td>0</td>\n",
              "      <td>1</td>\n",
              "    </tr>\n",
              "    <tr>\n",
              "      <th>000008.jpg</th>\n",
              "      <td>1</td>\n",
              "      <td>1</td>\n",
              "      <td>0</td>\n",
              "      <td>1</td>\n",
              "      <td>0</td>\n",
              "      <td>0</td>\n",
              "      <td>1</td>\n",
              "      <td>0</td>\n",
              "      <td>1</td>\n",
              "      <td>0</td>\n",
              "      <td>0</td>\n",
              "      <td>0</td>\n",
              "      <td>0</td>\n",
              "      <td>0</td>\n",
              "      <td>0</td>\n",
              "      <td>0</td>\n",
              "      <td>0</td>\n",
              "      <td>0</td>\n",
              "      <td>0</td>\n",
              "      <td>0</td>\n",
              "      <td>1</td>\n",
              "      <td>0</td>\n",
              "      <td>0</td>\n",
              "      <td>0</td>\n",
              "      <td>1</td>\n",
              "      <td>0</td>\n",
              "      <td>0</td>\n",
              "      <td>1</td>\n",
              "      <td>0</td>\n",
              "      <td>0</td>\n",
              "      <td>0</td>\n",
              "      <td>0</td>\n",
              "      <td>0</td>\n",
              "      <td>0</td>\n",
              "      <td>0</td>\n",
              "      <td>0</td>\n",
              "      <td>0</td>\n",
              "      <td>0</td>\n",
              "      <td>0</td>\n",
              "      <td>1</td>\n",
              "    </tr>\n",
              "    <tr>\n",
              "      <th>000009.jpg</th>\n",
              "      <td>0</td>\n",
              "      <td>1</td>\n",
              "      <td>1</td>\n",
              "      <td>0</td>\n",
              "      <td>0</td>\n",
              "      <td>1</td>\n",
              "      <td>1</td>\n",
              "      <td>0</td>\n",
              "      <td>0</td>\n",
              "      <td>0</td>\n",
              "      <td>0</td>\n",
              "      <td>0</td>\n",
              "      <td>0</td>\n",
              "      <td>0</td>\n",
              "      <td>0</td>\n",
              "      <td>0</td>\n",
              "      <td>0</td>\n",
              "      <td>0</td>\n",
              "      <td>1</td>\n",
              "      <td>1</td>\n",
              "      <td>0</td>\n",
              "      <td>1</td>\n",
              "      <td>0</td>\n",
              "      <td>0</td>\n",
              "      <td>1</td>\n",
              "      <td>1</td>\n",
              "      <td>0</td>\n",
              "      <td>1</td>\n",
              "      <td>0</td>\n",
              "      <td>1</td>\n",
              "      <td>0</td>\n",
              "      <td>1</td>\n",
              "      <td>0</td>\n",
              "      <td>0</td>\n",
              "      <td>1</td>\n",
              "      <td>0</td>\n",
              "      <td>1</td>\n",
              "      <td>0</td>\n",
              "      <td>0</td>\n",
              "      <td>1</td>\n",
              "    </tr>\n",
              "    <tr>\n",
              "      <th>000010.jpg</th>\n",
              "      <td>0</td>\n",
              "      <td>0</td>\n",
              "      <td>1</td>\n",
              "      <td>0</td>\n",
              "      <td>0</td>\n",
              "      <td>0</td>\n",
              "      <td>0</td>\n",
              "      <td>0</td>\n",
              "      <td>0</td>\n",
              "      <td>0</td>\n",
              "      <td>0</td>\n",
              "      <td>0</td>\n",
              "      <td>0</td>\n",
              "      <td>0</td>\n",
              "      <td>0</td>\n",
              "      <td>0</td>\n",
              "      <td>0</td>\n",
              "      <td>0</td>\n",
              "      <td>1</td>\n",
              "      <td>1</td>\n",
              "      <td>0</td>\n",
              "      <td>0</td>\n",
              "      <td>0</td>\n",
              "      <td>0</td>\n",
              "      <td>1</td>\n",
              "      <td>0</td>\n",
              "      <td>0</td>\n",
              "      <td>0</td>\n",
              "      <td>0</td>\n",
              "      <td>0</td>\n",
              "      <td>0</td>\n",
              "      <td>0</td>\n",
              "      <td>0</td>\n",
              "      <td>1</td>\n",
              "      <td>0</td>\n",
              "      <td>0</td>\n",
              "      <td>1</td>\n",
              "      <td>0</td>\n",
              "      <td>0</td>\n",
              "      <td>1</td>\n",
              "    </tr>\n",
              "  </tbody>\n",
              "</table>\n",
              "</div>"
            ],
            "text/plain": [
              "            5_o_Clock_Shadow  Arched_Eyebrows  ...  Wearing_Necktie  Young\n",
              "000001.jpg                 0                1  ...                0      1\n",
              "000002.jpg                 0                0  ...                0      1\n",
              "000003.jpg                 0                0  ...                0      1\n",
              "000004.jpg                 0                0  ...                0      1\n",
              "000005.jpg                 0                1  ...                0      1\n",
              "000006.jpg                 0                1  ...                0      1\n",
              "000007.jpg                 1                0  ...                0      1\n",
              "000008.jpg                 1                1  ...                0      1\n",
              "000009.jpg                 0                1  ...                0      1\n",
              "000010.jpg                 0                0  ...                0      1\n",
              "\n",
              "[10 rows x 40 columns]"
            ]
          },
          "metadata": {},
          "execution_count": 150
        }
      ]
    },
    {
      "cell_type": "code",
      "metadata": {
        "colab": {
          "base_uri": "https://localhost:8080/"
        },
        "id": "ordered-michigan",
        "outputId": "79e3db34-2be2-4011-ce2f-3100002d9964"
      },
      "source": [
        "df_attr.shape"
      ],
      "id": "ordered-michigan",
      "execution_count": 151,
      "outputs": [
        {
          "output_type": "execute_result",
          "data": {
            "text/plain": [
              "(202599, 40)"
            ]
          },
          "metadata": {},
          "execution_count": 151
        }
      ]
    },
    {
      "cell_type": "markdown",
      "metadata": {
        "id": "italic-richards"
      },
      "source": [
        "Посмотрим, как же выглядят эти картинки в действительности."
      ],
      "id": "italic-richards"
    },
    {
      "cell_type": "code",
      "metadata": {
        "id": "taken-objective",
        "colab": {
          "base_uri": "https://localhost:8080/",
          "height": 357
        },
        "outputId": "d81003fb-3786-401f-aaf7-62804e9a75af"
      },
      "source": [
        "example = '010942.jpg'\n",
        "big_img = Image.open(IMAGE_PATH + example)\n",
        "print(df_attr.loc[example][df_attr.loc[example] == 1])\n",
        "big_img"
      ],
      "id": "taken-objective",
      "execution_count": 152,
      "outputs": [
        {
          "output_type": "stream",
          "name": "stdout",
          "text": [
            "Bangs                  1\n",
            "Blurry                 1\n",
            "Brown_Hair             1\n",
            "Mouth_Slightly_Open    1\n",
            "No_Beard               1\n",
            "Young                  1\n",
            "Name: 010942.jpg, dtype: int64\n"
          ]
        },
        {
          "output_type": "execute_result",
          "data": {
            "image/png": "[encoded data removed]",
            "text/plain": [
              "<PIL.JpegImagePlugin.JpegImageFile image mode=RGB size=178x218 at 0x7F4E5E2CC810>"
            ]
          },
          "metadata": {},
          "execution_count": 152
        }
      ]
    },
    {
      "cell_type": "markdown",
      "metadata": {
        "id": "amber-sensitivity"
      },
      "source": [
        "В рамках данной работы я рассматриваю только 17000 из предложенных изображений, поэтому можно сразу уменьшить наш датасет."
      ],
      "id": "amber-sensitivity"
    },
    {
      "cell_type": "code",
      "metadata": {
        "colab": {
          "base_uri": "https://localhost:8080/"
        },
        "id": "answering-advance",
        "outputId": "a2c54faf-42af-4c93-9a00-4e18307ef02c"
      },
      "source": [
        "df_size = 17000\n",
        "df_attr = df_attr[:df_size]\n",
        "df_attr.shape"
      ],
      "id": "answering-advance",
      "execution_count": 153,
      "outputs": [
        {
          "output_type": "execute_result",
          "data": {
            "text/plain": [
              "(17000, 40)"
            ]
          },
          "metadata": {},
          "execution_count": 153
        }
      ]
    },
    {
      "cell_type": "code",
      "metadata": {
        "id": "considerable-waters"
      },
      "source": [
        "all_attributes = df_attr.columns"
      ],
      "id": "considerable-waters",
      "execution_count": 154,
      "outputs": []
    },
    {
      "cell_type": "markdown",
      "metadata": {
        "id": "forty-stylus"
      },
      "source": [
        "У меня не стоит цель научиться распознавать абсолютно все атрибуты лица, поэтому я хочу выбрать некоторые из них, и в дальнейшем работать только с ними. Для большего интереса выберем признаки с различным распределением. Рассмотрим, какие признаки сбалансированы, а какие нет.\n",
        "\n",
        "Важно не забывать, что сейчас мы исследуем не признаки (признаком является само изображение), а метки объектов."
      ],
      "id": "forty-stylus"
    },
    {
      "cell_type": "code",
      "metadata": {
        "id": "hybrid-sunrise"
      },
      "source": [
        "def PrintSortedData(condition, df):\n",
        "    sorted_map = {}\n",
        "    for attribute in all_attributes:\n",
        "        sorted_map[attribute] = condition(attribute, df)\n",
        "\n",
        "    for attr, value in sorted(sorted_map.items(), key=lambda item: item[1]):\n",
        "        spaces = ' ' * (20 - len(attr)) + '\\t'\n",
        "        print(attr, spaces, value)\n",
        "    return sorted_map"
      ],
      "id": "hybrid-sunrise",
      "execution_count": 155,
      "outputs": []
    },
    {
      "cell_type": "code",
      "metadata": {
        "colab": {
          "base_uri": "https://localhost:8080/"
        },
        "id": "front-wholesale",
        "outputId": "2ae9ed55-f0bd-4c78-a0c3-89bcc85670f2"
      },
      "source": [
        "condition = lambda attr, df: round(df[attr].sum() / df_size, 3)\n",
        "balanse_map = PrintSortedData(condition, df_attr)"
      ],
      "id": "front-wholesale",
      "execution_count": 156,
      "outputs": [
        {
          "output_type": "stream",
          "name": "stdout",
          "text": [
            "Bald                 \t 0.024\n",
            "Mustache             \t 0.04\n",
            "Gray_Hair            \t 0.042\n",
            "Pale_Skin            \t 0.043\n",
            "Double_Chin          \t 0.046\n",
            "Blurry               \t 0.05\n",
            "Wearing_Hat          \t 0.05\n",
            "Chubby               \t 0.057\n",
            "Sideburns            \t 0.058\n",
            "Goatee               \t 0.063\n",
            "Rosy_Cheeks          \t 0.063\n",
            "Eyeglasses           \t 0.066\n",
            "Wearing_Necktie      \t 0.074\n",
            "Receding_Hairline    \t 0.077\n",
            "5_o_Clock_Shadow     \t 0.113\n",
            "Narrow_Eyes          \t 0.116\n",
            "Wearing_Necklace     \t 0.122\n",
            "Bushy_Eyebrows       \t 0.143\n",
            "Blond_Hair           \t 0.149\n",
            "Bangs                \t 0.15\n",
            "Wearing_Earrings     \t 0.187\n",
            "Bags_Under_Eyes      \t 0.204\n",
            "Brown_Hair           \t 0.205\n",
            "Straight_Hair        \t 0.212\n",
            "Big_Nose             \t 0.238\n",
            "Big_Lips             \t 0.239\n",
            "Black_Hair           \t 0.241\n",
            "Arched_Eyebrows      \t 0.265\n",
            "Pointy_Nose          \t 0.275\n",
            "Oval_Face            \t 0.278\n",
            "Wavy_Hair            \t 0.317\n",
            "Heavy_Makeup         \t 0.386\n",
            "Male                 \t 0.422\n",
            "High_Cheekbones      \t 0.45\n",
            "Wearing_Lipstick     \t 0.471\n",
            "Mouth_Slightly_Open  \t 0.479\n",
            "Smiling              \t 0.48\n",
            "Attractive           \t 0.513\n",
            "Young                \t 0.779\n",
            "No_Beard             \t 0.831\n"
          ]
        }
      ]
    },
    {
      "cell_type": "markdown",
      "metadata": {
        "id": "baking-nicaragua"
      },
      "source": [
        "Рассмотрим также взаимную корреляцию меток. В итоге я хочу сделать нейронную сеть, которая будет одновременно распознавать несколько признаков, поэтому интересно, будет ли влиять их взаимная корреляция. Иными словами, сможет ли сеть использовать знание об одной метке, чтобы лучше распознать другую."
      ],
      "id": "baking-nicaragua"
    },
    {
      "cell_type": "code",
      "metadata": {
        "colab": {
          "base_uri": "https://localhost:8080/",
          "height": 1000
        },
        "id": "higher-teens",
        "outputId": "6d590e2d-f9c7-41b5-a361-33b25cde2be0"
      },
      "source": [
        "f = plt.figure(figsize=(40, 30))\n",
        "\n",
        "plt.matshow(df_attr.corr(), fignum=f.number)\n",
        "\n",
        "plt.xticks(range(df_attr.select_dtypes(['number']).shape[1]), df_attr.select_dtypes(['number']).columns, fontsize=14, rotation=90)\n",
        "plt.yticks(range(df_attr.select_dtypes(['number']).shape[1]), df_attr.select_dtypes(['number']).columns, fontsize=14)\n",
        "\n",
        "cb = plt.colorbar()\n",
        "cb.ax.tick_params(labelsize=30)"
      ],
      "id": "higher-teens",
      "execution_count": 157,
      "outputs": [
        {
          "output_type": "display_data",
          "data": {
            "image/png": "[encoded data removed]",
            "text/plain": [
              "<Figure size 2880x2160 with 2 Axes>"
            ]
          },
          "metadata": {
            "needs_background": "light"
          }
        }
      ]
    },
    {
      "cell_type": "markdown",
      "metadata": {
        "id": "irish-amber"
      },
      "source": [
        "Можно увидеть некоторые очевидные корреляции: к примеру, мужчины никогда не используют помаду, поэтому эти два атрибута очень сильно скоррелированны. С другой стороны, яркая помада имеет сильную корреляцию с ярким макияжем."
      ],
      "id": "irish-amber"
    },
    {
      "cell_type": "markdown",
      "metadata": {
        "id": "immune-mississippi"
      },
      "source": [
        "Интересно выбрать пару скореллированных меток, и посмотреть, поможет ли это нейросети лучше их распознавать."
      ],
      "id": "immune-mississippi"
    },
    {
      "cell_type": "markdown",
      "metadata": {
        "id": "august-python"
      },
      "source": [
        "Выберем несколько меток с различными корреляциями и распределениями. В качестве хорошо сбалансированных меток возьмем Male, Wearing_Lipstick и Smiling. Первые две метки сильно скореллированы между собой, посмотрим, скажется ли это на том, насколько хорошо нейросети будут их распознавать. Дополнительно возьмем одну среднесбалансированную метку, к примеру, Big_Lips, и одну совсем плохо сбалансированную, например Mustache. На этих пяти метках и будем проводить наше исследование."
      ],
      "id": "august-python"
    },
    {
      "cell_type": "code",
      "metadata": {
        "id": "patient-substitute"
      },
      "source": [
        "attributes = ['Male', 'Wearing_Lipstick', 'Smiling', 'Big_Lips', 'Mustache']"
      ],
      "id": "patient-substitute",
      "execution_count": 158,
      "outputs": []
    },
    {
      "cell_type": "markdown",
      "metadata": {
        "id": "spare-tomato"
      },
      "source": [
        "## Предварительная обработка данных"
      ],
      "id": "spare-tomato"
    },
    {
      "cell_type": "markdown",
      "metadata": {
        "id": "square-recognition"
      },
      "source": [
        "Попробуем преобразовать картинки в более удобный вид, в частности, в обычный вектор чисел. Для наглядности, сначала проведем преобразования только над первой картинкой. Дополнительно уменьшим размер, чтобы уменьшить время обучения."
      ],
      "id": "square-recognition"
    },
    {
      "cell_type": "code",
      "metadata": {
        "id": "certain-comfort",
        "colab": {
          "base_uri": "https://localhost:8080/",
          "height": 143
        },
        "outputId": "fd992dd4-e890-4c57-dcd0-bfa57db2f46c"
      },
      "source": [
        "compr_ratio = 2\n",
        "\n",
        "big_img = Image.open(IMAGE_PATH + example).convert('L')\n",
        "small_size = (big_img.size[0] // compr_ratio, big_img.size[1] // compr_ratio)\n",
        "img = big_img.resize(small_size)\n",
        "print(small_size)\n",
        "img"
      ],
      "id": "certain-comfort",
      "execution_count": 159,
      "outputs": [
        {
          "output_type": "stream",
          "name": "stdout",
          "text": [
            "(89, 109)\n"
          ]
        },
        {
          "output_type": "execute_result",
          "data": {
            "image/png": "[encoded data removed]",
            "text/plain": [
              "<PIL.Image.Image image mode=L size=89x109 at 0x7F4E5E2CC590>"
            ]
          },
          "metadata": {},
          "execution_count": 159
        }
      ]
    },
    {
      "cell_type": "code",
      "metadata": {
        "id": "southern-female",
        "colab": {
          "base_uri": "https://localhost:8080/"
        },
        "outputId": "90906b9a-200b-4e77-e25e-3d7a91bd6acc"
      },
      "source": [
        "from sklearn import preprocessing\n",
        "\n",
        "img_array = np.array(img)\n",
        "final_array = (np.concatenate(img_array).reshape(1, -1)).astype('float32') / 255\n",
        "print(final_array)\n",
        "image_size = final_array.size\n",
        "print(final_array.shape)"
      ],
      "id": "southern-female",
      "execution_count": 160,
      "outputs": [
        {
          "output_type": "stream",
          "name": "stdout",
          "text": [
            "[[1.         1.         1.         ... 0.2        0.19607843 0.20392157]]\n",
            "(1, 9701)\n"
          ]
        }
      ]
    },
    {
      "cell_type": "markdown",
      "metadata": {
        "id": "eight-eight"
      },
      "source": [
        "Теперь применим это ко всем картинкам, чтобы сформировать соответствующий DataFrame."
      ],
      "id": "eight-eight"
    },
    {
      "cell_type": "code",
      "metadata": {
        "id": "conventional-breath"
      },
      "source": [
        "def create_features_from_indexes(indexes, columns, verboze=1):\n",
        "    x = pd.DataFrame(index=indexes, columns=columns)\n",
        "    counter = 0\n",
        "    for img_index in indexes:\n",
        "        img = Image.open(IMAGE_PATH + img_index).convert('L').resize(small_size)\n",
        "        img_array = (np.concatenate(np.array(img)).reshape(1, -1)).astype('float32') / 255\n",
        "        x.loc[img_index] = img_array\n",
        "        counter += 1\n",
        "        if (verboze == 1 and counter % 1000 == 0):\n",
        "            print(counter)\n",
        "    return x"
      ],
      "id": "conventional-breath",
      "execution_count": 161,
      "outputs": []
    },
    {
      "cell_type": "markdown",
      "metadata": {
        "id": "sealed-newman"
      },
      "source": [
        "Авторы рекомендуют разбивать данные на train и test следующим образом:\n",
        "> Recommended: \\\n",
        "1-162770 are training\\\n",
        "162771-182637 are validation\\\n",
        "182638-202599 are testing\n",
        "\n",
        "В рамках данной работы я не обладаю достаточными мощностями, для того чтобы рассматривать такое количество данных, поэтому выберем 4000 картинок для обучения, 1000 для валидации и 1000 для тестирования. Выбирать будем случайным образом из первых 17000 картинок."
      ],
      "id": "sealed-newman"
    },
    {
      "cell_type": "code",
      "metadata": {
        "colab": {
          "base_uri": "https://localhost:8080/",
          "height": 461
        },
        "id": "weekly-calcium",
        "outputId": "95e699fc-1e97-425c-83b5-c16b309237b7"
      },
      "source": [
        "y_train = df_attr.iloc[:df_size].sample(n=4000, random_state=42)\n",
        "y_val = df_attr.iloc[:df_size].drop(y_train.index.tolist()).sample(n=1000, random_state=42)\n",
        "y_test = df_attr.iloc[:df_size].drop(y_train.index.tolist())\\\n",
        "        .drop(y_val.index.tolist()).sample(n=1000, random_state=42)\n",
        "\n",
        "print(y_train.shape, y_val.shape, y_test.shape)\n",
        "y_test"
      ],
      "id": "weekly-calcium",
      "execution_count": 162,
      "outputs": [
        {
          "output_type": "stream",
          "name": "stdout",
          "text": [
            "(4000, 40) (1000, 40) (1000, 40)\n"
          ]
        },
        {
          "output_type": "execute_result",
          "data": {
            "text/html": [
              "<div>\n",
              "<style scoped>\n",
              "    .dataframe tbody tr th:only-of-type {\n",
              "        vertical-align: middle;\n",
              "    }\n",
              "\n",
              "    .dataframe tbody tr th {\n",
              "        vertical-align: top;\n",
              "    }\n",
              "\n",
              "    .dataframe thead th {\n",
              "        text-align: right;\n",
              "    }\n",
              "</style>\n",
              "<table border=\"1\" class=\"dataframe\">\n",
              "  <thead>\n",
              "    <tr style=\"text-align: right;\">\n",
              "      <th></th>\n",
              "      <th>5_o_Clock_Shadow</th>\n",
              "      <th>Arched_Eyebrows</th>\n",
              "      <th>Attractive</th>\n",
              "      <th>Bags_Under_Eyes</th>\n",
              "      <th>Bald</th>\n",
              "      <th>Bangs</th>\n",
              "      <th>Big_Lips</th>\n",
              "      <th>Big_Nose</th>\n",
              "      <th>Black_Hair</th>\n",
              "      <th>Blond_Hair</th>\n",
              "      <th>Blurry</th>\n",
              "      <th>Brown_Hair</th>\n",
              "      <th>Bushy_Eyebrows</th>\n",
              "      <th>Chubby</th>\n",
              "      <th>Double_Chin</th>\n",
              "      <th>Eyeglasses</th>\n",
              "      <th>Goatee</th>\n",
              "      <th>Gray_Hair</th>\n",
              "      <th>Heavy_Makeup</th>\n",
              "      <th>High_Cheekbones</th>\n",
              "      <th>Male</th>\n",
              "      <th>Mouth_Slightly_Open</th>\n",
              "      <th>Mustache</th>\n",
              "      <th>Narrow_Eyes</th>\n",
              "      <th>No_Beard</th>\n",
              "      <th>Oval_Face</th>\n",
              "      <th>Pale_Skin</th>\n",
              "      <th>Pointy_Nose</th>\n",
              "      <th>Receding_Hairline</th>\n",
              "      <th>Rosy_Cheeks</th>\n",
              "      <th>Sideburns</th>\n",
              "      <th>Smiling</th>\n",
              "      <th>Straight_Hair</th>\n",
              "      <th>Wavy_Hair</th>\n",
              "      <th>Wearing_Earrings</th>\n",
              "      <th>Wearing_Hat</th>\n",
              "      <th>Wearing_Lipstick</th>\n",
              "      <th>Wearing_Necklace</th>\n",
              "      <th>Wearing_Necktie</th>\n",
              "      <th>Young</th>\n",
              "    </tr>\n",
              "  </thead>\n",
              "  <tbody>\n",
              "    <tr>\n",
              "      <th>002741.jpg</th>\n",
              "      <td>1</td>\n",
              "      <td>0</td>\n",
              "      <td>0</td>\n",
              "      <td>0</td>\n",
              "      <td>0</td>\n",
              "      <td>0</td>\n",
              "      <td>0</td>\n",
              "      <td>0</td>\n",
              "      <td>0</td>\n",
              "      <td>0</td>\n",
              "      <td>0</td>\n",
              "      <td>0</td>\n",
              "      <td>0</td>\n",
              "      <td>0</td>\n",
              "      <td>0</td>\n",
              "      <td>0</td>\n",
              "      <td>0</td>\n",
              "      <td>0</td>\n",
              "      <td>0</td>\n",
              "      <td>0</td>\n",
              "      <td>1</td>\n",
              "      <td>0</td>\n",
              "      <td>0</td>\n",
              "      <td>0</td>\n",
              "      <td>1</td>\n",
              "      <td>0</td>\n",
              "      <td>0</td>\n",
              "      <td>0</td>\n",
              "      <td>0</td>\n",
              "      <td>0</td>\n",
              "      <td>0</td>\n",
              "      <td>0</td>\n",
              "      <td>0</td>\n",
              "      <td>0</td>\n",
              "      <td>0</td>\n",
              "      <td>0</td>\n",
              "      <td>0</td>\n",
              "      <td>0</td>\n",
              "      <td>0</td>\n",
              "      <td>0</td>\n",
              "    </tr>\n",
              "    <tr>\n",
              "      <th>009217.jpg</th>\n",
              "      <td>0</td>\n",
              "      <td>0</td>\n",
              "      <td>0</td>\n",
              "      <td>0</td>\n",
              "      <td>0</td>\n",
              "      <td>0</td>\n",
              "      <td>0</td>\n",
              "      <td>0</td>\n",
              "      <td>0</td>\n",
              "      <td>0</td>\n",
              "      <td>0</td>\n",
              "      <td>1</td>\n",
              "      <td>0</td>\n",
              "      <td>0</td>\n",
              "      <td>0</td>\n",
              "      <td>0</td>\n",
              "      <td>0</td>\n",
              "      <td>0</td>\n",
              "      <td>0</td>\n",
              "      <td>1</td>\n",
              "      <td>1</td>\n",
              "      <td>1</td>\n",
              "      <td>0</td>\n",
              "      <td>0</td>\n",
              "      <td>1</td>\n",
              "      <td>0</td>\n",
              "      <td>0</td>\n",
              "      <td>0</td>\n",
              "      <td>0</td>\n",
              "      <td>0</td>\n",
              "      <td>0</td>\n",
              "      <td>1</td>\n",
              "      <td>0</td>\n",
              "      <td>0</td>\n",
              "      <td>0</td>\n",
              "      <td>0</td>\n",
              "      <td>0</td>\n",
              "      <td>0</td>\n",
              "      <td>0</td>\n",
              "      <td>0</td>\n",
              "    </tr>\n",
              "    <tr>\n",
              "      <th>002427.jpg</th>\n",
              "      <td>0</td>\n",
              "      <td>0</td>\n",
              "      <td>1</td>\n",
              "      <td>0</td>\n",
              "      <td>0</td>\n",
              "      <td>0</td>\n",
              "      <td>0</td>\n",
              "      <td>0</td>\n",
              "      <td>1</td>\n",
              "      <td>0</td>\n",
              "      <td>0</td>\n",
              "      <td>0</td>\n",
              "      <td>1</td>\n",
              "      <td>0</td>\n",
              "      <td>0</td>\n",
              "      <td>0</td>\n",
              "      <td>0</td>\n",
              "      <td>0</td>\n",
              "      <td>1</td>\n",
              "      <td>0</td>\n",
              "      <td>0</td>\n",
              "      <td>0</td>\n",
              "      <td>0</td>\n",
              "      <td>0</td>\n",
              "      <td>1</td>\n",
              "      <td>0</td>\n",
              "      <td>0</td>\n",
              "      <td>0</td>\n",
              "      <td>0</td>\n",
              "      <td>0</td>\n",
              "      <td>0</td>\n",
              "      <td>0</td>\n",
              "      <td>1</td>\n",
              "      <td>0</td>\n",
              "      <td>0</td>\n",
              "      <td>0</td>\n",
              "      <td>1</td>\n",
              "      <td>1</td>\n",
              "      <td>0</td>\n",
              "      <td>1</td>\n",
              "    </tr>\n",
              "    <tr>\n",
              "      <th>012985.jpg</th>\n",
              "      <td>0</td>\n",
              "      <td>0</td>\n",
              "      <td>0</td>\n",
              "      <td>1</td>\n",
              "      <td>0</td>\n",
              "      <td>0</td>\n",
              "      <td>1</td>\n",
              "      <td>1</td>\n",
              "      <td>1</td>\n",
              "      <td>0</td>\n",
              "      <td>0</td>\n",
              "      <td>0</td>\n",
              "      <td>1</td>\n",
              "      <td>0</td>\n",
              "      <td>0</td>\n",
              "      <td>0</td>\n",
              "      <td>0</td>\n",
              "      <td>0</td>\n",
              "      <td>0</td>\n",
              "      <td>1</td>\n",
              "      <td>1</td>\n",
              "      <td>0</td>\n",
              "      <td>0</td>\n",
              "      <td>0</td>\n",
              "      <td>1</td>\n",
              "      <td>1</td>\n",
              "      <td>0</td>\n",
              "      <td>0</td>\n",
              "      <td>0</td>\n",
              "      <td>0</td>\n",
              "      <td>0</td>\n",
              "      <td>0</td>\n",
              "      <td>0</td>\n",
              "      <td>0</td>\n",
              "      <td>0</td>\n",
              "      <td>0</td>\n",
              "      <td>0</td>\n",
              "      <td>0</td>\n",
              "      <td>0</td>\n",
              "      <td>1</td>\n",
              "    </tr>\n",
              "    <tr>\n",
              "      <th>000538.jpg</th>\n",
              "      <td>0</td>\n",
              "      <td>1</td>\n",
              "      <td>0</td>\n",
              "      <td>0</td>\n",
              "      <td>0</td>\n",
              "      <td>0</td>\n",
              "      <td>0</td>\n",
              "      <td>0</td>\n",
              "      <td>0</td>\n",
              "      <td>0</td>\n",
              "      <td>0</td>\n",
              "      <td>0</td>\n",
              "      <td>0</td>\n",
              "      <td>0</td>\n",
              "      <td>0</td>\n",
              "      <td>0</td>\n",
              "      <td>0</td>\n",
              "      <td>0</td>\n",
              "      <td>0</td>\n",
              "      <td>1</td>\n",
              "      <td>0</td>\n",
              "      <td>0</td>\n",
              "      <td>0</td>\n",
              "      <td>1</td>\n",
              "      <td>1</td>\n",
              "      <td>0</td>\n",
              "      <td>0</td>\n",
              "      <td>0</td>\n",
              "      <td>0</td>\n",
              "      <td>0</td>\n",
              "      <td>0</td>\n",
              "      <td>1</td>\n",
              "      <td>0</td>\n",
              "      <td>0</td>\n",
              "      <td>0</td>\n",
              "      <td>0</td>\n",
              "      <td>1</td>\n",
              "      <td>0</td>\n",
              "      <td>0</td>\n",
              "      <td>1</td>\n",
              "    </tr>\n",
              "    <tr>\n",
              "      <th>...</th>\n",
              "      <td>...</td>\n",
              "      <td>...</td>\n",
              "      <td>...</td>\n",
              "      <td>...</td>\n",
              "      <td>...</td>\n",
              "      <td>...</td>\n",
              "      <td>...</td>\n",
              "      <td>...</td>\n",
              "      <td>...</td>\n",
              "      <td>...</td>\n",
              "      <td>...</td>\n",
              "      <td>...</td>\n",
              "      <td>...</td>\n",
              "      <td>...</td>\n",
              "      <td>...</td>\n",
              "      <td>...</td>\n",
              "      <td>...</td>\n",
              "      <td>...</td>\n",
              "      <td>...</td>\n",
              "      <td>...</td>\n",
              "      <td>...</td>\n",
              "      <td>...</td>\n",
              "      <td>...</td>\n",
              "      <td>...</td>\n",
              "      <td>...</td>\n",
              "      <td>...</td>\n",
              "      <td>...</td>\n",
              "      <td>...</td>\n",
              "      <td>...</td>\n",
              "      <td>...</td>\n",
              "      <td>...</td>\n",
              "      <td>...</td>\n",
              "      <td>...</td>\n",
              "      <td>...</td>\n",
              "      <td>...</td>\n",
              "      <td>...</td>\n",
              "      <td>...</td>\n",
              "      <td>...</td>\n",
              "      <td>...</td>\n",
              "      <td>...</td>\n",
              "    </tr>\n",
              "    <tr>\n",
              "      <th>008222.jpg</th>\n",
              "      <td>0</td>\n",
              "      <td>0</td>\n",
              "      <td>0</td>\n",
              "      <td>0</td>\n",
              "      <td>0</td>\n",
              "      <td>0</td>\n",
              "      <td>0</td>\n",
              "      <td>0</td>\n",
              "      <td>0</td>\n",
              "      <td>0</td>\n",
              "      <td>0</td>\n",
              "      <td>0</td>\n",
              "      <td>0</td>\n",
              "      <td>0</td>\n",
              "      <td>0</td>\n",
              "      <td>0</td>\n",
              "      <td>0</td>\n",
              "      <td>0</td>\n",
              "      <td>0</td>\n",
              "      <td>1</td>\n",
              "      <td>0</td>\n",
              "      <td>1</td>\n",
              "      <td>0</td>\n",
              "      <td>0</td>\n",
              "      <td>1</td>\n",
              "      <td>1</td>\n",
              "      <td>0</td>\n",
              "      <td>0</td>\n",
              "      <td>0</td>\n",
              "      <td>0</td>\n",
              "      <td>0</td>\n",
              "      <td>1</td>\n",
              "      <td>0</td>\n",
              "      <td>1</td>\n",
              "      <td>1</td>\n",
              "      <td>0</td>\n",
              "      <td>0</td>\n",
              "      <td>0</td>\n",
              "      <td>0</td>\n",
              "      <td>1</td>\n",
              "    </tr>\n",
              "    <tr>\n",
              "      <th>014057.jpg</th>\n",
              "      <td>1</td>\n",
              "      <td>0</td>\n",
              "      <td>1</td>\n",
              "      <td>0</td>\n",
              "      <td>0</td>\n",
              "      <td>0</td>\n",
              "      <td>0</td>\n",
              "      <td>0</td>\n",
              "      <td>1</td>\n",
              "      <td>0</td>\n",
              "      <td>0</td>\n",
              "      <td>0</td>\n",
              "      <td>1</td>\n",
              "      <td>0</td>\n",
              "      <td>0</td>\n",
              "      <td>0</td>\n",
              "      <td>0</td>\n",
              "      <td>0</td>\n",
              "      <td>0</td>\n",
              "      <td>0</td>\n",
              "      <td>1</td>\n",
              "      <td>0</td>\n",
              "      <td>0</td>\n",
              "      <td>0</td>\n",
              "      <td>0</td>\n",
              "      <td>1</td>\n",
              "      <td>0</td>\n",
              "      <td>0</td>\n",
              "      <td>0</td>\n",
              "      <td>0</td>\n",
              "      <td>0</td>\n",
              "      <td>0</td>\n",
              "      <td>0</td>\n",
              "      <td>1</td>\n",
              "      <td>0</td>\n",
              "      <td>0</td>\n",
              "      <td>0</td>\n",
              "      <td>0</td>\n",
              "      <td>0</td>\n",
              "      <td>1</td>\n",
              "    </tr>\n",
              "    <tr>\n",
              "      <th>005634.jpg</th>\n",
              "      <td>1</td>\n",
              "      <td>0</td>\n",
              "      <td>0</td>\n",
              "      <td>0</td>\n",
              "      <td>0</td>\n",
              "      <td>1</td>\n",
              "      <td>0</td>\n",
              "      <td>0</td>\n",
              "      <td>1</td>\n",
              "      <td>0</td>\n",
              "      <td>0</td>\n",
              "      <td>0</td>\n",
              "      <td>0</td>\n",
              "      <td>0</td>\n",
              "      <td>0</td>\n",
              "      <td>0</td>\n",
              "      <td>0</td>\n",
              "      <td>0</td>\n",
              "      <td>0</td>\n",
              "      <td>0</td>\n",
              "      <td>1</td>\n",
              "      <td>0</td>\n",
              "      <td>0</td>\n",
              "      <td>0</td>\n",
              "      <td>0</td>\n",
              "      <td>1</td>\n",
              "      <td>0</td>\n",
              "      <td>0</td>\n",
              "      <td>0</td>\n",
              "      <td>0</td>\n",
              "      <td>0</td>\n",
              "      <td>0</td>\n",
              "      <td>0</td>\n",
              "      <td>0</td>\n",
              "      <td>0</td>\n",
              "      <td>0</td>\n",
              "      <td>0</td>\n",
              "      <td>0</td>\n",
              "      <td>0</td>\n",
              "      <td>1</td>\n",
              "    </tr>\n",
              "    <tr>\n",
              "      <th>003897.jpg</th>\n",
              "      <td>0</td>\n",
              "      <td>1</td>\n",
              "      <td>1</td>\n",
              "      <td>0</td>\n",
              "      <td>0</td>\n",
              "      <td>0</td>\n",
              "      <td>1</td>\n",
              "      <td>0</td>\n",
              "      <td>0</td>\n",
              "      <td>1</td>\n",
              "      <td>0</td>\n",
              "      <td>0</td>\n",
              "      <td>0</td>\n",
              "      <td>0</td>\n",
              "      <td>0</td>\n",
              "      <td>0</td>\n",
              "      <td>0</td>\n",
              "      <td>0</td>\n",
              "      <td>1</td>\n",
              "      <td>0</td>\n",
              "      <td>0</td>\n",
              "      <td>0</td>\n",
              "      <td>0</td>\n",
              "      <td>0</td>\n",
              "      <td>1</td>\n",
              "      <td>0</td>\n",
              "      <td>0</td>\n",
              "      <td>1</td>\n",
              "      <td>0</td>\n",
              "      <td>0</td>\n",
              "      <td>0</td>\n",
              "      <td>0</td>\n",
              "      <td>0</td>\n",
              "      <td>0</td>\n",
              "      <td>0</td>\n",
              "      <td>0</td>\n",
              "      <td>1</td>\n",
              "      <td>0</td>\n",
              "      <td>0</td>\n",
              "      <td>1</td>\n",
              "    </tr>\n",
              "    <tr>\n",
              "      <th>002019.jpg</th>\n",
              "      <td>0</td>\n",
              "      <td>1</td>\n",
              "      <td>1</td>\n",
              "      <td>0</td>\n",
              "      <td>0</td>\n",
              "      <td>0</td>\n",
              "      <td>0</td>\n",
              "      <td>0</td>\n",
              "      <td>0</td>\n",
              "      <td>1</td>\n",
              "      <td>0</td>\n",
              "      <td>0</td>\n",
              "      <td>0</td>\n",
              "      <td>0</td>\n",
              "      <td>0</td>\n",
              "      <td>0</td>\n",
              "      <td>0</td>\n",
              "      <td>0</td>\n",
              "      <td>1</td>\n",
              "      <td>1</td>\n",
              "      <td>0</td>\n",
              "      <td>1</td>\n",
              "      <td>0</td>\n",
              "      <td>0</td>\n",
              "      <td>1</td>\n",
              "      <td>1</td>\n",
              "      <td>0</td>\n",
              "      <td>0</td>\n",
              "      <td>0</td>\n",
              "      <td>0</td>\n",
              "      <td>0</td>\n",
              "      <td>1</td>\n",
              "      <td>0</td>\n",
              "      <td>1</td>\n",
              "      <td>1</td>\n",
              "      <td>0</td>\n",
              "      <td>1</td>\n",
              "      <td>1</td>\n",
              "      <td>0</td>\n",
              "      <td>1</td>\n",
              "    </tr>\n",
              "  </tbody>\n",
              "</table>\n",
              "<p>1000 rows × 40 columns</p>\n",
              "</div>"
            ],
            "text/plain": [
              "            5_o_Clock_Shadow  Arched_Eyebrows  ...  Wearing_Necktie  Young\n",
              "002741.jpg                 1                0  ...                0      0\n",
              "009217.jpg                 0                0  ...                0      0\n",
              "002427.jpg                 0                0  ...                0      1\n",
              "012985.jpg                 0                0  ...                0      1\n",
              "000538.jpg                 0                1  ...                0      1\n",
              "...                      ...              ...  ...              ...    ...\n",
              "008222.jpg                 0                0  ...                0      1\n",
              "014057.jpg                 1                0  ...                0      1\n",
              "005634.jpg                 1                0  ...                0      1\n",
              "003897.jpg                 0                1  ...                0      1\n",
              "002019.jpg                 0                1  ...                0      1\n",
              "\n",
              "[1000 rows x 40 columns]"
            ]
          },
          "metadata": {},
          "execution_count": 162
        }
      ]
    },
    {
      "cell_type": "markdown",
      "metadata": {
        "id": "scheduled-model"
      },
      "source": [
        "Применим к каждой выборке преобразование картинок, создав соответственно тренировочный, валидационный и тестовый набор фичей."
      ],
      "id": "scheduled-model"
    },
    {
      "cell_type": "code",
      "metadata": {
        "id": "graduate-bankruptcy",
        "colab": {
          "base_uri": "https://localhost:8080/"
        },
        "outputId": "63b6d490-cd1a-422f-b6fc-9db6228dea1e"
      },
      "source": [
        "start_time = time.time()\n",
        "\n",
        "x_train = create_features_from_indexes(y_train.index, range(image_size))\n",
        "x_val = create_features_from_indexes(y_val.index, range(image_size))\n",
        "x_test = create_features_from_indexes(y_test.index, range(image_size))\n",
        "\n",
        "print(\"--- %s seconds ---\" % (time.time() - start_time))"
      ],
      "id": "graduate-bankruptcy",
      "execution_count": 232,
      "outputs": [
        {
          "output_type": "stream",
          "name": "stdout",
          "text": [
            "1000\n",
            "2000\n",
            "3000\n",
            "4000\n",
            "1000\n",
            "1000\n",
            "--- 25.405062675476074 seconds ---\n"
          ]
        }
      ]
    },
    {
      "cell_type": "code",
      "metadata": {
        "id": "stupid-township"
      },
      "source": [
        "# start_time = time.time()\n",
        "\n",
        "# x_train.to_csv(PATH + 'faces_train_dataset.csv')\n",
        "# x_val.to_csv(PATH + 'faces_val_dataset.csv')\n",
        "# x_test.to_csv(PATH + 'faces_test_dataset.csv')\n",
        "\n",
        "# print(\"--- %s seconds ---\" % (time.time() - start_time))"
      ],
      "id": "stupid-township",
      "execution_count": 164,
      "outputs": []
    },
    {
      "cell_type": "code",
      "metadata": {
        "id": "tFXl4wHL_0iA"
      },
      "source": [
        "# start_time = time.time()\n",
        "\n",
        "# x_train.to_csv('faces_train_dataset.csv')\n",
        "# x_val.to_csv('faces_val_dataset.csv')\n",
        "# x_test.to_csv('faces_test_dataset.csv')\n",
        "\n",
        "# print(\"--- %s seconds ---\" % (time.time() - start_time))"
      ],
      "id": "tFXl4wHL_0iA",
      "execution_count": 165,
      "outputs": []
    },
    {
      "cell_type": "code",
      "metadata": {
        "id": "k9FEaHsfC1Nk"
      },
      "source": [
        "# start_time = time.time()\n",
        "\n",
        "# x_train = pd.read_csv('/content/drive/MyDrive/content/faces_train_dataset.csv', index_col='Unnamed: 0')\n",
        "# x_test = pd.read_csv('/content/drive/MyDrive/content/faces_test_dataset.csv', index_col='Unnamed: 0')\n",
        "# x_val = pd.read_csv('/content/drive/MyDrive/content/faces_val_dataset.csv', index_col='Unnamed: 0')\n",
        "\n",
        "# print(\"--- %s seconds ---\" % (time.time() - start_time))"
      ],
      "id": "k9FEaHsfC1Nk",
      "execution_count": 166,
      "outputs": []
    },
    {
      "cell_type": "code",
      "metadata": {
        "colab": {
          "base_uri": "https://localhost:8080/",
          "height": 256
        },
        "id": "q8jagt5mDhtT",
        "outputId": "79ddee41-a5bd-4477-fcc5-1697075a8741"
      },
      "source": [
        "x_train.head()"
      ],
      "id": "q8jagt5mDhtT",
      "execution_count": 167,
      "outputs": [
        {
          "output_type": "execute_result",
          "data": {
            "text/html": [
              "<div>\n",
              "<style scoped>\n",
              "    .dataframe tbody tr th:only-of-type {\n",
              "        vertical-align: middle;\n",
              "    }\n",
              "\n",
              "    .dataframe tbody tr th {\n",
              "        vertical-align: top;\n",
              "    }\n",
              "\n",
              "    .dataframe thead th {\n",
              "        text-align: right;\n",
              "    }\n",
              "</style>\n",
              "<table border=\"1\" class=\"dataframe\">\n",
              "  <thead>\n",
              "    <tr style=\"text-align: right;\">\n",
              "      <th></th>\n",
              "      <th>0</th>\n",
              "      <th>1</th>\n",
              "      <th>2</th>\n",
              "      <th>3</th>\n",
              "      <th>4</th>\n",
              "      <th>5</th>\n",
              "      <th>6</th>\n",
              "      <th>7</th>\n",
              "      <th>8</th>\n",
              "      <th>9</th>\n",
              "      <th>10</th>\n",
              "      <th>11</th>\n",
              "      <th>12</th>\n",
              "      <th>13</th>\n",
              "      <th>14</th>\n",
              "      <th>15</th>\n",
              "      <th>16</th>\n",
              "      <th>17</th>\n",
              "      <th>18</th>\n",
              "      <th>19</th>\n",
              "      <th>20</th>\n",
              "      <th>21</th>\n",
              "      <th>22</th>\n",
              "      <th>23</th>\n",
              "      <th>24</th>\n",
              "      <th>25</th>\n",
              "      <th>26</th>\n",
              "      <th>27</th>\n",
              "      <th>28</th>\n",
              "      <th>29</th>\n",
              "      <th>30</th>\n",
              "      <th>31</th>\n",
              "      <th>32</th>\n",
              "      <th>33</th>\n",
              "      <th>34</th>\n",
              "      <th>35</th>\n",
              "      <th>36</th>\n",
              "      <th>37</th>\n",
              "      <th>38</th>\n",
              "      <th>39</th>\n",
              "      <th>...</th>\n",
              "      <th>9661</th>\n",
              "      <th>9662</th>\n",
              "      <th>9663</th>\n",
              "      <th>9664</th>\n",
              "      <th>9665</th>\n",
              "      <th>9666</th>\n",
              "      <th>9667</th>\n",
              "      <th>9668</th>\n",
              "      <th>9669</th>\n",
              "      <th>9670</th>\n",
              "      <th>9671</th>\n",
              "      <th>9672</th>\n",
              "      <th>9673</th>\n",
              "      <th>9674</th>\n",
              "      <th>9675</th>\n",
              "      <th>9676</th>\n",
              "      <th>9677</th>\n",
              "      <th>9678</th>\n",
              "      <th>9679</th>\n",
              "      <th>9680</th>\n",
              "      <th>9681</th>\n",
              "      <th>9682</th>\n",
              "      <th>9683</th>\n",
              "      <th>9684</th>\n",
              "      <th>9685</th>\n",
              "      <th>9686</th>\n",
              "      <th>9687</th>\n",
              "      <th>9688</th>\n",
              "      <th>9689</th>\n",
              "      <th>9690</th>\n",
              "      <th>9691</th>\n",
              "      <th>9692</th>\n",
              "      <th>9693</th>\n",
              "      <th>9694</th>\n",
              "      <th>9695</th>\n",
              "      <th>9696</th>\n",
              "      <th>9697</th>\n",
              "      <th>9698</th>\n",
              "      <th>9699</th>\n",
              "      <th>9700</th>\n",
              "    </tr>\n",
              "  </thead>\n",
              "  <tbody>\n",
              "    <tr>\n",
              "      <th>010942.jpg</th>\n",
              "      <td>1</td>\n",
              "      <td>1</td>\n",
              "      <td>1</td>\n",
              "      <td>1</td>\n",
              "      <td>1</td>\n",
              "      <td>1</td>\n",
              "      <td>1</td>\n",
              "      <td>1</td>\n",
              "      <td>1</td>\n",
              "      <td>1</td>\n",
              "      <td>1</td>\n",
              "      <td>1</td>\n",
              "      <td>1</td>\n",
              "      <td>1</td>\n",
              "      <td>1</td>\n",
              "      <td>1</td>\n",
              "      <td>1</td>\n",
              "      <td>1</td>\n",
              "      <td>1</td>\n",
              "      <td>1</td>\n",
              "      <td>1</td>\n",
              "      <td>1</td>\n",
              "      <td>1</td>\n",
              "      <td>1</td>\n",
              "      <td>1</td>\n",
              "      <td>1</td>\n",
              "      <td>1</td>\n",
              "      <td>1</td>\n",
              "      <td>1</td>\n",
              "      <td>1</td>\n",
              "      <td>1</td>\n",
              "      <td>1</td>\n",
              "      <td>1</td>\n",
              "      <td>1</td>\n",
              "      <td>1</td>\n",
              "      <td>1</td>\n",
              "      <td>1</td>\n",
              "      <td>1</td>\n",
              "      <td>1</td>\n",
              "      <td>1</td>\n",
              "      <td>...</td>\n",
              "      <td>0.0392157</td>\n",
              "      <td>0.266667</td>\n",
              "      <td>0.521569</td>\n",
              "      <td>0.603922</td>\n",
              "      <td>0.623529</td>\n",
              "      <td>0.603922</td>\n",
              "      <td>0.564706</td>\n",
              "      <td>0.572549</td>\n",
              "      <td>0.670588</td>\n",
              "      <td>0.701961</td>\n",
              "      <td>0.694118</td>\n",
              "      <td>0.705882</td>\n",
              "      <td>0.705882</td>\n",
              "      <td>0.705882</td>\n",
              "      <td>0.678431</td>\n",
              "      <td>0.690196</td>\n",
              "      <td>0.701961</td>\n",
              "      <td>0.698039</td>\n",
              "      <td>0.694118</td>\n",
              "      <td>0.670588</td>\n",
              "      <td>0.631373</td>\n",
              "      <td>0.619608</td>\n",
              "      <td>0.619608</td>\n",
              "      <td>0.635294</td>\n",
              "      <td>0.654902</td>\n",
              "      <td>0.662745</td>\n",
              "      <td>0.666667</td>\n",
              "      <td>0.623529</td>\n",
              "      <td>0.584314</td>\n",
              "      <td>0.411765</td>\n",
              "      <td>0.266667</td>\n",
              "      <td>0.223529</td>\n",
              "      <td>0.2</td>\n",
              "      <td>0.211765</td>\n",
              "      <td>0.207843</td>\n",
              "      <td>0.215686</td>\n",
              "      <td>0.219608</td>\n",
              "      <td>0.2</td>\n",
              "      <td>0.196078</td>\n",
              "      <td>0.203922</td>\n",
              "    </tr>\n",
              "    <tr>\n",
              "      <th>005251.jpg</th>\n",
              "      <td>0.866667</td>\n",
              "      <td>0.866667</td>\n",
              "      <td>0.823529</td>\n",
              "      <td>0.741176</td>\n",
              "      <td>0.690196</td>\n",
              "      <td>0.545098</td>\n",
              "      <td>0.294118</td>\n",
              "      <td>0.176471</td>\n",
              "      <td>0.105882</td>\n",
              "      <td>0.054902</td>\n",
              "      <td>0.0431373</td>\n",
              "      <td>0.0431373</td>\n",
              "      <td>0.0470588</td>\n",
              "      <td>0.0470588</td>\n",
              "      <td>0.0588235</td>\n",
              "      <td>0.0509804</td>\n",
              "      <td>0.0470588</td>\n",
              "      <td>0.0705882</td>\n",
              "      <td>0.0745098</td>\n",
              "      <td>0.0470588</td>\n",
              "      <td>0.0588235</td>\n",
              "      <td>0.0470588</td>\n",
              "      <td>0.0313726</td>\n",
              "      <td>0.0470588</td>\n",
              "      <td>0.0627451</td>\n",
              "      <td>0.0509804</td>\n",
              "      <td>0.0627451</td>\n",
              "      <td>0.0705882</td>\n",
              "      <td>0.0470588</td>\n",
              "      <td>0.0666667</td>\n",
              "      <td>0.0901961</td>\n",
              "      <td>0.0980392</td>\n",
              "      <td>0.109804</td>\n",
              "      <td>0.109804</td>\n",
              "      <td>0.133333</td>\n",
              "      <td>0.145098</td>\n",
              "      <td>0.129412</td>\n",
              "      <td>0.109804</td>\n",
              "      <td>0.109804</td>\n",
              "      <td>0.0862745</td>\n",
              "      <td>...</td>\n",
              "      <td>0.172549</td>\n",
              "      <td>0.168627</td>\n",
              "      <td>0.160784</td>\n",
              "      <td>0.164706</td>\n",
              "      <td>0.172549</td>\n",
              "      <td>0.168627</td>\n",
              "      <td>0.160784</td>\n",
              "      <td>0.168627</td>\n",
              "      <td>0.145098</td>\n",
              "      <td>0.133333</td>\n",
              "      <td>0.137255</td>\n",
              "      <td>0.133333</td>\n",
              "      <td>0.129412</td>\n",
              "      <td>0.137255</td>\n",
              "      <td>0.133333</td>\n",
              "      <td>0.133333</td>\n",
              "      <td>0.137255</td>\n",
              "      <td>0.145098</td>\n",
              "      <td>0.14902</td>\n",
              "      <td>0.145098</td>\n",
              "      <td>0.141176</td>\n",
              "      <td>0.152941</td>\n",
              "      <td>0.137255</td>\n",
              "      <td>0.145098</td>\n",
              "      <td>0.168627</td>\n",
              "      <td>0.133333</td>\n",
              "      <td>0.164706</td>\n",
              "      <td>0.294118</td>\n",
              "      <td>0.384314</td>\n",
              "      <td>0.537255</td>\n",
              "      <td>0.690196</td>\n",
              "      <td>0.776471</td>\n",
              "      <td>0.870588</td>\n",
              "      <td>0.87451</td>\n",
              "      <td>0.929412</td>\n",
              "      <td>0.905882</td>\n",
              "      <td>0.698039</td>\n",
              "      <td>0.796078</td>\n",
              "      <td>0.709804</td>\n",
              "      <td>0.462745</td>\n",
              "    </tr>\n",
              "    <tr>\n",
              "      <th>010293.jpg</th>\n",
              "      <td>0.784314</td>\n",
              "      <td>0.807843</td>\n",
              "      <td>0.839216</td>\n",
              "      <td>0.847059</td>\n",
              "      <td>0.835294</td>\n",
              "      <td>0.835294</td>\n",
              "      <td>0.854902</td>\n",
              "      <td>0.886275</td>\n",
              "      <td>0.937255</td>\n",
              "      <td>0.964706</td>\n",
              "      <td>0.964706</td>\n",
              "      <td>0.960784</td>\n",
              "      <td>0.952941</td>\n",
              "      <td>0.729412</td>\n",
              "      <td>0.32549</td>\n",
              "      <td>0.227451</td>\n",
              "      <td>0.207843</td>\n",
              "      <td>0.196078</td>\n",
              "      <td>0.2</td>\n",
              "      <td>0.207843</td>\n",
              "      <td>0.203922</td>\n",
              "      <td>0.188235</td>\n",
              "      <td>0.164706</td>\n",
              "      <td>0.14902</td>\n",
              "      <td>0.188235</td>\n",
              "      <td>0.34902</td>\n",
              "      <td>0.462745</td>\n",
              "      <td>0.431373</td>\n",
              "      <td>0.392157</td>\n",
              "      <td>0.364706</td>\n",
              "      <td>0.356863</td>\n",
              "      <td>0.376471</td>\n",
              "      <td>0.4</td>\n",
              "      <td>0.415686</td>\n",
              "      <td>0.392157</td>\n",
              "      <td>0.356863</td>\n",
              "      <td>0.352941</td>\n",
              "      <td>0.360784</td>\n",
              "      <td>0.34902</td>\n",
              "      <td>0.333333</td>\n",
              "      <td>...</td>\n",
              "      <td>0.811765</td>\n",
              "      <td>0.807843</td>\n",
              "      <td>0.796078</td>\n",
              "      <td>0.792157</td>\n",
              "      <td>0.788235</td>\n",
              "      <td>0.776471</td>\n",
              "      <td>0.760784</td>\n",
              "      <td>0.729412</td>\n",
              "      <td>0.72549</td>\n",
              "      <td>0.745098</td>\n",
              "      <td>0.733333</td>\n",
              "      <td>0.741176</td>\n",
              "      <td>0.745098</td>\n",
              "      <td>0.670588</td>\n",
              "      <td>0.533333</td>\n",
              "      <td>0.509804</td>\n",
              "      <td>0.509804</td>\n",
              "      <td>0.513726</td>\n",
              "      <td>0.580392</td>\n",
              "      <td>0.635294</td>\n",
              "      <td>0.670588</td>\n",
              "      <td>0.698039</td>\n",
              "      <td>0.666667</td>\n",
              "      <td>0.603922</td>\n",
              "      <td>0.556863</td>\n",
              "      <td>0.568627</td>\n",
              "      <td>0.592157</td>\n",
              "      <td>0.576471</td>\n",
              "      <td>0.556863</td>\n",
              "      <td>0.576471</td>\n",
              "      <td>0.54902</td>\n",
              "      <td>0.501961</td>\n",
              "      <td>0.529412</td>\n",
              "      <td>0.603922</td>\n",
              "      <td>0.615686</td>\n",
              "      <td>0.631373</td>\n",
              "      <td>0.686275</td>\n",
              "      <td>0.670588</td>\n",
              "      <td>0.627451</td>\n",
              "      <td>0.615686</td>\n",
              "    </tr>\n",
              "    <tr>\n",
              "      <th>002267.jpg</th>\n",
              "      <td>0.705882</td>\n",
              "      <td>0.709804</td>\n",
              "      <td>0.713726</td>\n",
              "      <td>0.713726</td>\n",
              "      <td>0.713726</td>\n",
              "      <td>0.713726</td>\n",
              "      <td>0.713726</td>\n",
              "      <td>0.713726</td>\n",
              "      <td>0.717647</td>\n",
              "      <td>0.717647</td>\n",
              "      <td>0.72549</td>\n",
              "      <td>0.72549</td>\n",
              "      <td>0.72549</td>\n",
              "      <td>0.721569</td>\n",
              "      <td>0.721569</td>\n",
              "      <td>0.72549</td>\n",
              "      <td>0.72549</td>\n",
              "      <td>0.72549</td>\n",
              "      <td>0.733333</td>\n",
              "      <td>0.733333</td>\n",
              "      <td>0.72549</td>\n",
              "      <td>0.729412</td>\n",
              "      <td>0.737255</td>\n",
              "      <td>0.741176</td>\n",
              "      <td>0.737255</td>\n",
              "      <td>0.737255</td>\n",
              "      <td>0.737255</td>\n",
              "      <td>0.737255</td>\n",
              "      <td>0.741176</td>\n",
              "      <td>0.745098</td>\n",
              "      <td>0.741176</td>\n",
              "      <td>0.737255</td>\n",
              "      <td>0.737255</td>\n",
              "      <td>0.729412</td>\n",
              "      <td>0.729412</td>\n",
              "      <td>0.737255</td>\n",
              "      <td>0.741176</td>\n",
              "      <td>0.741176</td>\n",
              "      <td>0.74902</td>\n",
              "      <td>0.74902</td>\n",
              "      <td>...</td>\n",
              "      <td>0.219608</td>\n",
              "      <td>0.176471</td>\n",
              "      <td>0.196078</td>\n",
              "      <td>0.247059</td>\n",
              "      <td>0.219608</td>\n",
              "      <td>0.196078</td>\n",
              "      <td>0.2</td>\n",
              "      <td>0.254902</td>\n",
              "      <td>0.290196</td>\n",
              "      <td>0.254902</td>\n",
              "      <td>0.411765</td>\n",
              "      <td>0.439216</td>\n",
              "      <td>0.478431</td>\n",
              "      <td>0.541176</td>\n",
              "      <td>0.537255</td>\n",
              "      <td>0.701961</td>\n",
              "      <td>0.858824</td>\n",
              "      <td>0.886275</td>\n",
              "      <td>0.913725</td>\n",
              "      <td>0.980392</td>\n",
              "      <td>0.992157</td>\n",
              "      <td>0.988235</td>\n",
              "      <td>0.992157</td>\n",
              "      <td>0.996078</td>\n",
              "      <td>0.972549</td>\n",
              "      <td>0.882353</td>\n",
              "      <td>0.701961</td>\n",
              "      <td>0.619608</td>\n",
              "      <td>0.552941</td>\n",
              "      <td>0.462745</td>\n",
              "      <td>0.462745</td>\n",
              "      <td>0.482353</td>\n",
              "      <td>0.478431</td>\n",
              "      <td>0.482353</td>\n",
              "      <td>0.462745</td>\n",
              "      <td>0.52549</td>\n",
              "      <td>0.596078</td>\n",
              "      <td>0.588235</td>\n",
              "      <td>0.564706</td>\n",
              "      <td>0.545098</td>\n",
              "    </tr>\n",
              "    <tr>\n",
              "      <th>006399.jpg</th>\n",
              "      <td>0.870588</td>\n",
              "      <td>0.819608</td>\n",
              "      <td>0.819608</td>\n",
              "      <td>0.882353</td>\n",
              "      <td>0.933333</td>\n",
              "      <td>0.933333</td>\n",
              "      <td>0.933333</td>\n",
              "      <td>0.933333</td>\n",
              "      <td>0.941176</td>\n",
              "      <td>0.941176</td>\n",
              "      <td>0.941176</td>\n",
              "      <td>0.941176</td>\n",
              "      <td>0.945098</td>\n",
              "      <td>0.941176</td>\n",
              "      <td>0.941176</td>\n",
              "      <td>0.945098</td>\n",
              "      <td>0.941176</td>\n",
              "      <td>0.945098</td>\n",
              "      <td>0.94902</td>\n",
              "      <td>0.94902</td>\n",
              "      <td>0.952941</td>\n",
              "      <td>0.952941</td>\n",
              "      <td>0.952941</td>\n",
              "      <td>0.952941</td>\n",
              "      <td>0.945098</td>\n",
              "      <td>0.945098</td>\n",
              "      <td>0.945098</td>\n",
              "      <td>0.945098</td>\n",
              "      <td>0.945098</td>\n",
              "      <td>0.941176</td>\n",
              "      <td>0.933333</td>\n",
              "      <td>0.929412</td>\n",
              "      <td>0.933333</td>\n",
              "      <td>0.929412</td>\n",
              "      <td>0.921569</td>\n",
              "      <td>0.917647</td>\n",
              "      <td>0.905882</td>\n",
              "      <td>0.898039</td>\n",
              "      <td>0.894118</td>\n",
              "      <td>0.898039</td>\n",
              "      <td>...</td>\n",
              "      <td>0.745098</td>\n",
              "      <td>0.752941</td>\n",
              "      <td>0.745098</td>\n",
              "      <td>0.741176</td>\n",
              "      <td>0.729412</td>\n",
              "      <td>0.72549</td>\n",
              "      <td>0.745098</td>\n",
              "      <td>0.729412</td>\n",
              "      <td>0.694118</td>\n",
              "      <td>0.67451</td>\n",
              "      <td>0.670588</td>\n",
              "      <td>0.568627</td>\n",
              "      <td>0.364706</td>\n",
              "      <td>0.333333</td>\n",
              "      <td>0.352941</td>\n",
              "      <td>0.329412</td>\n",
              "      <td>0.407843</td>\n",
              "      <td>0.431373</td>\n",
              "      <td>0.439216</td>\n",
              "      <td>0.501961</td>\n",
              "      <td>0.521569</td>\n",
              "      <td>0.482353</td>\n",
              "      <td>0.505882</td>\n",
              "      <td>0.454902</td>\n",
              "      <td>0.419608</td>\n",
              "      <td>0.403922</td>\n",
              "      <td>0.333333</td>\n",
              "      <td>0.223529</td>\n",
              "      <td>0.2</td>\n",
              "      <td>0.168627</td>\n",
              "      <td>0.239216</td>\n",
              "      <td>0.239216</td>\n",
              "      <td>0.235294</td>\n",
              "      <td>0.192157</td>\n",
              "      <td>0.278431</td>\n",
              "      <td>0.176471</td>\n",
              "      <td>0.0823529</td>\n",
              "      <td>0.101961</td>\n",
              "      <td>0.117647</td>\n",
              "      <td>0.109804</td>\n",
              "    </tr>\n",
              "  </tbody>\n",
              "</table>\n",
              "<p>5 rows × 9701 columns</p>\n",
              "</div>"
            ],
            "text/plain": [
              "                0         1         2     ...      9698      9699      9700\n",
              "010942.jpg         1         1         1  ...       0.2  0.196078  0.203922\n",
              "005251.jpg  0.866667  0.866667  0.823529  ...  0.796078  0.709804  0.462745\n",
              "010293.jpg  0.784314  0.807843  0.839216  ...  0.670588  0.627451  0.615686\n",
              "002267.jpg  0.705882  0.709804  0.713726  ...  0.588235  0.564706  0.545098\n",
              "006399.jpg  0.870588  0.819608  0.819608  ...  0.101961  0.117647  0.109804\n",
              "\n",
              "[5 rows x 9701 columns]"
            ]
          },
          "metadata": {},
          "execution_count": 167
        }
      ]
    },
    {
      "cell_type": "code",
      "metadata": {
        "colab": {
          "base_uri": "https://localhost:8080/"
        },
        "id": "ceramic-apache",
        "outputId": "315a69fa-249c-4294-c541-45ecb2a9cebe"
      },
      "source": [
        "for attribute in attributes:\n",
        "    print(attribute)\n",
        "    print(round(y_train[y_train[attribute] == 1].size / y_train.size, 3), '\\t',\n",
        "          round(y_val[y_val[attribute] == 1].size / y_val.size, 3), '\\t',\n",
        "          round(y_test[y_test[attribute] == 1].size / y_test.size, 3), '\\t',)"
      ],
      "id": "ceramic-apache",
      "execution_count": 168,
      "outputs": [
        {
          "output_type": "stream",
          "name": "stdout",
          "text": [
            "Male\n",
            "0.419 \t 0.413 \t 0.414 \t\n",
            "Wearing_Lipstick\n",
            "0.475 \t 0.482 \t 0.486 \t\n",
            "Smiling\n",
            "0.481 \t 0.491 \t 0.443 \t\n",
            "Big_Lips\n",
            "0.241 \t 0.24 \t 0.262 \t\n",
            "Mustache\n",
            "0.036 \t 0.041 \t 0.036 \t\n"
          ]
        }
      ]
    },
    {
      "cell_type": "markdown",
      "metadata": {
        "id": "opposite-defensive"
      },
      "source": [
        "Как мы уже выяснили ранее, данные не сбалансированы. Это видно и после разбиения на тренировочную, валидационную и тестовую выборки. Данный факт будет необходимо учесть в будущем. В частности, метрика accuracy в такой ситуации будет практически бесполезна, так что в качестве основной метрики будем использовать F-меру."
      ],
      "id": "opposite-defensive"
    },
    {
      "cell_type": "markdown",
      "metadata": {
        "id": "contemporary-stress"
      },
      "source": [
        "## Обучение логистической регрессии"
      ],
      "id": "contemporary-stress"
    },
    {
      "cell_type": "markdown",
      "metadata": {
        "id": "distinguished-journal"
      },
      "source": [
        "Для начала, обучим простую логистическую регрессию на выбранных атрибутах."
      ],
      "id": "distinguished-journal"
    },
    {
      "cell_type": "code",
      "metadata": {
        "id": "animal-europe"
      },
      "source": [
        "sgd_scores = {'train' : [], 'test' : []}"
      ],
      "id": "animal-europe",
      "execution_count": 169,
      "outputs": []
    },
    {
      "cell_type": "code",
      "metadata": {
        "id": "asian-fitting"
      },
      "source": [
        "from sklearn.linear_model import SGDClassifier\n",
        "from sklearn.metrics import f1_score\n",
        "\n",
        "def SGDClassifierForArrtibute(attribute):  \n",
        "    start = time.time()\n",
        "    sgd_clf = SGDClassifier(loss='log', tol=1e-1, verbose=0, random_state=42)\n",
        "    y_train_attribute = y_train[attribute]\n",
        "    sgd_clf.fit(x_train, y_train_attribute)\n",
        "    print('time: ', time.time() - start)\n",
        "    return sgd_clf\n",
        "\n",
        "def CheckStats(clf, attribute, scores):\n",
        "    print('Сlassifier for ', attribute)\n",
        "    pred_y_train = clf.predict(x_train)\n",
        "    scores['train'].append(f1_score(pred_y_train, y_train[attribute]))\n",
        "    print('train f1 score: ', f1_score(pred_y_train, y_train[attribute]))\n",
        "    pred_y_test = clf.predict(x_test)\n",
        "    scores['test'].append(f1_score(pred_y_test, y_test[attribute]))\n",
        "    print('test f1 score: ', f1_score(pred_y_test, y_test[attribute]))\n",
        "\n",
        "def ClassifierAndStats(attribute):\n",
        "    sgd_male = SGDClassifierForArrtibute(attribute)\n",
        "    CheckStats(sgd_male, attribute, sgd_scores)\n",
        "    print()"
      ],
      "id": "asian-fitting",
      "execution_count": 170,
      "outputs": []
    },
    {
      "cell_type": "code",
      "metadata": {
        "colab": {
          "base_uri": "https://localhost:8080/"
        },
        "id": "temporal-korean",
        "outputId": "77e2207a-9d58-498c-ecea-c6544ab49c5f"
      },
      "source": [
        "for attribute in attributes:\n",
        "    ClassifierAndStats(attribute)"
      ],
      "id": "temporal-korean",
      "execution_count": 171,
      "outputs": [
        {
          "output_type": "stream",
          "name": "stdout",
          "text": [
            "time:  9.432366609573364\n",
            "Сlassifier for  Male\n",
            "train f1 score:  0.8840952994204766\n",
            "test f1 score:  0.822477650063857\n",
            "\n",
            "time:  9.904783487319946\n",
            "Сlassifier for  Wearing_Lipstick\n",
            "train f1 score:  0.8918128654970761\n",
            "test f1 score:  0.8604427333974976\n",
            "\n",
            "time:  10.116036176681519\n",
            "Сlassifier for  Smiling\n",
            "train f1 score:  0.9543415149115863\n",
            "test f1 score:  0.8492520138089757\n",
            "\n",
            "time:  14.789923191070557\n",
            "Сlassifier for  Big_Lips\n",
            "train f1 score:  0.7282793867120954\n",
            "test f1 score:  0.40924092409240925\n",
            "\n",
            "time:  7.0797810554504395\n",
            "Сlassifier for  Mustache\n",
            "train f1 score:  0.4212076583210604\n",
            "test f1 score:  0.23204419889502767\n",
            "\n"
          ]
        }
      ]
    },
    {
      "cell_type": "markdown",
      "metadata": {
        "id": "dutch-embassy"
      },
      "source": [
        "## Обучение случайного леса"
      ],
      "id": "dutch-embassy"
    },
    {
      "cell_type": "markdown",
      "metadata": {
        "id": "three-moderator"
      },
      "source": [
        "Случайный лес - структура, на основе решающих деревьев. Это не очень сложная структура, однако часто выдает очень хорошие результаты. Посмотрим, сможет ли случайный лес дать нам результат лучше, чем нейронные сети."
      ],
      "id": "three-moderator"
    },
    {
      "cell_type": "markdown",
      "metadata": {
        "id": "false-sheet"
      },
      "source": [
        "Для каждой метки будем подбирать наилучшие параметры дерева. Чтобы сократить время обучения, будем использовать RandomizedSearchCV. Вместо разбиения множества на 5 подмножеств на кросс-валидации, будем разделять множество только на два, как если бы мы тренировали дерево и потом валидировали."
      ],
      "id": "false-sheet"
    },
    {
      "cell_type": "code",
      "metadata": {
        "id": "amber-convert"
      },
      "source": [
        "tree_scores = {'train' : [], 'test' : []}"
      ],
      "id": "amber-convert",
      "execution_count": 172,
      "outputs": []
    },
    {
      "cell_type": "code",
      "metadata": {
        "id": "latest-packing"
      },
      "source": [
        "from sklearn.ensemble import RandomForestClassifier\n",
        "from sklearn.model_selection import RandomizedSearchCV\n",
        "\n",
        "def FindBestParams(attribute, verbose=1):\n",
        "    start = time.time()\n",
        "    params = {'max_depth' : [1, 4, 7, 10, 12, 15], \n",
        "          'min_samples_split' : [2, 6, 10], \n",
        "          'min_samples_leaf' : [1, 4, 7, 10]}\n",
        "    search = RandomizedSearchCV(RandomForestClassifier(), params, scoring='f1', \n",
        "                                cv=2, random_state=42, verbose=verbose, n_iter=16)\n",
        "    search.fit(x_train, y_train[attribute])\n",
        "    print('---Best params:', search.best_params_, '\\t time:', time.time() - start)\n",
        "    return search.best_estimator_"
      ],
      "id": "latest-packing",
      "execution_count": 173,
      "outputs": []
    },
    {
      "cell_type": "code",
      "metadata": {
        "id": "acquired-waste"
      },
      "source": [
        "def ForestAndStatsForAttribute(attribute):\n",
        "    print(attribute)\n",
        "    clf = FindBestParams(attribute, verbose=2)\n",
        "    clf.fit(x_train, y_train[attribute])\n",
        "    CheckStats(clf, attribute, tree_scores)"
      ],
      "id": "acquired-waste",
      "execution_count": 174,
      "outputs": []
    },
    {
      "cell_type": "code",
      "metadata": {
        "id": "enabling-refrigerator",
        "colab": {
          "base_uri": "https://localhost:8080/"
        },
        "outputId": "bc2298e8-0b90-4362-8260-dea3b3e58e7b"
      },
      "source": [
        "ForestAndStatsForAttribute(attributes[0])"
      ],
      "id": "enabling-refrigerator",
      "execution_count": 175,
      "outputs": [
        {
          "output_type": "stream",
          "name": "stdout",
          "text": [
            "Male\n",
            "Fitting 2 folds for each of 16 candidates, totalling 32 fits\n",
            "[CV] END max_depth=1, min_samples_leaf=4, min_samples_split=6; total time=   4.8s\n",
            "[CV] END max_depth=1, min_samples_leaf=4, min_samples_split=6; total time=   4.7s\n",
            "[CV] END max_depth=15, min_samples_leaf=1, min_samples_split=10; total time=  12.8s\n",
            "[CV] END max_depth=15, min_samples_leaf=1, min_samples_split=10; total time=  13.3s\n",
            "[CV] END max_depth=4, min_samples_leaf=7, min_samples_split=2; total time=   7.3s\n",
            "[CV] END max_depth=4, min_samples_leaf=7, min_samples_split=2; total time=   7.3s\n",
            "[CV] END max_depth=1, min_samples_leaf=1, min_samples_split=2; total time=   4.7s\n",
            "[CV] END max_depth=1, min_samples_leaf=1, min_samples_split=2; total time=   4.8s\n",
            "[CV] END max_depth=7, min_samples_leaf=4, min_samples_split=6; total time=  10.0s\n",
            "[CV] END max_depth=7, min_samples_leaf=4, min_samples_split=6; total time=   9.9s\n",
            "[CV] END max_depth=12, min_samples_leaf=1, min_samples_split=10; total time=  12.7s\n",
            "[CV] END max_depth=12, min_samples_leaf=1, min_samples_split=10; total time=  12.6s\n",
            "[CV] END max_depth=1, min_samples_leaf=10, min_samples_split=6; total time=   4.7s\n",
            "[CV] END max_depth=1, min_samples_leaf=10, min_samples_split=6; total time=   4.8s\n",
            "[CV] END max_depth=7, min_samples_leaf=10, min_samples_split=6; total time=   9.6s\n",
            "[CV] END max_depth=7, min_samples_leaf=10, min_samples_split=6; total time=   9.5s\n",
            "[CV] END max_depth=4, min_samples_leaf=1, min_samples_split=2; total time=   7.4s\n",
            "[CV] END max_depth=4, min_samples_leaf=1, min_samples_split=2; total time=   7.4s\n",
            "[CV] END max_depth=12, min_samples_leaf=7, min_samples_split=2; total time=  11.0s\n",
            "[CV] END max_depth=12, min_samples_leaf=7, min_samples_split=2; total time=  10.9s\n",
            "[CV] END max_depth=10, min_samples_leaf=10, min_samples_split=10; total time=  10.3s\n",
            "[CV] END max_depth=10, min_samples_leaf=10, min_samples_split=10; total time=  10.5s\n",
            "[CV] END max_depth=7, min_samples_leaf=7, min_samples_split=6; total time=   9.7s\n",
            "[CV] END max_depth=7, min_samples_leaf=7, min_samples_split=6; total time=   9.8s\n",
            "[CV] END max_depth=1, min_samples_leaf=10, min_samples_split=2; total time=   4.8s\n",
            "[CV] END max_depth=1, min_samples_leaf=10, min_samples_split=2; total time=   4.7s\n",
            "[CV] END max_depth=10, min_samples_leaf=10, min_samples_split=2; total time=  10.2s\n",
            "[CV] END max_depth=10, min_samples_leaf=10, min_samples_split=2; total time=  10.4s\n",
            "[CV] END max_depth=1, min_samples_leaf=4, min_samples_split=10; total time=   4.7s\n",
            "[CV] END max_depth=1, min_samples_leaf=4, min_samples_split=10; total time=   4.7s\n",
            "[CV] END max_depth=4, min_samples_leaf=10, min_samples_split=6; total time=   7.4s\n",
            "[CV] END max_depth=4, min_samples_leaf=10, min_samples_split=6; total time=   7.4s\n",
            "---Best params: {'min_samples_split': 10, 'min_samples_leaf': 10, 'max_depth': 10} \t time: 327.37713074684143\n",
            "Сlassifier for  Male\n",
            "train f1 score:  0.9784043191361728\n",
            "test f1 score:  0.8567901234567901\n"
          ]
        }
      ]
    },
    {
      "cell_type": "code",
      "metadata": {
        "id": "insured-private",
        "colab": {
          "base_uri": "https://localhost:8080/"
        },
        "outputId": "a7b5631e-2e36-4e0d-f1f3-c7c989950451"
      },
      "source": [
        "ForestAndStatsForAttribute(attributes[1])"
      ],
      "id": "insured-private",
      "execution_count": 176,
      "outputs": [
        {
          "output_type": "stream",
          "name": "stdout",
          "text": [
            "Wearing_Lipstick\n",
            "Fitting 2 folds for each of 16 candidates, totalling 32 fits\n",
            "[CV] END max_depth=1, min_samples_leaf=4, min_samples_split=6; total time=   4.8s\n",
            "[CV] END max_depth=1, min_samples_leaf=4, min_samples_split=6; total time=   4.7s\n",
            "[CV] END max_depth=15, min_samples_leaf=1, min_samples_split=10; total time=  13.1s\n",
            "[CV] END max_depth=15, min_samples_leaf=1, min_samples_split=10; total time=  12.9s\n",
            "[CV] END max_depth=4, min_samples_leaf=7, min_samples_split=2; total time=   7.3s\n",
            "[CV] END max_depth=4, min_samples_leaf=7, min_samples_split=2; total time=   7.3s\n",
            "[CV] END max_depth=1, min_samples_leaf=1, min_samples_split=2; total time=   4.7s\n",
            "[CV] END max_depth=1, min_samples_leaf=1, min_samples_split=2; total time=   4.7s\n",
            "[CV] END max_depth=7, min_samples_leaf=4, min_samples_split=6; total time=   9.9s\n",
            "[CV] END max_depth=7, min_samples_leaf=4, min_samples_split=6; total time=  10.0s\n",
            "[CV] END max_depth=12, min_samples_leaf=1, min_samples_split=10; total time=  12.4s\n",
            "[CV] END max_depth=12, min_samples_leaf=1, min_samples_split=10; total time=  12.5s\n",
            "[CV] END max_depth=1, min_samples_leaf=10, min_samples_split=6; total time=   4.7s\n",
            "[CV] END max_depth=1, min_samples_leaf=10, min_samples_split=6; total time=   4.7s\n",
            "[CV] END max_depth=7, min_samples_leaf=10, min_samples_split=6; total time=   9.5s\n",
            "[CV] END max_depth=7, min_samples_leaf=10, min_samples_split=6; total time=   9.5s\n",
            "[CV] END max_depth=4, min_samples_leaf=1, min_samples_split=2; total time=   7.3s\n",
            "[CV] END max_depth=4, min_samples_leaf=1, min_samples_split=2; total time=   7.3s\n",
            "[CV] END max_depth=12, min_samples_leaf=7, min_samples_split=2; total time=  10.9s\n",
            "[CV] END max_depth=12, min_samples_leaf=7, min_samples_split=2; total time=  10.9s\n",
            "[CV] END max_depth=10, min_samples_leaf=10, min_samples_split=10; total time=  10.3s\n",
            "[CV] END max_depth=10, min_samples_leaf=10, min_samples_split=10; total time=  10.3s\n",
            "[CV] END max_depth=7, min_samples_leaf=7, min_samples_split=6; total time=   9.7s\n",
            "[CV] END max_depth=7, min_samples_leaf=7, min_samples_split=6; total time=   9.7s\n",
            "[CV] END max_depth=1, min_samples_leaf=10, min_samples_split=2; total time=   4.7s\n",
            "[CV] END max_depth=1, min_samples_leaf=10, min_samples_split=2; total time=   4.7s\n",
            "[CV] END max_depth=10, min_samples_leaf=10, min_samples_split=2; total time=  10.4s\n",
            "[CV] END max_depth=10, min_samples_leaf=10, min_samples_split=2; total time=  10.3s\n",
            "[CV] END max_depth=1, min_samples_leaf=4, min_samples_split=10; total time=   4.7s\n",
            "[CV] END max_depth=1, min_samples_leaf=4, min_samples_split=10; total time=   4.6s\n",
            "[CV] END max_depth=4, min_samples_leaf=10, min_samples_split=6; total time=   7.2s\n",
            "[CV] END max_depth=4, min_samples_leaf=10, min_samples_split=6; total time=   7.2s\n",
            "---Best params: {'min_samples_split': 2, 'min_samples_leaf': 7, 'max_depth': 12} \t time: 326.30088806152344\n",
            "Сlassifier for  Wearing_Lipstick\n",
            "train f1 score:  0.982428533962759\n",
            "test f1 score:  0.8728024819027922\n"
          ]
        }
      ]
    },
    {
      "cell_type": "code",
      "metadata": {
        "id": "original-launch",
        "colab": {
          "base_uri": "https://localhost:8080/"
        },
        "outputId": "f018650c-44c7-4a59-a88b-090712f9de94"
      },
      "source": [
        "ForestAndStatsForAttribute(attributes[2])"
      ],
      "id": "original-launch",
      "execution_count": 177,
      "outputs": [
        {
          "output_type": "stream",
          "name": "stdout",
          "text": [
            "Smiling\n",
            "Fitting 2 folds for each of 16 candidates, totalling 32 fits\n",
            "[CV] END max_depth=1, min_samples_leaf=4, min_samples_split=6; total time=   4.8s\n",
            "[CV] END max_depth=1, min_samples_leaf=4, min_samples_split=6; total time=   4.7s\n",
            "[CV] END max_depth=15, min_samples_leaf=1, min_samples_split=10; total time=  12.5s\n",
            "[CV] END max_depth=15, min_samples_leaf=1, min_samples_split=10; total time=  12.7s\n",
            "[CV] END max_depth=4, min_samples_leaf=7, min_samples_split=2; total time=   7.3s\n",
            "[CV] END max_depth=4, min_samples_leaf=7, min_samples_split=2; total time=   7.2s\n",
            "[CV] END max_depth=1, min_samples_leaf=1, min_samples_split=2; total time=   4.6s\n",
            "[CV] END max_depth=1, min_samples_leaf=1, min_samples_split=2; total time=   4.7s\n",
            "[CV] END max_depth=7, min_samples_leaf=4, min_samples_split=6; total time=   9.9s\n",
            "[CV] END max_depth=7, min_samples_leaf=4, min_samples_split=6; total time=   9.8s\n",
            "[CV] END max_depth=12, min_samples_leaf=1, min_samples_split=10; total time=  12.4s\n",
            "[CV] END max_depth=12, min_samples_leaf=1, min_samples_split=10; total time=  12.4s\n",
            "[CV] END max_depth=1, min_samples_leaf=10, min_samples_split=6; total time=   4.7s\n",
            "[CV] END max_depth=1, min_samples_leaf=10, min_samples_split=6; total time=   4.7s\n",
            "[CV] END max_depth=7, min_samples_leaf=10, min_samples_split=6; total time=   9.6s\n",
            "[CV] END max_depth=7, min_samples_leaf=10, min_samples_split=6; total time=   9.4s\n",
            "[CV] END max_depth=4, min_samples_leaf=1, min_samples_split=2; total time=   7.4s\n",
            "[CV] END max_depth=4, min_samples_leaf=1, min_samples_split=2; total time=   7.3s\n",
            "[CV] END max_depth=12, min_samples_leaf=7, min_samples_split=2; total time=  10.9s\n",
            "[CV] END max_depth=12, min_samples_leaf=7, min_samples_split=2; total time=  10.8s\n",
            "[CV] END max_depth=10, min_samples_leaf=10, min_samples_split=10; total time=  10.2s\n",
            "[CV] END max_depth=10, min_samples_leaf=10, min_samples_split=10; total time=  10.2s\n",
            "[CV] END max_depth=7, min_samples_leaf=7, min_samples_split=6; total time=   9.7s\n",
            "[CV] END max_depth=7, min_samples_leaf=7, min_samples_split=6; total time=   9.8s\n",
            "[CV] END max_depth=1, min_samples_leaf=10, min_samples_split=2; total time=   4.7s\n",
            "[CV] END max_depth=1, min_samples_leaf=10, min_samples_split=2; total time=   4.7s\n",
            "[CV] END max_depth=10, min_samples_leaf=10, min_samples_split=2; total time=  10.1s\n",
            "[CV] END max_depth=10, min_samples_leaf=10, min_samples_split=2; total time=  10.3s\n",
            "[CV] END max_depth=1, min_samples_leaf=4, min_samples_split=10; total time=   4.6s\n",
            "[CV] END max_depth=1, min_samples_leaf=4, min_samples_split=10; total time=   4.7s\n",
            "[CV] END max_depth=4, min_samples_leaf=10, min_samples_split=6; total time=   7.3s\n",
            "[CV] END max_depth=4, min_samples_leaf=10, min_samples_split=6; total time=   7.4s\n",
            "---Best params: {'min_samples_split': 6, 'min_samples_leaf': 7, 'max_depth': 7} \t time: 320.9211175441742\n",
            "Сlassifier for  Smiling\n",
            "train f1 score:  0.9383306751727805\n",
            "test f1 score:  0.8133971291866028\n"
          ]
        }
      ]
    },
    {
      "cell_type": "code",
      "metadata": {
        "id": "simple-counter",
        "colab": {
          "base_uri": "https://localhost:8080/"
        },
        "outputId": "856817c8-1c85-46d4-aac2-426e61209cb0"
      },
      "source": [
        "ForestAndStatsForAttribute(attributes[3])"
      ],
      "id": "simple-counter",
      "execution_count": 178,
      "outputs": [
        {
          "output_type": "stream",
          "name": "stdout",
          "text": [
            "Big_Lips\n",
            "Fitting 2 folds for each of 16 candidates, totalling 32 fits\n",
            "[CV] END max_depth=1, min_samples_leaf=4, min_samples_split=6; total time=   4.8s\n",
            "[CV] END max_depth=1, min_samples_leaf=4, min_samples_split=6; total time=   4.7s\n",
            "[CV] END max_depth=15, min_samples_leaf=1, min_samples_split=10; total time=  14.2s\n",
            "[CV] END max_depth=15, min_samples_leaf=1, min_samples_split=10; total time=  14.4s\n",
            "[CV] END max_depth=4, min_samples_leaf=7, min_samples_split=2; total time=   7.1s\n",
            "[CV] END max_depth=4, min_samples_leaf=7, min_samples_split=2; total time=   7.1s\n",
            "[CV] END max_depth=1, min_samples_leaf=1, min_samples_split=2; total time=   4.7s\n",
            "[CV] END max_depth=1, min_samples_leaf=1, min_samples_split=2; total time=   4.7s\n",
            "[CV] END max_depth=7, min_samples_leaf=4, min_samples_split=6; total time=   9.6s\n",
            "[CV] END max_depth=7, min_samples_leaf=4, min_samples_split=6; total time=   9.7s\n",
            "[CV] END max_depth=12, min_samples_leaf=1, min_samples_split=10; total time=  13.1s\n",
            "[CV] END max_depth=12, min_samples_leaf=1, min_samples_split=10; total time=  13.1s\n",
            "[CV] END max_depth=1, min_samples_leaf=10, min_samples_split=6; total time=   4.7s\n",
            "[CV] END max_depth=1, min_samples_leaf=10, min_samples_split=6; total time=   4.7s\n",
            "[CV] END max_depth=7, min_samples_leaf=10, min_samples_split=6; total time=   9.3s\n",
            "[CV] END max_depth=7, min_samples_leaf=10, min_samples_split=6; total time=   9.4s\n",
            "[CV] END max_depth=4, min_samples_leaf=1, min_samples_split=2; total time=   7.2s\n",
            "[CV] END max_depth=4, min_samples_leaf=1, min_samples_split=2; total time=   7.2s\n",
            "[CV] END max_depth=12, min_samples_leaf=7, min_samples_split=2; total time=  11.7s\n",
            "[CV] END max_depth=12, min_samples_leaf=7, min_samples_split=2; total time=  12.0s\n",
            "[CV] END max_depth=10, min_samples_leaf=10, min_samples_split=10; total time=  10.7s\n",
            "[CV] END max_depth=10, min_samples_leaf=10, min_samples_split=10; total time=  10.8s\n",
            "[CV] END max_depth=7, min_samples_leaf=7, min_samples_split=6; total time=   9.6s\n",
            "[CV] END max_depth=7, min_samples_leaf=7, min_samples_split=6; total time=   9.4s\n",
            "[CV] END max_depth=1, min_samples_leaf=10, min_samples_split=2; total time=   4.6s\n",
            "[CV] END max_depth=1, min_samples_leaf=10, min_samples_split=2; total time=   4.6s\n",
            "[CV] END max_depth=10, min_samples_leaf=10, min_samples_split=2; total time=  10.8s\n",
            "[CV] END max_depth=10, min_samples_leaf=10, min_samples_split=2; total time=  10.9s\n",
            "[CV] END max_depth=1, min_samples_leaf=4, min_samples_split=10; total time=   4.6s\n",
            "[CV] END max_depth=1, min_samples_leaf=4, min_samples_split=10; total time=   4.7s\n",
            "[CV] END max_depth=4, min_samples_leaf=10, min_samples_split=6; total time=   7.2s\n",
            "[CV] END max_depth=4, min_samples_leaf=10, min_samples_split=6; total time=   7.1s\n",
            "---Best params: {'min_samples_split': 10, 'min_samples_leaf': 1, 'max_depth': 12} \t time: 334.7868604660034\n",
            "Сlassifier for  Big_Lips\n",
            "train f1 score:  0.792995622263915\n",
            "test f1 score:  0.051470588235294115\n"
          ]
        }
      ]
    },
    {
      "cell_type": "code",
      "metadata": {
        "id": "compressed-tsunami",
        "colab": {
          "base_uri": "https://localhost:8080/"
        },
        "outputId": "cc53693d-1c2c-4708-d453-b58dec7f098a"
      },
      "source": [
        "ForestAndStatsForAttribute(attributes[4])"
      ],
      "id": "compressed-tsunami",
      "execution_count": 179,
      "outputs": [
        {
          "output_type": "stream",
          "name": "stdout",
          "text": [
            "Mustache\n",
            "Fitting 2 folds for each of 16 candidates, totalling 32 fits\n",
            "[CV] END max_depth=1, min_samples_leaf=4, min_samples_split=6; total time=   4.8s\n",
            "[CV] END max_depth=1, min_samples_leaf=4, min_samples_split=6; total time=   4.7s\n",
            "[CV] END max_depth=15, min_samples_leaf=1, min_samples_split=10; total time=  13.2s\n",
            "[CV] END max_depth=15, min_samples_leaf=1, min_samples_split=10; total time=  13.1s\n",
            "[CV] END max_depth=4, min_samples_leaf=7, min_samples_split=2; total time=   7.0s\n",
            "[CV] END max_depth=4, min_samples_leaf=7, min_samples_split=2; total time=   6.9s\n",
            "[CV] END max_depth=1, min_samples_leaf=1, min_samples_split=2; total time=   4.7s\n",
            "[CV] END max_depth=1, min_samples_leaf=1, min_samples_split=2; total time=   4.7s\n",
            "[CV] END max_depth=7, min_samples_leaf=4, min_samples_split=6; total time=   9.1s\n",
            "[CV] END max_depth=7, min_samples_leaf=4, min_samples_split=6; total time=   9.2s\n",
            "[CV] END max_depth=12, min_samples_leaf=1, min_samples_split=10; total time=  12.2s\n",
            "[CV] END max_depth=12, min_samples_leaf=1, min_samples_split=10; total time=  12.2s\n",
            "[CV] END max_depth=1, min_samples_leaf=10, min_samples_split=6; total time=   4.7s\n",
            "[CV] END max_depth=1, min_samples_leaf=10, min_samples_split=6; total time=   4.6s\n",
            "[CV] END max_depth=7, min_samples_leaf=10, min_samples_split=6; total time=   8.9s\n",
            "[CV] END max_depth=7, min_samples_leaf=10, min_samples_split=6; total time=   8.9s\n",
            "[CV] END max_depth=4, min_samples_leaf=1, min_samples_split=2; total time=   6.9s\n",
            "[CV] END max_depth=4, min_samples_leaf=1, min_samples_split=2; total time=   7.0s\n",
            "[CV] END max_depth=12, min_samples_leaf=7, min_samples_split=2; total time=  11.0s\n",
            "[CV] END max_depth=12, min_samples_leaf=7, min_samples_split=2; total time=  10.5s\n",
            "[CV] END max_depth=10, min_samples_leaf=10, min_samples_split=10; total time=  10.1s\n",
            "[CV] END max_depth=10, min_samples_leaf=10, min_samples_split=10; total time=   9.8s\n",
            "[CV] END max_depth=7, min_samples_leaf=7, min_samples_split=6; total time=   8.9s\n",
            "[CV] END max_depth=7, min_samples_leaf=7, min_samples_split=6; total time=   9.2s\n",
            "[CV] END max_depth=1, min_samples_leaf=10, min_samples_split=2; total time=   4.7s\n",
            "[CV] END max_depth=1, min_samples_leaf=10, min_samples_split=2; total time=   4.7s\n",
            "[CV] END max_depth=10, min_samples_leaf=10, min_samples_split=2; total time=   9.9s\n",
            "[CV] END max_depth=10, min_samples_leaf=10, min_samples_split=2; total time=   9.9s\n",
            "[CV] END max_depth=1, min_samples_leaf=4, min_samples_split=10; total time=   4.6s\n",
            "[CV] END max_depth=1, min_samples_leaf=4, min_samples_split=10; total time=   4.6s\n",
            "[CV] END max_depth=4, min_samples_leaf=10, min_samples_split=6; total time=   6.8s\n",
            "[CV] END max_depth=4, min_samples_leaf=10, min_samples_split=6; total time=   6.9s\n",
            "---Best params: {'min_samples_split': 6, 'min_samples_leaf': 4, 'max_depth': 1} \t time: 303.1611330509186\n",
            "Сlassifier for  Mustache\n",
            "train f1 score:  0.0\n",
            "test f1 score:  0.0\n"
          ]
        }
      ]
    },
    {
      "cell_type": "markdown",
      "metadata": {
        "id": "blank-brush"
      },
      "source": [
        "## Обучение полносвязной нейронной сети"
      ],
      "id": "blank-brush"
    },
    {
      "cell_type": "code",
      "metadata": {
        "id": "massive-demonstration"
      },
      "source": [
        "import torch\n",
        "from torch import nn\n",
        "from torch.nn.functional import one_hot\n",
        "from torch.utils.data.dataset import random_split\n",
        "from torch.utils.data import Dataset, TensorDataset, DataLoader\n",
        "import torch.optim as optim\n",
        "import torch.nn.functional as F"
      ],
      "id": "massive-demonstration",
      "execution_count": 180,
      "outputs": []
    },
    {
      "cell_type": "code",
      "metadata": {
        "id": "aware-rebate"
      },
      "source": [
        "model_adam_scores = {'train' : [], 'test' : []}\n",
        "model_sgd_scores = {'train' : [], 'test' : []}\n",
        "image_size = 9701"
      ],
      "id": "aware-rebate",
      "execution_count": 233,
      "outputs": []
    },
    {
      "cell_type": "code",
      "metadata": {
        "id": "convenient-chosen"
      },
      "source": [
        "device = 'cuda:0' if torch.cuda.is_available() else 'cpu'\n",
        "\n",
        "input_size = image_size\n",
        "hidden_sizes = [512, 256, 128]\n",
        "output_size = 2\n",
        "\n",
        "x_train_tensor = torch.from_numpy(x_train.to_numpy().astype('float32')).to(device)\n",
        "x_val_tensor = torch.from_numpy(x_val.to_numpy().astype('float32')).to(device)\n",
        "x_test_tensor = torch.from_numpy(x_test.to_numpy().astype('float32')).to(device)"
      ],
      "id": "convenient-chosen",
      "execution_count": 234,
      "outputs": []
    },
    {
      "cell_type": "code",
      "metadata": {
        "id": "knowing-sandwich"
      },
      "source": [
        "def CreateModel():\n",
        "    model = nn.Sequential(nn.Linear(input_size, hidden_sizes[0]),\n",
        "                          nn.ReLU(),\n",
        "                          nn.Linear(hidden_sizes[0], hidden_sizes[1]),\n",
        "                          nn.ReLU(),\n",
        "                          nn.Linear(hidden_sizes[1], hidden_sizes[2]),\n",
        "                          nn.ReLU(),\n",
        "                          nn.Linear(hidden_sizes[2], output_size),\n",
        "                          nn.LogSoftmax(dim=1))\n",
        "    return model"
      ],
      "id": "knowing-sandwich",
      "execution_count": 235,
      "outputs": []
    },
    {
      "cell_type": "code",
      "metadata": {
        "id": "distinct-flour"
      },
      "source": [
        "def CreateParametres(attribute, model):\n",
        "    y_train_tensor = torch.from_numpy(y_train[attribute].to_numpy()).to(torch.int64)                               \n",
        "\n",
        "    y_val_tensor = torch.from_numpy(y_val[attribute].to_numpy()).to(torch.int64)  \n",
        "\n",
        "    y_test_tensor = torch.from_numpy(y_test[attribute].to_numpy()).to(torch.int64)\n",
        "\n",
        "    train_dataset = TensorDataset(x_train_tensor, y_train_tensor)\n",
        "    train_loader = DataLoader(dataset=train_dataset, batch_size=100)\n",
        "\n",
        "    val_dataset = TensorDataset(x_val_tensor, y_val_tensor)\n",
        "    val_loader = DataLoader(dataset=val_dataset, batch_size=100)\n",
        "\n",
        "    if torch.cuda.is_available():\n",
        "        model = model.to(device)\n",
        "        \n",
        "    dataloaders  = {'train':train_loader, 'val':val_loader}\n",
        "    return dataloaders"
      ],
      "id": "distinct-flour",
      "execution_count": 236,
      "outputs": []
    },
    {
      "cell_type": "code",
      "metadata": {
        "id": "regional-clock"
      },
      "source": [
        "def TrainModel(model, dataloaders, n_epochs, optimizer, verbose=0):\n",
        "    criterion = nn.CrossEntropyLoss()\n",
        "    train_loader = dataloaders['train']\n",
        "    val_loader = dataloaders['val']\n",
        "\n",
        "    if torch.cuda.is_available():\n",
        "        model = model.to(device)\n",
        "        criterion = criterion.to(device)\n",
        "\n",
        "    training_losses = []\n",
        "    validation_losses = []\n",
        "\n",
        "    for epoch in range(n_epochs):\n",
        "        batch_losses = []\n",
        "        for x_batch, y_batch in train_loader:\n",
        "            x_batch = x_batch.to(device)\n",
        "            y_batch = y_batch.to(device)\n",
        "\n",
        "            model.train()\n",
        "            yhat = model(x_batch)\n",
        "\n",
        "            loss = criterion(yhat, y_batch)\n",
        "            loss.backward()\n",
        "            optimizer.step()\n",
        "            optimizer.zero_grad()\n",
        "\n",
        "            batch_losses.append(loss.item())\n",
        "        training_loss = np.mean(batch_losses)\n",
        "        training_losses.append(training_loss)\n",
        "\n",
        "        with torch.no_grad():\n",
        "            val_losses = []\n",
        "            for x_val_batch, y_val_batch in val_loader:\n",
        "                x_val_batch = x_val_batch.to(device)\n",
        "                y_val_batch = y_val_batch.to(device)\n",
        "                model.eval()\n",
        "                yhat = model(x_val_batch)\n",
        "                val_loss = criterion(yhat, y_val_batch).item()\n",
        "                val_losses.append(val_loss)\n",
        "            validation_loss = np.mean(val_losses)\n",
        "            validation_losses.append(validation_loss)\n",
        "        if (verbose == 1):\n",
        "          print(f\"[{epoch}] Training loss: {training_loss}\\t Validation loss: {validation_loss}\")\n",
        "    return training_losses, validation_losses"
      ],
      "id": "regional-clock",
      "execution_count": 237,
      "outputs": []
    },
    {
      "cell_type": "code",
      "metadata": {
        "id": "positive-plaza"
      },
      "source": [
        "def CheckModelStats(model, attribute, scores, optimizer_name):\n",
        "    print('Сlassifier for ', attribute)\n",
        "    pred_y_train = model(x_train_tensor).argmax(axis=1)\n",
        "    print('train f1 score: ', f1_score(pred_y_train.cpu().numpy(), y_train[attribute]))\n",
        "    pred_y_test = model(x_test_tensor).argmax(axis=1)\n",
        "    print('test f1 score: ', f1_score(pred_y_test.cpu().numpy(), y_test[attribute]))\n",
        "    \n",
        "    scores['train'].append(f1_score(pred_y_train.cpu().numpy(), y_train[attribute]))\n",
        "    scores['test'].append(f1_score(pred_y_test.cpu().numpy(), y_test[attribute]))"
      ],
      "id": "positive-plaza",
      "execution_count": 238,
      "outputs": []
    },
    {
      "cell_type": "code",
      "metadata": {
        "id": "Y9OUB3cu17-F"
      },
      "source": [
        "def CreateOptimizer(optimizer_name, model, momentum):\n",
        "    optimizer = None\n",
        "    if (optimizer_name == 'Adam'):\n",
        "      optimizer = optim.Adam(params=model.parameters(), lr=3e-4)\n",
        "    if (optimizer_name == 'SGD'):\n",
        "      optimizer = optim.SGD(params=model.parameters(), lr=1e-3, momentum=momentum)\n",
        "    return optimizer"
      ],
      "id": "Y9OUB3cu17-F",
      "execution_count": 239,
      "outputs": []
    },
    {
      "cell_type": "code",
      "metadata": {
        "id": "x5HoEomrsWPD"
      },
      "source": [
        "def ModelForAttribute(attribute, optimizer_name, n_epochs=10, verbose=0, momentum=0):\n",
        "    model = CreateModel()\n",
        "    dataloaders = CreateParametres(attribute, model)\n",
        "    optimizer = CreateOptimizer(optimizer_name, model, momentum)\n",
        "    training_losses, validation_losses = TrainModel(model, dataloaders, n_epochs, optimizer, verbose)\n",
        "    if (optimizer_name == 'Adam'):\n",
        "        CheckModelStats(model, attribute, model_adam_scores, optimizer_name)\n",
        "    if (optimizer_name == 'SGD'):\n",
        "        CheckModelStats(model, attribute, model_sgd_scores, optimizer_name)\n",
        "    return training_losses, validation_losses"
      ],
      "id": "x5HoEomrsWPD",
      "execution_count": 240,
      "outputs": []
    },
    {
      "cell_type": "code",
      "metadata": {
        "id": "RdKQrr9HClMq"
      },
      "source": [
        "def PrintGraphics(training_losses, validation_losses):\n",
        "    f, ax1 = plt.subplots()   \n",
        "    ax1.plot(training_losses, 'b')\n",
        "    ax1.plot(validation_losses, 'r')"
      ],
      "id": "RdKQrr9HClMq",
      "execution_count": 241,
      "outputs": []
    },
    {
      "cell_type": "markdown",
      "metadata": {
        "id": "6b_ndFPM1IjZ"
      },
      "source": [
        "Рассмотрим различные оптимайзеры, и выберем для каждого оптимальное количество эпох. Подробно разберем на одной метке, к примеру, пол.\n",
        "\n",
        "Начнем с оптимайзера Adam. Как несложно видеть по графику лосса на тренировочном и валидационном датасете, сеть начинает переобучаться уже примерно на 10-12 эпохе."
      ],
      "id": "6b_ndFPM1IjZ"
    },
    {
      "cell_type": "code",
      "metadata": {
        "colab": {
          "base_uri": "https://localhost:8080/",
          "height": 317
        },
        "id": "6u9c3owcsPAd",
        "outputId": "3445d719-4540-40f4-a30d-2e3957c2b2f0"
      },
      "source": [
        "train_losses, val_losses = ModelForAttribute(attributes[0], 'Adam', n_epochs=40)\n",
        "PrintGraphics(train_losses, val_losses)"
      ],
      "id": "6u9c3owcsPAd",
      "execution_count": 242,
      "outputs": [
        {
          "output_type": "stream",
          "name": "stdout",
          "text": [
            "Сlassifier for  Male\n",
            "train f1 score:  0.9512120282295183\n",
            "test f1 score:  0.8690176322418136\n"
          ]
        },
        {
          "output_type": "display_data",
          "data": {
            "image/png": "[encoded data removed]",
            "text/plain": [
              "<Figure size 432x288 with 1 Axes>"
            ]
          },
          "metadata": {
            "needs_background": "light"
          }
        }
      ]
    },
    {
      "cell_type": "code",
      "metadata": {
        "colab": {
          "base_uri": "https://localhost:8080/",
          "height": 317
        },
        "id": "EeNNDPJ91hcn",
        "outputId": "e7c338d0-f7c5-4ff9-cc27-b21ccf881020"
      },
      "source": [
        "train_losses, val_losses = ModelForAttribute(attributes[0], 'Adam', n_epochs=12)\n",
        "PrintGraphics(train_losses, val_losses)"
      ],
      "id": "EeNNDPJ91hcn",
      "execution_count": 243,
      "outputs": [
        {
          "output_type": "stream",
          "name": "stdout",
          "text": [
            "Сlassifier for  Male\n",
            "train f1 score:  0.8818132757690231\n",
            "test f1 score:  0.8478964401294499\n"
          ]
        },
        {
          "output_type": "display_data",
          "data": {
            "image/png": "[encoded data removed]",
            "text/plain": [
              "<Figure size 432x288 with 1 Axes>"
            ]
          },
          "metadata": {
            "needs_background": "light"
          }
        }
      ]
    },
    {
      "cell_type": "markdown",
      "metadata": {
        "id": "JySFaWTR1odx"
      },
      "source": [
        "Теперь рассмотрим оптимайзер SGD. Сначала оставим его параметры по умолчанию."
      ],
      "id": "JySFaWTR1odx"
    },
    {
      "cell_type": "code",
      "metadata": {
        "colab": {
          "base_uri": "https://localhost:8080/",
          "height": 317
        },
        "id": "18fnWMPCxsog",
        "outputId": "b7929e87-9e97-40f3-a614-b118902621d4"
      },
      "source": [
        "train_losses, val_losses = ModelForAttribute(attributes[0], 'SGD', n_epochs=300)\n",
        "PrintGraphics(train_losses, val_losses)"
      ],
      "id": "18fnWMPCxsog",
      "execution_count": 244,
      "outputs": [
        {
          "output_type": "stream",
          "name": "stdout",
          "text": [
            "Сlassifier for  Male\n",
            "train f1 score:  0.9347355397463656\n",
            "test f1 score:  0.876117496807152\n"
          ]
        },
        {
          "output_type": "display_data",
          "data": {
            "image/png": "[encoded data removed]",
            "text/plain": [
              "<Figure size 432x288 with 1 Axes>"
            ]
          },
          "metadata": {
            "needs_background": "light"
          }
        }
      ]
    },
    {
      "cell_type": "markdown",
      "metadata": {
        "id": "wJAhg0w_2-Kf"
      },
      "source": [
        "Чтобы нейросеть достигла неплохих результатов, нужно провести около трехста эпох, дальше, как видно, она начинает переобучатся. Попробуем изменить моментум."
      ],
      "id": "wJAhg0w_2-Kf"
    },
    {
      "cell_type": "code",
      "metadata": {
        "colab": {
          "base_uri": "https://localhost:8080/",
          "height": 317
        },
        "id": "ZdulNzId3IJB",
        "outputId": "57f116e9-2a31-4e6e-e677-3cc11bbc18dc"
      },
      "source": [
        "train_losses, val_losses = ModelForAttribute(attributes[0], 'SGD', n_epochs=300, momentum=0.9)\n",
        "PrintGraphics(train_losses, val_losses)"
      ],
      "id": "ZdulNzId3IJB",
      "execution_count": 245,
      "outputs": [
        {
          "output_type": "stream",
          "name": "stdout",
          "text": [
            "Сlassifier for  Male\n",
            "train f1 score:  1.0\n",
            "test f1 score:  0.905982905982906\n"
          ]
        },
        {
          "output_type": "display_data",
          "data": {
            "image/png": "[encoded data removed]",
            "text/plain": [
              "<Figure size 432x288 with 1 Axes>"
            ]
          },
          "metadata": {
            "needs_background": "light"
          }
        }
      ]
    },
    {
      "cell_type": "markdown",
      "metadata": {
        "id": "vU7t_L7i3gaw"
      },
      "source": [
        "Здесь сеть начинает очень сильно переобучатся еще не пройдя 50 эпох. Поправим этот параметр."
      ],
      "id": "vU7t_L7i3gaw"
    },
    {
      "cell_type": "code",
      "metadata": {
        "colab": {
          "base_uri": "https://localhost:8080/",
          "height": 318
        },
        "id": "C7yV3I5U3pAA",
        "outputId": "84997117-e3fa-490b-a150-164dbd268e27"
      },
      "source": [
        "train_losses, val_losses = ModelForAttribute(attributes[0], 'SGD', n_epochs=35, momentum=0.9)\n",
        "PrintGraphics(train_losses, val_losses)"
      ],
      "id": "C7yV3I5U3pAA",
      "execution_count": 246,
      "outputs": [
        {
          "output_type": "stream",
          "name": "stdout",
          "text": [
            "Сlassifier for  Male\n",
            "train f1 score:  0.931024531024531\n",
            "test f1 score:  0.8870967741935485\n"
          ]
        },
        {
          "output_type": "display_data",
          "data": {
            "image/png": "[encoded data removed]",
            "text/plain": [
              "<Figure size 432x288 with 1 Axes>"
            ]
          },
          "metadata": {
            "needs_background": "light"
          }
        }
      ]
    },
    {
      "cell_type": "code",
      "metadata": {
        "colab": {
          "base_uri": "https://localhost:8080/",
          "height": 917
        },
        "id": "PvANIqIU4Po9",
        "outputId": "b13407b9-4e6a-4b0a-d0ff-9749e48f1579"
      },
      "source": [
        "train_losses, val_losses = ModelForAttribute(attributes[0], 'Adam', n_epochs=12)\n",
        "PrintGraphics(train_losses, val_losses)\n",
        "train_losses, val_losses = ModelForAttribute(attributes[0], 'Adam', n_epochs=12)\n",
        "PrintGraphics(train_losses, val_losses)\n",
        "train_losses, val_losses = ModelForAttribute(attributes[0], 'Adam', n_epochs=12)\n",
        "PrintGraphics(train_losses, val_losses)"
      ],
      "id": "PvANIqIU4Po9",
      "execution_count": 247,
      "outputs": [
        {
          "output_type": "stream",
          "name": "stdout",
          "text": [
            "Сlassifier for  Male\n",
            "train f1 score:  0.9263464337700146\n",
            "test f1 score:  0.8767441860465116\n",
            "Сlassifier for  Male\n",
            "train f1 score:  0.886240520043337\n",
            "test f1 score:  0.8416485900216919\n",
            "Сlassifier for  Male\n",
            "train f1 score:  0.8947368421052632\n",
            "test f1 score:  0.8603104212860311\n"
          ]
        },
        {
          "output_type": "display_data",
          "data": {
            "image/png": "[encoded data removed]",
            "text/plain": [
              "<Figure size 432x288 with 1 Axes>"
            ]
          },
          "metadata": {
            "needs_background": "light"
          }
        },
        {
          "output_type": "display_data",
          "data": {
            "image/png": "[encoded data removed]",
            "text/plain": [
              "<Figure size 432x288 with 1 Axes>"
            ]
          },
          "metadata": {
            "needs_background": "light"
          }
        },
        {
          "output_type": "display_data",
          "data": {
            "image/png": "[encoded data removed]",
            "text/plain": [
              "<Figure size 432x288 with 1 Axes>"
            ]
          },
          "metadata": {
            "needs_background": "light"
          }
        }
      ]
    },
    {
      "cell_type": "markdown",
      "metadata": {
        "id": "cERF1Imy31wY"
      },
      "source": [
        "Можно сделать вывод, что оптимизатор Adam в данном случае показывает себя гораздо лучше и сходится гораздо быстрее, однако является менее предсказуемым, чем SGD. С Adam результаты обучения сильно изменяются от запуска к запуску, и очень сильно зависят от случайных начальных весов. С SGD мы получаем более долгое, однако более стабильное обучение. \n",
        "\n",
        "Проведем обучение на остальных параметрах. На данном этапе мы создаем отдельную сеть для каждого параметра."
      ],
      "id": "cERF1Imy31wY"
    },
    {
      "cell_type": "code",
      "metadata": {
        "id": "MPDwLcHjJf-K"
      },
      "source": [
        "model_adam_scores = {'train' : [], 'test' : []}\n",
        "model_sgd_scores = {'train' : [], 'test' : []}"
      ],
      "id": "MPDwLcHjJf-K",
      "execution_count": 248,
      "outputs": []
    },
    {
      "cell_type": "code",
      "metadata": {
        "colab": {
          "base_uri": "https://localhost:8080/",
          "height": 618
        },
        "id": "-8I-rPA2JeaO",
        "outputId": "54997606-4906-49b0-fc35-b142dd3bc353"
      },
      "source": [
        "train_losses, val_losses = ModelForAttribute(attributes[0], 'Adam', n_epochs=12)\n",
        "PrintGraphics(train_losses, val_losses)\n",
        "train_losses, val_losses = ModelForAttribute(attributes[0], 'SGD', n_epochs=37, momentum=0.9)\n",
        "PrintGraphics(train_losses, val_losses)"
      ],
      "id": "-8I-rPA2JeaO",
      "execution_count": 249,
      "outputs": [
        {
          "output_type": "stream",
          "name": "stdout",
          "text": [
            "Сlassifier for  Male\n",
            "train f1 score:  0.8780487804878049\n",
            "test f1 score:  0.8367567567567569\n",
            "Сlassifier for  Male\n",
            "train f1 score:  0.9320105048147067\n",
            "test f1 score:  0.8852459016393444\n"
          ]
        },
        {
          "output_type": "display_data",
          "data": {
            "image/png": "[encoded data removed]",
            "text/plain": [
              "<Figure size 432x288 with 1 Axes>"
            ]
          },
          "metadata": {
            "needs_background": "light"
          }
        },
        {
          "output_type": "display_data",
          "data": {
            "image/png": "[encoded data removed]",
            "text/plain": [
              "<Figure size 432x288 with 1 Axes>"
            ]
          },
          "metadata": {
            "needs_background": "light"
          }
        }
      ]
    },
    {
      "cell_type": "code",
      "metadata": {
        "colab": {
          "base_uri": "https://localhost:8080/",
          "height": 617
        },
        "id": "hispanic-aircraft",
        "outputId": "209ba916-e8a3-4753-d559-aee8a207bca1"
      },
      "source": [
        "train_losses, val_losses = ModelForAttribute(attributes[1], 'Adam', n_epochs=12)\n",
        "PrintGraphics(train_losses, val_losses)\n",
        "train_losses, val_losses = ModelForAttribute(attributes[1], 'SGD', n_epochs=37, momentum=0.9)\n",
        "PrintGraphics(train_losses, val_losses)"
      ],
      "id": "hispanic-aircraft",
      "execution_count": 250,
      "outputs": [
        {
          "output_type": "stream",
          "name": "stdout",
          "text": [
            "Сlassifier for  Wearing_Lipstick\n",
            "train f1 score:  0.8813467282106978\n",
            "test f1 score:  0.8423280423280424\n",
            "Сlassifier for  Wearing_Lipstick\n",
            "train f1 score:  0.9130547625227097\n",
            "test f1 score:  0.8732394366197184\n"
          ]
        },
        {
          "output_type": "display_data",
          "data": {
            "image/png": "[encoded data removed]",
            "text/plain": [
              "<Figure size 432x288 with 1 Axes>"
            ]
          },
          "metadata": {
            "needs_background": "light"
          }
        },
        {
          "output_type": "display_data",
          "data": {
            "image/png": "[encoded data removed]",
            "text/plain": [
              "<Figure size 432x288 with 1 Axes>"
            ]
          },
          "metadata": {
            "needs_background": "light"
          }
        }
      ]
    },
    {
      "cell_type": "code",
      "metadata": {
        "colab": {
          "base_uri": "https://localhost:8080/",
          "height": 619
        },
        "id": "Co6B8OBn6iU7",
        "outputId": "d0550121-764b-4ddf-b140-9502df3a88c1"
      },
      "source": [
        "train_losses, val_losses = ModelForAttribute(attributes[2], 'Adam', n_epochs=12)\n",
        "PrintGraphics(train_losses, val_losses)\n",
        "train_losses, val_losses = ModelForAttribute(attributes[2], 'SGD', n_epochs=40, momentum=0.9)\n",
        "PrintGraphics(train_losses, val_losses)"
      ],
      "id": "Co6B8OBn6iU7",
      "execution_count": 251,
      "outputs": [
        {
          "output_type": "stream",
          "name": "stdout",
          "text": [
            "Сlassifier for  Smiling\n",
            "train f1 score:  0.8853037559868918\n",
            "test f1 score:  0.8630434782608696\n",
            "Сlassifier for  Smiling\n",
            "train f1 score:  0.9184890656063619\n",
            "test f1 score:  0.8629550321199144\n"
          ]
        },
        {
          "output_type": "display_data",
          "data": {
            "image/png": "[encoded data removed]",
            "text/plain": [
              "<Figure size 432x288 with 1 Axes>"
            ]
          },
          "metadata": {
            "needs_background": "light"
          }
        },
        {
          "output_type": "display_data",
          "data": {
            "image/png": "[encoded data removed]",
            "text/plain": [
              "<Figure size 432x288 with 1 Axes>"
            ]
          },
          "metadata": {
            "needs_background": "light"
          }
        }
      ]
    },
    {
      "cell_type": "code",
      "metadata": {
        "colab": {
          "base_uri": "https://localhost:8080/",
          "height": 617
        },
        "id": "professional-aluminum",
        "outputId": "dc945188-f49d-4773-b864-4b700e524374"
      },
      "source": [
        "train_losses, val_losses = ModelForAttribute(attributes[3], 'Adam', n_epochs=20)\n",
        "PrintGraphics(train_losses, val_losses)\n",
        "train_losses, val_losses = ModelForAttribute(attributes[3], 'SGD', n_epochs=75, momentum=0.9)\n",
        "PrintGraphics(train_losses, val_losses)"
      ],
      "id": "professional-aluminum",
      "execution_count": 252,
      "outputs": [
        {
          "output_type": "stream",
          "name": "stdout",
          "text": [
            "Сlassifier for  Big_Lips\n",
            "train f1 score:  0.17295308187672492\n",
            "test f1 score:  0.10452961672473866\n",
            "Сlassifier for  Big_Lips\n",
            "train f1 score:  0.34636015325670494\n",
            "test f1 score:  0.15337423312883436\n"
          ]
        },
        {
          "output_type": "display_data",
          "data": {
            "image/png": "[encoded data removed]",
            "text/plain": [
              "<Figure size 432x288 with 1 Axes>"
            ]
          },
          "metadata": {
            "needs_background": "light"
          }
        },
        {
          "output_type": "display_data",
          "data": {
            "image/png": "[encoded data removed]",
            "text/plain": [
              "<Figure size 432x288 with 1 Axes>"
            ]
          },
          "metadata": {
            "needs_background": "light"
          }
        }
      ]
    },
    {
      "cell_type": "code",
      "metadata": {
        "colab": {
          "base_uri": "https://localhost:8080/",
          "height": 620
        },
        "id": "residential-plymouth",
        "outputId": "75d805b3-3fdb-4927-8ab1-23b1f494a04d"
      },
      "source": [
        "train_losses, val_losses = ModelForAttribute(attributes[4], 'Adam', n_epochs=20)\n",
        "PrintGraphics(train_losses, val_losses)\n",
        "train_losses, val_losses = ModelForAttribute(attributes[4], 'SGD', n_epochs=100, momentum=0.9)\n",
        "PrintGraphics(train_losses, val_losses)"
      ],
      "id": "residential-plymouth",
      "execution_count": 253,
      "outputs": [
        {
          "output_type": "stream",
          "name": "stdout",
          "text": [
            "Сlassifier for  Mustache\n",
            "train f1 score:  0.6579804560260586\n",
            "test f1 score:  0.3055555555555556\n",
            "Сlassifier for  Mustache\n",
            "train f1 score:  0.14102564102564102\n",
            "test f1 score:  0.049999999999999996\n"
          ]
        },
        {
          "output_type": "display_data",
          "data": {
            "image/png": "[encoded data removed]",
            "text/plain": [
              "<Figure size 432x288 with 1 Axes>"
            ]
          },
          "metadata": {
            "needs_background": "light"
          }
        },
        {
          "output_type": "display_data",
          "data": {
            "image/png": "[encoded data removed]",
            "text/plain": [
              "<Figure size 432x288 with 1 Axes>"
            ]
          },
          "metadata": {
            "needs_background": "light"
          }
        }
      ]
    },
    {
      "cell_type": "markdown",
      "metadata": {
        "id": "FCT8mvhFLFfq"
      },
      "source": [
        "С последними двумя сильно несбалансированными метками наша полносвязная сеть справляется очень плохо, вне зависимости от количества эпох.\n"
      ],
      "id": "FCT8mvhFLFfq"
    },
    {
      "cell_type": "markdown",
      "metadata": {
        "id": "lJZ1ZafmLQJz"
      },
      "source": [
        "## Обучение сверточной сети"
      ],
      "id": "lJZ1ZafmLQJz"
    },
    {
      "cell_type": "markdown",
      "metadata": {
        "id": "sThtGq2k3wRH"
      },
      "source": [
        "### Предварительная обработка данных"
      ],
      "id": "sThtGq2k3wRH"
    },
    {
      "cell_type": "markdown",
      "metadata": {
        "id": "dmDmhpXHLUTq"
      },
      "source": [
        "В качестве архитектуры сверточной нейронной сети я выбрала LeNet. Для применения этой архитектуры изображение должно быть чернобелое, и сжатое до размера 32 на 32 пикселя."
      ],
      "id": "dmDmhpXHLUTq"
    },
    {
      "cell_type": "code",
      "metadata": {
        "id": "9YyzrnPhDFI5"
      },
      "source": [
        "from torchvision import transforms"
      ],
      "id": "9YyzrnPhDFI5",
      "execution_count": 202,
      "outputs": []
    },
    {
      "cell_type": "code",
      "metadata": {
        "colab": {
          "base_uri": "https://localhost:8080/",
          "height": 49
        },
        "id": "0l5Cj5IEC1_3",
        "outputId": "db673c0e-c1eb-4b2e-8a28-5518ec1e65ba"
      },
      "source": [
        "preprocess = transforms.Compose([\n",
        "    transforms.Resize(32),\n",
        "    transforms.CenterCrop(32)\n",
        "])\n",
        "new_img = preprocess(big_img).convert('L')\n",
        "new_img"
      ],
      "id": "0l5Cj5IEC1_3",
      "execution_count": 203,
      "outputs": [
        {
          "output_type": "execute_result",
          "data": {
            "image/png": "[encoded data removed]",
            "text/plain": [
              "<PIL.Image.Image image mode=L size=32x32 at 0x7F504C373D10>"
            ]
          },
          "metadata": {},
          "execution_count": 203
        }
      ]
    },
    {
      "cell_type": "code",
      "metadata": {
        "colab": {
          "base_uri": "https://localhost:8080/"
        },
        "id": "vsKdgcT0WK_u",
        "outputId": "1d514d12-9ab3-48dc-8c30-2bff2fc683af"
      },
      "source": [
        "x = np.empty((0, 1, 32, 32))\n",
        "img = preprocess(Image.open(IMAGE_PATH + example)).convert('L')\n",
        "img_array = (np.array(img)).reshape(1, 1, 32, 32).astype('float32') / 255\n",
        "print(img_array.shape)\n",
        "print(x.shape)\n",
        "x = np.concatenate((x, img_array), axis=0)\n",
        "print(x.shape)"
      ],
      "id": "vsKdgcT0WK_u",
      "execution_count": 204,
      "outputs": [
        {
          "output_type": "stream",
          "name": "stdout",
          "text": [
            "(1, 1, 32, 32)\n",
            "(0, 1, 32, 32)\n",
            "(1, 1, 32, 32)\n"
          ]
        }
      ]
    },
    {
      "cell_type": "code",
      "metadata": {
        "id": "lnEl6w54DNiP"
      },
      "source": [
        "def ImageToNumpy(indexes, columns, verboze=1):\n",
        "    x = np.empty((0, 1, 32, 32))\n",
        "    counter = 0\n",
        "    for img_index in indexes:\n",
        "        img = preprocess(Image.open(IMAGE_PATH + img_index)).convert('L')\n",
        "        img_array = (np.array(img)).reshape(1, 1, 32, 32).astype('float32') / 255\n",
        "\n",
        "        x = x = np.concatenate((x, img_array), axis=0)\n",
        "\n",
        "        counter += 1\n",
        "        if (verboze == 1 and counter % 1000 == 0):\n",
        "            print(x.shape)\n",
        "            print(counter)\n",
        "    return x"
      ],
      "id": "lnEl6w54DNiP",
      "execution_count": 205,
      "outputs": []
    },
    {
      "cell_type": "code",
      "metadata": {
        "colab": {
          "base_uri": "https://localhost:8080/"
        },
        "id": "nWixNT_qFd9z",
        "outputId": "35324b6e-49d7-41db-a97d-1e3bf5b40650"
      },
      "source": [
        "start_time = time.time()\n",
        "\n",
        "x_train = ImageToNumpy(y_train.index, range(image_size))\n",
        "x_val = ImageToNumpy(y_val.index, range(image_size))\n",
        "x_test = ImageToNumpy(y_test.index, range(image_size))\n",
        "\n",
        "print(\"--- %s seconds ---\" % (time.time() - start_time))"
      ],
      "id": "nWixNT_qFd9z",
      "execution_count": 206,
      "outputs": [
        {
          "output_type": "stream",
          "name": "stdout",
          "text": [
            "(1000, 1, 32, 32)\n",
            "1000\n",
            "(2000, 1, 32, 32)\n",
            "2000\n",
            "(3000, 1, 32, 32)\n",
            "3000\n",
            "(4000, 1, 32, 32)\n",
            "4000\n",
            "(1000, 1, 32, 32)\n",
            "1000\n",
            "(1000, 1, 32, 32)\n",
            "1000\n",
            "--- 34.187211990356445 seconds ---\n"
          ]
        }
      ]
    },
    {
      "cell_type": "markdown",
      "metadata": {
        "id": "n07dqxSgDtV_"
      },
      "source": [
        "### Обучение модели\n",
        "\n",
        "Теперь будем обучать нашу модель."
      ],
      "id": "n07dqxSgDtV_"
    },
    {
      "cell_type": "code",
      "metadata": {
        "id": "PAHEsbIhOrai"
      },
      "source": [
        "class LeNet5(nn.Module):\n",
        "\n",
        "    def __init__(self, n_classes):\n",
        "        super(LeNet5, self).__init__()\n",
        "        \n",
        "        self.feature_extractor = nn.Sequential(            \n",
        "            nn.Conv2d(in_channels=1, out_channels=6, kernel_size=5, stride=1),\n",
        "            nn.Tanh(),\n",
        "            nn.AvgPool2d(kernel_size=2),\n",
        "            nn.Conv2d(in_channels=6, out_channels=16, kernel_size=5, stride=1),\n",
        "            nn.Tanh(),\n",
        "            nn.AvgPool2d(kernel_size=2),\n",
        "            nn.Conv2d(in_channels=16, out_channels=120, kernel_size=5, stride=1),\n",
        "            nn.Tanh()\n",
        "        )\n",
        "\n",
        "        self.classifier = nn.Sequential(\n",
        "            nn.Linear(in_features=120, out_features=84),\n",
        "            nn.Tanh(),\n",
        "            nn.Linear(in_features=84, out_features=n_classes),\n",
        "        )\n",
        "\n",
        "\n",
        "    def forward(self, x):\n",
        "        x = self.feature_extractor(x)\n",
        "        x = torch.flatten(x, 1)\n",
        "        logits = self.classifier(x)\n",
        "        probs = F.softmax(logits, dim=1)\n",
        "        return logits, probs"
      ],
      "id": "PAHEsbIhOrai",
      "execution_count": 207,
      "outputs": []
    },
    {
      "cell_type": "code",
      "metadata": {
        "id": "-XIEMD9ERyjk"
      },
      "source": [
        "cnn_model_scores = {'train' : [], 'test' : []}"
      ],
      "id": "-XIEMD9ERyjk",
      "execution_count": 208,
      "outputs": []
    },
    {
      "cell_type": "code",
      "metadata": {
        "colab": {
          "base_uri": "https://localhost:8080/"
        },
        "id": "JRK-rvP6Ryjk",
        "outputId": "ff9bcdeb-d818-4316-bd06-e5e29e01c3ee"
      },
      "source": [
        "device = 'cuda:0' if torch.cuda.is_available() else 'cpu'\n",
        "\n",
        "x_train_tensor = torch.from_numpy(x_train.astype('float32')).to(device)\n",
        "x_val_tensor = torch.from_numpy(x_val.astype('float32')).to(device)\n",
        "x_test_tensor = torch.from_numpy(x_test.astype('float32')).to(device)\n",
        "x_train.shape"
      ],
      "id": "JRK-rvP6Ryjk",
      "execution_count": 209,
      "outputs": [
        {
          "output_type": "execute_result",
          "data": {
            "text/plain": [
              "(4000, 1, 32, 32)"
            ]
          },
          "metadata": {},
          "execution_count": 209
        }
      ]
    },
    {
      "cell_type": "code",
      "metadata": {
        "id": "nb8uunvSRyjk"
      },
      "source": [
        "def CreateLeNetModel():\n",
        "    model = LeNet5(2)\n",
        "    return model"
      ],
      "id": "nb8uunvSRyjk",
      "execution_count": 210,
      "outputs": []
    },
    {
      "cell_type": "code",
      "metadata": {
        "id": "orfcOmnhRyjl"
      },
      "source": [
        "def CreateCNNParametres(attribute, model):\n",
        "    y_train_tensor = torch.from_numpy(y_train[attribute].to_numpy()).to(torch.int64)                               \n",
        "\n",
        "    y_val_tensor = torch.from_numpy(y_val[attribute].to_numpy()).to(torch.int64)  \n",
        "\n",
        "    y_test_tensor = torch.from_numpy(y_test[attribute].to_numpy()).to(torch.int64)\n",
        "\n",
        "    train_dataset = TensorDataset(x_train_tensor, y_train_tensor)\n",
        "    train_loader = DataLoader(dataset=train_dataset, batch_size=100)\n",
        "\n",
        "    val_dataset = TensorDataset(x_val_tensor, y_val_tensor)\n",
        "    val_loader = DataLoader(dataset=val_dataset, batch_size=100)\n",
        "\n",
        "    if torch.cuda.is_available():\n",
        "        model = model.to(device)\n",
        "        \n",
        "    dataloaders  = {'train':train_loader, 'val':val_loader}\n",
        "    return dataloaders"
      ],
      "id": "orfcOmnhRyjl",
      "execution_count": 211,
      "outputs": []
    },
    {
      "cell_type": "code",
      "metadata": {
        "id": "lo70sPpNRyjl"
      },
      "source": [
        "def TrainCNNModel(model, dataloaders, n_epochs, optimizer, verbose=0):\n",
        "    criterion = nn.CrossEntropyLoss()\n",
        "    train_loader = dataloaders['train']\n",
        "    val_loader = dataloaders['val']\n",
        "\n",
        "    if torch.cuda.is_available():\n",
        "        model = model.to(device)\n",
        "        criterion = criterion.to(device)\n",
        "\n",
        "    training_losses = []\n",
        "    validation_losses = []\n",
        "\n",
        "    for epoch in range(n_epochs):\n",
        "        model.train()\n",
        "        batch_losses = []\n",
        "        for x_batch, y_batch in train_loader:\n",
        "            x_batch = x_batch.to(device)\n",
        "            y_batch = y_batch.to(device)\n",
        "\n",
        "            model.train()\n",
        "            yhat = model(x_batch)[0]\n",
        "\n",
        "            loss = criterion(yhat, y_batch)\n",
        "            loss.backward()\n",
        "            optimizer.step()\n",
        "            optimizer.zero_grad()\n",
        "\n",
        "            batch_losses.append(loss.item())\n",
        "        training_loss = np.mean(batch_losses)\n",
        "        training_losses.append(training_loss)\n",
        "\n",
        "        with torch.no_grad():\n",
        "            val_losses = []\n",
        "            for x_val_batch, y_val_batch in val_loader:\n",
        "                x_val_batch = x_val_batch.to(device)\n",
        "                y_val_batch = y_val_batch.to(device)\n",
        "                model.eval()\n",
        "                yhat = model(x_val_batch)[0]\n",
        "                val_loss = criterion(yhat, y_val_batch).item()\n",
        "                val_losses.append(val_loss)\n",
        "            validation_loss = np.mean(val_losses)\n",
        "            validation_losses.append(validation_loss)\n",
        "        if (verbose == 1):\n",
        "          print(f\"[{epoch}] Training loss: {training_loss}\\t Validation loss: {validation_loss}\")\n",
        "    return training_losses, validation_losses"
      ],
      "id": "lo70sPpNRyjl",
      "execution_count": 212,
      "outputs": []
    },
    {
      "cell_type": "code",
      "metadata": {
        "id": "XjTFIQsaRyjl"
      },
      "source": [
        "def CheckModelStats(model, attribute, scores):\n",
        "    print('LeNet Сlassifier for ', attribute)\n",
        "    pred_y_train = model(x_train_tensor)[0].argmax(axis=1)\n",
        "    print('train f1 score: ', f1_score(pred_y_train.cpu().numpy(), y_train[attribute]))\n",
        "    pred_y_test = model(x_test_tensor)[0].argmax(axis=1)\n",
        "    print('test f1 score: ', f1_score(pred_y_test.cpu().numpy(), y_test[attribute]))\n",
        "    \n",
        "    scores['train'].append(f1_score(pred_y_train.cpu().numpy(), y_train[attribute]))\n",
        "    scores['test'].append(f1_score(pred_y_test.cpu().numpy(), y_test[attribute]))"
      ],
      "id": "XjTFIQsaRyjl",
      "execution_count": 213,
      "outputs": []
    },
    {
      "cell_type": "code",
      "metadata": {
        "id": "Ed6ucnNBRyjl"
      },
      "source": [
        "def CNNModelForAttribute(attribute, optimizer_name, n_epochs=10, verbose=0, momentum=0):\n",
        "    model = CreateLeNetModel()\n",
        "    dataloaders = CreateCNNParametres(attribute, model)\n",
        "    optimizer = CreateOptimizer(optimizer_name, model, momentum)\n",
        "    training_losses, validation_losses = TrainCNNModel(model, dataloaders, n_epochs, optimizer, verbose)\n",
        "    CheckModelStats(model, attribute, cnn_model_scores)\n",
        "    return training_losses, validation_losses"
      ],
      "id": "Ed6ucnNBRyjl",
      "execution_count": 214,
      "outputs": []
    },
    {
      "cell_type": "code",
      "metadata": {
        "colab": {
          "base_uri": "https://localhost:8080/",
          "height": 317
        },
        "id": "mlcgmVzNRyjm",
        "outputId": "f390a2ff-fae6-44ff-ead8-9e08186a2597"
      },
      "source": [
        "train_losses, val_losses = CNNModelForAttribute(attributes[0], 'Adam', n_epochs=200)\n",
        "PrintGraphics(train_losses, val_losses)"
      ],
      "id": "mlcgmVzNRyjm",
      "execution_count": 215,
      "outputs": [
        {
          "output_type": "stream",
          "name": "stdout",
          "text": [
            "LeNet Сlassifier for  Male\n",
            "train f1 score:  0.8959952181709504\n",
            "test f1 score:  0.8846153846153846\n"
          ]
        },
        {
          "output_type": "display_data",
          "data": {
            "image/png": "[encoded data removed]",
            "text/plain": [
              "<Figure size 432x288 with 1 Axes>"
            ]
          },
          "metadata": {
            "needs_background": "light"
          }
        }
      ]
    },
    {
      "cell_type": "code",
      "metadata": {
        "colab": {
          "base_uri": "https://localhost:8080/",
          "height": 317
        },
        "id": "bHwIAU8T2HN4",
        "outputId": "e71af5c3-e4b1-4cdf-b829-ea28cb3ce57f"
      },
      "source": [
        "train_losses, val_losses = CNNModelForAttribute(attributes[1], 'Adam', n_epochs=200)\n",
        "PrintGraphics(train_losses, val_losses)"
      ],
      "id": "bHwIAU8T2HN4",
      "execution_count": 216,
      "outputs": [
        {
          "output_type": "stream",
          "name": "stdout",
          "text": [
            "LeNet Сlassifier for  Wearing_Lipstick\n",
            "train f1 score:  0.8818897637795275\n",
            "test f1 score:  0.8700102354145343\n"
          ]
        },
        {
          "output_type": "display_data",
          "data": {
            "image/png": "[encoded data removed]",
            "text/plain": [
              "<Figure size 432x288 with 1 Axes>"
            ]
          },
          "metadata": {
            "needs_background": "light"
          }
        }
      ]
    },
    {
      "cell_type": "code",
      "metadata": {
        "colab": {
          "base_uri": "https://localhost:8080/",
          "height": 317
        },
        "id": "9TZX37Ea2I5O",
        "outputId": "42117bed-ec36-4c4b-e96e-81e1b6ef4659"
      },
      "source": [
        "train_losses, val_losses = CNNModelForAttribute(attributes[2], 'Adam', n_epochs=200)\n",
        "PrintGraphics(train_losses, val_losses)"
      ],
      "id": "9TZX37Ea2I5O",
      "execution_count": 217,
      "outputs": [
        {
          "output_type": "stream",
          "name": "stdout",
          "text": [
            "LeNet Сlassifier for  Smiling\n",
            "train f1 score:  0.8982735723771581\n",
            "test f1 score:  0.8430913348946136\n"
          ]
        },
        {
          "output_type": "display_data",
          "data": {
            "image/png": "[encoded data removed]",
            "text/plain": [
              "<Figure size 432x288 with 1 Axes>"
            ]
          },
          "metadata": {
            "needs_background": "light"
          }
        }
      ]
    },
    {
      "cell_type": "code",
      "metadata": {
        "colab": {
          "base_uri": "https://localhost:8080/",
          "height": 317
        },
        "id": "o7JaZtKD2KFq",
        "outputId": "cc34b407-18d0-418c-955b-2e60f1c8923a"
      },
      "source": [
        "train_losses, val_losses = CNNModelForAttribute(attributes[3], 'Adam', n_epochs=40)\n",
        "PrintGraphics(train_losses, val_losses)"
      ],
      "id": "o7JaZtKD2KFq",
      "execution_count": 218,
      "outputs": [
        {
          "output_type": "stream",
          "name": "stdout",
          "text": [
            "LeNet Сlassifier for  Big_Lips\n",
            "train f1 score:  0.062015503875968984\n",
            "test f1 score:  0.0437956204379562\n"
          ]
        },
        {
          "output_type": "display_data",
          "data": {
            "image/png": "[encoded data removed]",
            "text/plain": [
              "<Figure size 432x288 with 1 Axes>"
            ]
          },
          "metadata": {
            "needs_background": "light"
          }
        }
      ]
    },
    {
      "cell_type": "code",
      "metadata": {
        "colab": {
          "base_uri": "https://localhost:8080/",
          "height": 318
        },
        "id": "n2BgM0yX2LQs",
        "outputId": "db217cef-28bf-4a69-a382-219ae3bd7cc0"
      },
      "source": [
        "train_losses, val_losses = CNNModelForAttribute(attributes[4], 'Adam', n_epochs=75)\n",
        "PrintGraphics(train_losses, val_losses)"
      ],
      "id": "n2BgM0yX2LQs",
      "execution_count": 219,
      "outputs": [
        {
          "output_type": "stream",
          "name": "stdout",
          "text": [
            "LeNet Сlassifier for  Mustache\n",
            "train f1 score:  0.23529411764705882\n",
            "test f1 score:  0.16666666666666666\n"
          ]
        },
        {
          "output_type": "display_data",
          "data": {
            "image/png": "[encoded data removed]",
            "text/plain": [
              "<Figure size 432x288 with 1 Axes>"
            ]
          },
          "metadata": {
            "needs_background": "light"
          }
        }
      ]
    },
    {
      "cell_type": "markdown",
      "metadata": {
        "id": "ZPIKevMi88y-"
      },
      "source": [
        "На плохо сбалансированных признаках сверточная нейросеть тоже показывает себя плохо."
      ],
      "id": "ZPIKevMi88y-"
    },
    {
      "cell_type": "markdown",
      "metadata": {
        "id": "fluid-header"
      },
      "source": [
        "## Статистика"
      ],
      "id": "fluid-header"
    },
    {
      "cell_type": "code",
      "metadata": {
        "colab": {
          "base_uri": "https://localhost:8080/",
          "height": 501
        },
        "id": "chronic-convention",
        "outputId": "181723b2-3a6e-4991-dcda-ce101a1784cd"
      },
      "source": [
        "stats_attributes = attributes * 5\n",
        "# print(model_adam_scores)\n",
        "stats = pd.DataFrame({'train_score': sgd_scores['train'] + tree_scores['train'] \\\n",
        "                      + model_adam_scores['train'] + model_sgd_scores['train'] \\\n",
        "                      + cnn_model_scores['train'], \n",
        "                      'test_score': sgd_scores['test'] + tree_scores['test'] \\\n",
        "                      + model_adam_scores['test'] + model_sgd_scores['test'] \\\n",
        "                      + cnn_model_scores['test'], \n",
        "                      'method' : ['sgd'] * 5 + ['forest'] * 5 + ['model (adam)'] * 5 + ['model (sgd)'] * 5 + ['cnn model'] * 5}, \n",
        "                     index=stats_attributes)\n",
        "\n",
        "plt.figure(figsize=(15,8))\n",
        "sns.barplot(data=stats, x=stats.index, y='train_score', hue='method')"
      ],
      "id": "chronic-convention",
      "execution_count": 254,
      "outputs": [
        {
          "output_type": "execute_result",
          "data": {
            "text/plain": [
              "<matplotlib.axes._subplots.AxesSubplot at 0x7f4de8bce4d0>"
            ]
          },
          "metadata": {},
          "execution_count": 254
        },
        {
          "output_type": "display_data",
          "data": {
            "image/png": "[encoded data removed]",
            "text/plain": [
              "<Figure size 1080x576 with 1 Axes>"
            ]
          },
          "metadata": {
            "needs_background": "light"
          }
        }
      ]
    },
    {
      "cell_type": "code",
      "metadata": {
        "id": "persistent-amendment",
        "colab": {
          "base_uri": "https://localhost:8080/",
          "height": 501
        },
        "outputId": "d9f4f8e4-cc77-4ec2-b3f7-62ccb3510d9c"
      },
      "source": [
        "plt.figure(figsize=(15,8))\n",
        "sns.barplot(data=stats, x=stats.index, y='test_score', hue='method')"
      ],
      "id": "persistent-amendment",
      "execution_count": 255,
      "outputs": [
        {
          "output_type": "execute_result",
          "data": {
            "text/plain": [
              "<matplotlib.axes._subplots.AxesSubplot at 0x7f4de8adc610>"
            ]
          },
          "metadata": {},
          "execution_count": 255
        },
        {
          "output_type": "display_data",
          "data": {
            "image/png": "[encoded data removed]",
            "text/plain": [
              "<Figure size 1080x576 with 1 Axes>"
            ]
          },
          "metadata": {
            "needs_background": "light"
          }
        }
      ]
    },
    {
      "cell_type": "markdown",
      "metadata": {
        "id": "ehPQNom5LqO5"
      },
      "source": [
        "На сбалансированных классах все методы справляются довольно хорошо, имеются лишь небольшие отличия. В то время как на плохо сбалансированных неплохой результат показывают только логистическая регрессия и полносвязная нейронная сеть."
      ],
      "id": "ehPQNom5LqO5"
    }
  ]
}